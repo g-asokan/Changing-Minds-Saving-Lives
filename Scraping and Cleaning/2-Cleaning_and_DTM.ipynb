{
 "cells": [
  {
   "cell_type": "markdown",
   "metadata": {},
   "source": [
    "# Cleaning and DTM"
   ]
  },
  {
   "cell_type": "code",
   "execution_count": 1,
   "metadata": {},
   "outputs": [],
   "source": [
    "import pandas as pd\n",
    "import pickle\n",
    "from nltk.tokenize import RegexpTokenizer\n",
    "from nltk.stem import WordNetLemmatizer\n",
    "import re\n",
    "from nltk.corpus import stopwords\n",
    "from many_stop_words import get_stop_words\n",
    "from sklearn.feature_extraction.text import CountVectorizer"
   ]
  },
  {
   "cell_type": "code",
   "execution_count": 2,
   "metadata": {},
   "outputs": [
    {
     "data": {
      "text/html": [
       "<div>\n",
       "<style scoped>\n",
       "    .dataframe tbody tr th:only-of-type {\n",
       "        vertical-align: middle;\n",
       "    }\n",
       "\n",
       "    .dataframe tbody tr th {\n",
       "        vertical-align: top;\n",
       "    }\n",
       "\n",
       "    .dataframe thead th {\n",
       "        text-align: right;\n",
       "    }\n",
       "</style>\n",
       "<table border=\"1\" class=\"dataframe\">\n",
       "  <thead>\n",
       "    <tr style=\"text-align: right;\">\n",
       "      <th></th>\n",
       "      <th>Permalink</th>\n",
       "      <th>Comment</th>\n",
       "    </tr>\n",
       "  </thead>\n",
       "  <tbody>\n",
       "    <tr>\n",
       "      <th>0</th>\n",
       "      <td>1456237437890333</td>\n",
       "      <td>Thank you</td>\n",
       "    </tr>\n",
       "    <tr>\n",
       "      <th>1</th>\n",
       "      <td>1456237437890333</td>\n",
       "      <td>Shouldn't we have backup on MeWe in case Faceb...</td>\n",
       "    </tr>\n",
       "    <tr>\n",
       "      <th>2</th>\n",
       "      <td>1456237437890333</td>\n",
       "      <td>See this</td>\n",
       "    </tr>\n",
       "    <tr>\n",
       "      <th>3</th>\n",
       "      <td>1456237437890333</td>\n",
       "      <td>Re-Open America</td>\n",
       "    </tr>\n",
       "    <tr>\n",
       "      <th>4</th>\n",
       "      <td>1456237437890333</td>\n",
       "      <td>Why did one person hit the laugh button on this?</td>\n",
       "    </tr>\n",
       "  </tbody>\n",
       "</table>\n",
       "</div>"
      ],
      "text/plain": [
       "          Permalink                                            Comment\n",
       "0  1456237437890333                                         Thank you \n",
       "1  1456237437890333  Shouldn't we have backup on MeWe in case Faceb...\n",
       "2  1456237437890333                                          See this \n",
       "3  1456237437890333                                    Re-Open America\n",
       "4  1456237437890333  Why did one person hit the laugh button on this? "
      ]
     },
     "execution_count": 2,
     "metadata": {},
     "output_type": "execute_result"
    }
   ],
   "source": [
    "comments = pd.read_csv('comments.csv')\n",
    "comments.head()"
   ]
  },
  {
   "cell_type": "code",
   "execution_count": 3,
   "metadata": {},
   "outputs": [
    {
     "data": {
      "text/html": [
       "<div>\n",
       "<style scoped>\n",
       "    .dataframe tbody tr th:only-of-type {\n",
       "        vertical-align: middle;\n",
       "    }\n",
       "\n",
       "    .dataframe tbody tr th {\n",
       "        vertical-align: top;\n",
       "    }\n",
       "\n",
       "    .dataframe thead th {\n",
       "        text-align: right;\n",
       "    }\n",
       "</style>\n",
       "<table border=\"1\" class=\"dataframe\">\n",
       "  <thead>\n",
       "    <tr style=\"text-align: right;\">\n",
       "      <th></th>\n",
       "      <th>Permalink</th>\n",
       "      <th>Post</th>\n",
       "    </tr>\n",
       "  </thead>\n",
       "  <tbody>\n",
       "    <tr>\n",
       "      <th>0</th>\n",
       "      <td>1462713730576037</td>\n",
       "      <td>CVS on that bs!</td>\n",
       "    </tr>\n",
       "    <tr>\n",
       "      <th>1</th>\n",
       "      <td>1462379490609461</td>\n",
       "      <td>I’ve never seen this much unrest in the states...</td>\n",
       "    </tr>\n",
       "    <tr>\n",
       "      <th>2</th>\n",
       "      <td>1462715223909221</td>\n",
       "      <td>ATTENTION BUSINESS OWNERS AND ALL THE MASKED P...</td>\n",
       "    </tr>\n",
       "    <tr>\n",
       "      <th>3</th>\n",
       "      <td>1461150450732365</td>\n",
       "      <td>This is whats wrong with attention seeking mil...</td>\n",
       "    </tr>\n",
       "    <tr>\n",
       "      <th>4</th>\n",
       "      <td>1462158127298264</td>\n",
       "      <td>Upset Californian Conservative</td>\n",
       "    </tr>\n",
       "  </tbody>\n",
       "</table>\n",
       "</div>"
      ],
      "text/plain": [
       "          Permalink                                               Post\n",
       "0  1462713730576037                                   CVS on that bs! \n",
       "1  1462379490609461  I’ve never seen this much unrest in the states...\n",
       "2  1462715223909221  ATTENTION BUSINESS OWNERS AND ALL THE MASKED P...\n",
       "3  1461150450732365  This is whats wrong with attention seeking mil...\n",
       "4  1462158127298264                     Upset Californian Conservative"
      ]
     },
     "execution_count": 3,
     "metadata": {},
     "output_type": "execute_result"
    }
   ],
   "source": [
    "posts = pd.read_csv('posts.csv')\n",
    "posts.head()"
   ]
  },
  {
   "cell_type": "code",
   "execution_count": 4,
   "metadata": {},
   "outputs": [
    {
     "data": {
      "text/html": [
       "<div>\n",
       "<style scoped>\n",
       "    .dataframe tbody tr th:only-of-type {\n",
       "        vertical-align: middle;\n",
       "    }\n",
       "\n",
       "    .dataframe tbody tr th {\n",
       "        vertical-align: top;\n",
       "    }\n",
       "\n",
       "    .dataframe thead th {\n",
       "        text-align: right;\n",
       "    }\n",
       "</style>\n",
       "<table border=\"1\" class=\"dataframe\">\n",
       "  <thead>\n",
       "    <tr style=\"text-align: right;\">\n",
       "      <th></th>\n",
       "      <th>Permalink</th>\n",
       "      <th>full_text</th>\n",
       "    </tr>\n",
       "  </thead>\n",
       "  <tbody>\n",
       "    <tr>\n",
       "      <th>0</th>\n",
       "      <td>1462713730576037</td>\n",
       "      <td>CVS on that bs!</td>\n",
       "    </tr>\n",
       "    <tr>\n",
       "      <th>1</th>\n",
       "      <td>1462379490609461</td>\n",
       "      <td>I’ve never seen this much unrest in the states...</td>\n",
       "    </tr>\n",
       "    <tr>\n",
       "      <th>2</th>\n",
       "      <td>1462715223909221</td>\n",
       "      <td>ATTENTION BUSINESS OWNERS AND ALL THE MASKED P...</td>\n",
       "    </tr>\n",
       "    <tr>\n",
       "      <th>3</th>\n",
       "      <td>1461150450732365</td>\n",
       "      <td>This is whats wrong with attention seeking mil...</td>\n",
       "    </tr>\n",
       "    <tr>\n",
       "      <th>4</th>\n",
       "      <td>1462158127298264</td>\n",
       "      <td>Upset Californian Conservative</td>\n",
       "    </tr>\n",
       "  </tbody>\n",
       "</table>\n",
       "</div>"
      ],
      "text/plain": [
       "          Permalink                                          full_text\n",
       "0  1462713730576037                                   CVS on that bs! \n",
       "1  1462379490609461  I’ve never seen this much unrest in the states...\n",
       "2  1462715223909221  ATTENTION BUSINESS OWNERS AND ALL THE MASKED P...\n",
       "3  1461150450732365  This is whats wrong with attention seeking mil...\n",
       "4  1462158127298264                     Upset Californian Conservative"
      ]
     },
     "execution_count": 4,
     "metadata": {},
     "output_type": "execute_result"
    }
   ],
   "source": [
    "# Combining the posts and comments in to one DataFrame \n",
    "comments.rename(columns = {'Comment': 'full_text'}, inplace=True)\n",
    "posts.rename(columns = {'Post':'full_text'}, inplace = True)\n",
    "\n",
    "all_text = pd.concat([posts, comments], sort = False, axis = 0, ignore_index = True)\n",
    "all_text.head()"
   ]
  },
  {
   "cell_type": "code",
   "execution_count": 5,
   "metadata": {},
   "outputs": [
    {
     "data": {
      "text/plain": [
       "4525"
      ]
     },
     "execution_count": 5,
     "metadata": {},
     "output_type": "execute_result"
    }
   ],
   "source": [
    "len(all_text)"
   ]
  },
  {
   "cell_type": "code",
   "execution_count": 6,
   "metadata": {},
   "outputs": [
    {
     "data": {
      "text/plain": [
       "4445"
      ]
     },
     "execution_count": 6,
     "metadata": {},
     "output_type": "execute_result"
    }
   ],
   "source": [
    "len(all_text.drop_duplicates(keep=False))"
   ]
  },
  {
   "cell_type": "code",
   "execution_count": 7,
   "metadata": {},
   "outputs": [
    {
     "data": {
      "text/html": [
       "<div>\n",
       "<style scoped>\n",
       "    .dataframe tbody tr th:only-of-type {\n",
       "        vertical-align: middle;\n",
       "    }\n",
       "\n",
       "    .dataframe tbody tr th {\n",
       "        vertical-align: top;\n",
       "    }\n",
       "\n",
       "    .dataframe thead th {\n",
       "        text-align: right;\n",
       "    }\n",
       "</style>\n",
       "<table border=\"1\" class=\"dataframe\">\n",
       "  <thead>\n",
       "    <tr style=\"text-align: right;\">\n",
       "      <th></th>\n",
       "      <th>Permalink</th>\n",
       "      <th>full_text</th>\n",
       "    </tr>\n",
       "  </thead>\n",
       "  <tbody>\n",
       "    <tr>\n",
       "      <th>119</th>\n",
       "      <td>1462713730576037</td>\n",
       "      <td>Not law</td>\n",
       "    </tr>\n",
       "    <tr>\n",
       "      <th>138</th>\n",
       "      <td>1462713730576037</td>\n",
       "      <td>Not a law</td>\n",
       "    </tr>\n",
       "    <tr>\n",
       "      <th>698</th>\n",
       "      <td>1461150450732365</td>\n",
       "      <td>Fake</td>\n",
       "    </tr>\n",
       "    <tr>\n",
       "      <th>729</th>\n",
       "      <td>1461150450732365</td>\n",
       "      <td>NaN</td>\n",
       "    </tr>\n",
       "    <tr>\n",
       "      <th>828</th>\n",
       "      <td>1461150450732365</td>\n",
       "      <td>NaN</td>\n",
       "    </tr>\n",
       "  </tbody>\n",
       "</table>\n",
       "</div>"
      ],
      "text/plain": [
       "            Permalink  full_text\n",
       "119  1462713730576037    Not law\n",
       "138  1462713730576037  Not a law\n",
       "698  1461150450732365       Fake\n",
       "729  1461150450732365        NaN\n",
       "828  1461150450732365        NaN"
      ]
     },
     "execution_count": 7,
     "metadata": {},
     "output_type": "execute_result"
    }
   ],
   "source": [
    "all_text[all_text.duplicated()].head()"
   ]
  },
  {
   "cell_type": "code",
   "execution_count": 8,
   "metadata": {},
   "outputs": [
    {
     "data": {
      "text/html": [
       "<div>\n",
       "<style scoped>\n",
       "    .dataframe tbody tr th:only-of-type {\n",
       "        vertical-align: middle;\n",
       "    }\n",
       "\n",
       "    .dataframe tbody tr th {\n",
       "        vertical-align: top;\n",
       "    }\n",
       "\n",
       "    .dataframe thead th {\n",
       "        text-align: right;\n",
       "    }\n",
       "</style>\n",
       "<table border=\"1\" class=\"dataframe\">\n",
       "  <thead>\n",
       "    <tr style=\"text-align: right;\">\n",
       "      <th></th>\n",
       "      <th>Permalink</th>\n",
       "      <th>full_text</th>\n",
       "    </tr>\n",
       "  </thead>\n",
       "  <tbody>\n",
       "    <tr>\n",
       "      <th>0</th>\n",
       "      <td>1462713730576037</td>\n",
       "      <td>CVS on that bs!</td>\n",
       "    </tr>\n",
       "    <tr>\n",
       "      <th>1</th>\n",
       "      <td>1462379490609461</td>\n",
       "      <td>I’ve never seen this much unrest in the states...</td>\n",
       "    </tr>\n",
       "    <tr>\n",
       "      <th>2</th>\n",
       "      <td>1462715223909221</td>\n",
       "      <td>ATTENTION BUSINESS OWNERS AND ALL THE MASKED P...</td>\n",
       "    </tr>\n",
       "    <tr>\n",
       "      <th>3</th>\n",
       "      <td>1461150450732365</td>\n",
       "      <td>This is whats wrong with attention seeking mil...</td>\n",
       "    </tr>\n",
       "    <tr>\n",
       "      <th>4</th>\n",
       "      <td>1462158127298264</td>\n",
       "      <td>Upset Californian Conservative</td>\n",
       "    </tr>\n",
       "  </tbody>\n",
       "</table>\n",
       "</div>"
      ],
      "text/plain": [
       "          Permalink                                          full_text\n",
       "0  1462713730576037                                   CVS on that bs! \n",
       "1  1462379490609461  I’ve never seen this much unrest in the states...\n",
       "2  1462715223909221  ATTENTION BUSINESS OWNERS AND ALL THE MASKED P...\n",
       "3  1461150450732365  This is whats wrong with attention seeking mil...\n",
       "4  1462158127298264                     Upset Californian Conservative"
      ]
     },
     "execution_count": 8,
     "metadata": {},
     "output_type": "execute_result"
    }
   ],
   "source": [
    "all_text.drop_duplicates(keep=False, inplace = True)\n",
    "all_text.head()"
   ]
  },
  {
   "cell_type": "code",
   "execution_count": 9,
   "metadata": {},
   "outputs": [
    {
     "data": {
      "text/plain": [
       "73"
      ]
     },
     "execution_count": 9,
     "metadata": {},
     "output_type": "execute_result"
    }
   ],
   "source": [
    "len(all_text[all_text.duplicated(['full_text'])])"
   ]
  },
  {
   "cell_type": "code",
   "execution_count": 10,
   "metadata": {},
   "outputs": [
    {
     "data": {
      "text/html": [
       "<div>\n",
       "<style scoped>\n",
       "    .dataframe tbody tr th:only-of-type {\n",
       "        vertical-align: middle;\n",
       "    }\n",
       "\n",
       "    .dataframe tbody tr th {\n",
       "        vertical-align: top;\n",
       "    }\n",
       "\n",
       "    .dataframe thead th {\n",
       "        text-align: right;\n",
       "    }\n",
       "</style>\n",
       "<table border=\"1\" class=\"dataframe\">\n",
       "  <thead>\n",
       "    <tr style=\"text-align: right;\">\n",
       "      <th></th>\n",
       "      <th>Permalink</th>\n",
       "      <th>full_text</th>\n",
       "    </tr>\n",
       "  </thead>\n",
       "  <tbody>\n",
       "    <tr>\n",
       "      <th>26</th>\n",
       "      <td>?__cft__[0]=AZXDQ5qNWO5x_H6szjyXy-59U3EyBGL0Yx...</td>\n",
       "      <td>CVS on that bs!</td>\n",
       "    </tr>\n",
       "    <tr>\n",
       "      <th>161</th>\n",
       "      <td>1462713730576037</td>\n",
       "      <td>We are residents of The great US of A that sta...</td>\n",
       "    </tr>\n",
       "    <tr>\n",
       "      <th>562</th>\n",
       "      <td>1462379490609461</td>\n",
       "      <td>We are residents of The great US of A that sta...</td>\n",
       "    </tr>\n",
       "    <tr>\n",
       "      <th>581</th>\n",
       "      <td>1462715223909221</td>\n",
       "      <td>We are residents of The great US of A that sta...</td>\n",
       "    </tr>\n",
       "    <tr>\n",
       "      <th>876</th>\n",
       "      <td>1461150450732365</td>\n",
       "      <td>We are residents of The great US of A that sta...</td>\n",
       "    </tr>\n",
       "    <tr>\n",
       "      <th>...</th>\n",
       "      <td>...</td>\n",
       "      <td>...</td>\n",
       "    </tr>\n",
       "    <tr>\n",
       "      <th>4511</th>\n",
       "      <td>1459184227595654</td>\n",
       "      <td>We are residents of The great US of A that sta...</td>\n",
       "    </tr>\n",
       "    <tr>\n",
       "      <th>4512</th>\n",
       "      <td>?__cft__[0]=AZXDQ5qNWO5x_H6szjyXy-59U3EyBGL0Yx...</td>\n",
       "      <td>Thank you for the invite.  Have a Great Memori...</td>\n",
       "    </tr>\n",
       "    <tr>\n",
       "      <th>4513</th>\n",
       "      <td>?__cft__[0]=AZXDQ5qNWO5x_H6szjyXy-59U3EyBGL0Yx...</td>\n",
       "      <td>What this silly meme fails to mention is almos...</td>\n",
       "    </tr>\n",
       "    <tr>\n",
       "      <th>4521</th>\n",
       "      <td>?__cft__[0]=AZXDQ5qNWO5x_H6szjyXy-59U3EyBGL0Yx...</td>\n",
       "      <td>We are residents of The great US of A that sta...</td>\n",
       "    </tr>\n",
       "    <tr>\n",
       "      <th>4524</th>\n",
       "      <td>1462683900579020</td>\n",
       "      <td>We are residents of The great US of A that sta...</td>\n",
       "    </tr>\n",
       "  </tbody>\n",
       "</table>\n",
       "<p>73 rows × 2 columns</p>\n",
       "</div>"
      ],
      "text/plain": [
       "                                              Permalink  \\\n",
       "26    ?__cft__[0]=AZXDQ5qNWO5x_H6szjyXy-59U3EyBGL0Yx...   \n",
       "161                                    1462713730576037   \n",
       "562                                    1462379490609461   \n",
       "581                                    1462715223909221   \n",
       "876                                    1461150450732365   \n",
       "...                                                 ...   \n",
       "4511                                   1459184227595654   \n",
       "4512  ?__cft__[0]=AZXDQ5qNWO5x_H6szjyXy-59U3EyBGL0Yx...   \n",
       "4513  ?__cft__[0]=AZXDQ5qNWO5x_H6szjyXy-59U3EyBGL0Yx...   \n",
       "4521  ?__cft__[0]=AZXDQ5qNWO5x_H6szjyXy-59U3EyBGL0Yx...   \n",
       "4524                                   1462683900579020   \n",
       "\n",
       "                                              full_text  \n",
       "26                                     CVS on that bs!   \n",
       "161   We are residents of The great US of A that sta...  \n",
       "562   We are residents of The great US of A that sta...  \n",
       "581   We are residents of The great US of A that sta...  \n",
       "876   We are residents of The great US of A that sta...  \n",
       "...                                                 ...  \n",
       "4511  We are residents of The great US of A that sta...  \n",
       "4512  Thank you for the invite.  Have a Great Memori...  \n",
       "4513  What this silly meme fails to mention is almos...  \n",
       "4521  We are residents of The great US of A that sta...  \n",
       "4524  We are residents of The great US of A that sta...  \n",
       "\n",
       "[73 rows x 2 columns]"
      ]
     },
     "execution_count": 10,
     "metadata": {},
     "output_type": "execute_result"
    }
   ],
   "source": [
    "#This was the description of the page that kept getting aggregated over and over on different post pages\n",
    "all_text[all_text.duplicated(['full_text'])]"
   ]
  },
  {
   "cell_type": "code",
   "execution_count": 11,
   "metadata": {},
   "outputs": [],
   "source": [
    "all_text.drop_duplicates(subset = 'full_text', keep=False, inplace = True)"
   ]
  },
  {
   "cell_type": "code",
   "execution_count": 12,
   "metadata": {},
   "outputs": [
    {
     "data": {
      "text/html": [
       "<div>\n",
       "<style scoped>\n",
       "    .dataframe tbody tr th:only-of-type {\n",
       "        vertical-align: middle;\n",
       "    }\n",
       "\n",
       "    .dataframe tbody tr th {\n",
       "        vertical-align: top;\n",
       "    }\n",
       "\n",
       "    .dataframe thead th {\n",
       "        text-align: right;\n",
       "    }\n",
       "</style>\n",
       "<table border=\"1\" class=\"dataframe\">\n",
       "  <thead>\n",
       "    <tr style=\"text-align: right;\">\n",
       "      <th></th>\n",
       "      <th>Permalink</th>\n",
       "      <th>full_text</th>\n",
       "    </tr>\n",
       "  </thead>\n",
       "  <tbody>\n",
       "    <tr>\n",
       "      <th>1</th>\n",
       "      <td>1462379490609461</td>\n",
       "      <td>I’ve never seen this much unrest in the states...</td>\n",
       "    </tr>\n",
       "    <tr>\n",
       "      <th>2</th>\n",
       "      <td>1462715223909221</td>\n",
       "      <td>ATTENTION BUSINESS OWNERS AND ALL THE MASKED P...</td>\n",
       "    </tr>\n",
       "    <tr>\n",
       "      <th>3</th>\n",
       "      <td>1461150450732365</td>\n",
       "      <td>This is whats wrong with attention seeking mil...</td>\n",
       "    </tr>\n",
       "    <tr>\n",
       "      <th>4</th>\n",
       "      <td>1462158127298264</td>\n",
       "      <td>Upset Californian Conservative</td>\n",
       "    </tr>\n",
       "    <tr>\n",
       "      <th>5</th>\n",
       "      <td>1462708023909941</td>\n",
       "      <td>Live Stream. CREW dragon launch.</td>\n",
       "    </tr>\n",
       "  </tbody>\n",
       "</table>\n",
       "</div>"
      ],
      "text/plain": [
       "          Permalink                                          full_text\n",
       "1  1462379490609461  I’ve never seen this much unrest in the states...\n",
       "2  1462715223909221  ATTENTION BUSINESS OWNERS AND ALL THE MASKED P...\n",
       "3  1461150450732365  This is whats wrong with attention seeking mil...\n",
       "4  1462158127298264                     Upset Californian Conservative\n",
       "5  1462708023909941                   Live Stream. CREW dragon launch."
      ]
     },
     "execution_count": 12,
     "metadata": {},
     "output_type": "execute_result"
    }
   ],
   "source": [
    "all_text.head()"
   ]
  },
  {
   "cell_type": "code",
   "execution_count": 13,
   "metadata": {},
   "outputs": [
    {
     "data": {
      "text/plain": [
       "4345"
      ]
     },
     "execution_count": 13,
     "metadata": {},
     "output_type": "execute_result"
    }
   ],
   "source": [
    "len(all_text)"
   ]
  },
  {
   "cell_type": "code",
   "execution_count": 14,
   "metadata": {},
   "outputs": [
    {
     "data": {
      "text/plain": [
       "0"
      ]
     },
     "execution_count": 14,
     "metadata": {},
     "output_type": "execute_result"
    }
   ],
   "source": [
    "len(all_text[all_text['full_text'].isnull()])"
   ]
  },
  {
   "cell_type": "code",
   "execution_count": 15,
   "metadata": {},
   "outputs": [],
   "source": [
    "#Cleaning up the full text\n",
    "def pre_processing_data(raw_text):\n",
    "    letters_only = re.sub(\"[^a-zA-Z]\", \" \", raw_text) #pull only words\n",
    "    tokenizer = RegexpTokenizer(r'\\w+')#tokenize\n",
    "    text_tokens = tokenizer.tokenize(letters_only.lower()) #make everything lower case\n",
    "    remove_stopwords = [w for w in text_tokens if w not in stopwords.words('english')] #remove english stopwords \n",
    "\n",
    "    return(\" \".join(remove_stopwords))"
   ]
  },
  {
   "cell_type": "code",
   "execution_count": 16,
   "metadata": {},
   "outputs": [
    {
     "data": {
      "text/html": [
       "<div>\n",
       "<style scoped>\n",
       "    .dataframe tbody tr th:only-of-type {\n",
       "        vertical-align: middle;\n",
       "    }\n",
       "\n",
       "    .dataframe tbody tr th {\n",
       "        vertical-align: top;\n",
       "    }\n",
       "\n",
       "    .dataframe thead th {\n",
       "        text-align: right;\n",
       "    }\n",
       "</style>\n",
       "<table border=\"1\" class=\"dataframe\">\n",
       "  <thead>\n",
       "    <tr style=\"text-align: right;\">\n",
       "      <th></th>\n",
       "      <th>Permalink</th>\n",
       "      <th>full_text</th>\n",
       "      <th>text</th>\n",
       "    </tr>\n",
       "  </thead>\n",
       "  <tbody>\n",
       "    <tr>\n",
       "      <th>1</th>\n",
       "      <td>1462379490609461</td>\n",
       "      <td>I’ve never seen this much unrest in the states...</td>\n",
       "      <td>never seen much unrest states anyone else</td>\n",
       "    </tr>\n",
       "    <tr>\n",
       "      <th>2</th>\n",
       "      <td>1462715223909221</td>\n",
       "      <td>ATTENTION BUSINESS OWNERS AND ALL THE MASKED P...</td>\n",
       "      <td>attention business owners masked people severi...</td>\n",
       "    </tr>\n",
       "    <tr>\n",
       "      <th>3</th>\n",
       "      <td>1461150450732365</td>\n",
       "      <td>This is whats wrong with attention seeking mil...</td>\n",
       "      <td>whats wrong attention seeking millenials young...</td>\n",
       "    </tr>\n",
       "    <tr>\n",
       "      <th>4</th>\n",
       "      <td>1462158127298264</td>\n",
       "      <td>Upset Californian Conservative</td>\n",
       "      <td>upset californian conservative</td>\n",
       "    </tr>\n",
       "    <tr>\n",
       "      <th>5</th>\n",
       "      <td>1462708023909941</td>\n",
       "      <td>Live Stream. CREW dragon launch.</td>\n",
       "      <td>live stream crew dragon launch</td>\n",
       "    </tr>\n",
       "  </tbody>\n",
       "</table>\n",
       "</div>"
      ],
      "text/plain": [
       "          Permalink                                          full_text  \\\n",
       "1  1462379490609461  I’ve never seen this much unrest in the states...   \n",
       "2  1462715223909221  ATTENTION BUSINESS OWNERS AND ALL THE MASKED P...   \n",
       "3  1461150450732365  This is whats wrong with attention seeking mil...   \n",
       "4  1462158127298264                     Upset Californian Conservative   \n",
       "5  1462708023909941                   Live Stream. CREW dragon launch.   \n",
       "\n",
       "                                                text  \n",
       "1          never seen much unrest states anyone else  \n",
       "2  attention business owners masked people severi...  \n",
       "3  whats wrong attention seeking millenials young...  \n",
       "4                     upset californian conservative  \n",
       "5                     live stream crew dragon launch  "
      ]
     },
     "execution_count": 16,
     "metadata": {},
     "output_type": "execute_result"
    }
   ],
   "source": [
    "all_text['text'] = [pre_processing_data(string) for string in all_text['full_text']]\n",
    "all_text.head()"
   ]
  },
  {
   "cell_type": "code",
   "execution_count": 17,
   "metadata": {},
   "outputs": [
    {
     "name": "stdout",
     "output_type": "stream",
     "text": [
      "32610\n",
      "6990\n"
     ]
    }
   ],
   "source": [
    "#Visually examining the unique words used in all the posts and comments\n",
    "all_words = []\n",
    "\n",
    "for i in all_text.index:\n",
    "    list_words = all_text.text[i].split(' ')\n",
    "    for j in list_words:     \n",
    "        all_words.append(j.strip())\n",
    "print(len(all_words))\n",
    "print(len(set(all_words)))\n",
    "\n",
    "unique_words = set(all_words)"
   ]
  },
  {
   "cell_type": "code",
   "execution_count": 18,
   "metadata": {},
   "outputs": [
    {
     "name": "stdout",
     "output_type": "stream",
     "text": [
      "['', 'aaa', 'aaaaaevgncl', 'aakiydertvy', 'aaron', 'abandonment', 'abbot', 'abbott', 'abc', 'abdus', 'abhorrence', 'abide', 'abiding', 'ability', 'able', 'ablousty', 'abnormal', 'abnormalist', 'abnoxious', 'abolishing', 'abortion', 'abou', 'abounds', 'abrams', 'abridging', 'abso', 'absolute', 'absolutely', 'absurd', 'absurdity', 'abuse', 'abusing', 'abusive', 'accept', 'acceptable', 'accepting', 'accidentally', 'accidents', 'accommodation', 'accomplish', 'according', 'accountable', 'accuracy', 'accurate', 'accustomed', 'aches', 'aclu', 'across', 'act', 'acted', 'acting', 'action', 'actions', 'activate', 'activist', 'activists', 'activity', 'actor', 'actress', 'acts', 'actual', 'actually', 'acxlvanlusssg', 'ad', 'ada', 'adam', 'adams', 'add', 'added', 'addition', 'additional', 'address', 'adds', 'adios', 'adjustment', 'adkins', 'adlib', 'admin', 'administered', 'administrati', 'administration', 'admit', 'admits', 'admitted', 'adolf', 'adore', 'adrenochrome', 'adrrqq', 'ads', 'adult', 'adults', 'adventure', 'advice', 'advise', 'advised', 'advocated', 'aei', 'af', 'affected', 'affects', 'affirmative', 'afghanistan', 'afn', 'afraid', 'afrosheen', 'afternoon', 'ag', 'againts', 'agaisnt', 'agbarr', 'age', 'aged', 'agency', 'agenda', 'agendas', 'ago', 'agon', 'agp', 'agree', 'agreed', 'agrees', 'agriculture', 'ahead', 'ahmed', 'ahna', 'aid', 'aids', 'aiming', 'aint', 'air', 'airway', 'aisle', 'ak', 'aka', 'al', 'alabama', 'alamance', 'alarcon', 'alarm', 'albeit', 'albert', 'albonetti', 'alegandro', 'alert', 'alex', 'alien', 'aliens', 'alison', 'alive', 'allegedly', 'alleman', 'allen', 'allergies', 'allfrom', 'allison', 'allow', 'allowed', 'allowing', 'allows', 'alls', 'allthe', 'almost', 'alone', 'along', 'alot', 'already', 'alright', 'also', 'alsoi', 'although', 'alway', 'always', 'alyssa', 'amazed', 'amazing', 'amazingly', 'amazon', 'amber', 'ambulances', 'amd', 'amen', 'amendment', 'amendments', 'america', 'american', 'americans', 'amiable', 'ammo', 'among', 'amongst', 'amount', 'amp', 'amphianda', 'amusement', 'amusing', 'anal', 'analysis', 'anarchy', 'ancestors', 'anctil', 'anderson', 'andrew', 'andstate', 'angel', 'angela', 'angeles', 'anger', 'angles', 'angry', 'animal', 'animals', 'anis', 'ankle', 'ann', 'annamarie', 'anne', 'annette', 'announce', 'announced', 'announcement', 'annoying', 'another', 'answer', 'answered', 'anthony', 'anti', 'antibodies', 'antibody', 'antifa', 'antita', 'antt', 'anxietied', 'anybody', 'anyhing', 'anymore', 'anyone', 'anyones', 'anything', 'anytime', 'anyway', 'anyways', 'anywhere', 'aoc', 'apart', 'apartment', 'apocalypse', 'apocalyptic', 'app', 'appalled', 'appalling', 'apparently', 'appeal', 'appealed', 'appeals', 'appear', 'appearance', 'appears', 'applegate', 'apples', 'applied', 'applies', 'apply', 'applying', 'appointed', 'appointment', 'appoints', 'appox', 'apprantley', 'appreciated', 'approach', 'approaching', 'appropriate', 'appropriately', 'appropriating', 'approval', 'approve', 'approved', 'apps', 'april', 'aqfmhlqfesmb', 'arbery', 'arcevedo', 'archer', 'area', 'areas', 'arent', 'argue', 'argument', 'arguments', 'arizona', 'arlington', 'arm', 'armed', 'armijo', 'arming', 'arms', 'armstrong', 'arnie', 'arnold', 'around', 'arrest', 'arrested', 'arresting', 'arrests', 'arrived', 'arrogant', 'arson', 'arthur', 'article', 'articles', 'artist', 'asap', 'asian', 'aside', 'asinine', 'ask', 'asked', 'asking', 'asl', 'asleep', 'aspect', 'ass', 'assassinated', 'assassination', 'assemble', 'assembly', 'asses', 'asshats', 'asshole', 'assholes', 'assistance', 'associate', 'assume', 'assumed', 'assumptions', 'asthma', 'astonished', 'astounding', 'astronauts', 'asymptomatic', 'ata', 'ate', 'atest', 'atheistic', 'atleast', 'atm', 'attack', 'attacked', 'attacking', 'attacks', 'attempt', 'attempted', 'attempting', 'attend', 'attended', 'attention', 'attitude', 'attorney', 'auction', 'august', 'aundrea', 'auntie', 'aura', 'australia', 'authoritarian', 'authorities', 'authority', 'autopsy', 'available', 'average', 'avoid', 'avoidable', 'aw', 'await', 'awake', 'awakening', 'aware', 'away', 'awesome', 'awful', 'ax', 'azzzzz', 'b', 'baaaaa', 'baaaaaaa', 'baaaaaaaaa', 'baaaaahh', 'babba', 'babbling', 'babies', 'baboon', 'baby', 'back', 'backbone', 'backed', 'background', 'backpedaling', 'backs', 'backside', 'backstage', 'backup', 'bacteria', 'bad', 'badass', 'badge', 'badly', 'bag', 'bagley', 'bags', 'bail', 'bailey', 'bait', 'baiting', 'bake', 'baker', 'balanced', 'baldwin', 'ball', 'ballot', 'ballots', 'balls', 'baltimore', 'bama', 'ban', 'band', 'bandana', 'bani', 'bank', 'bankert', 'bankrupt', 'bankruptcy', 'banks', 'banned', 'bar', 'barb', 'barber', 'barely', 'barnes', 'barr', 'barragan', 'barton', 'base', 'baseball', 'based', 'basement', 'bashing', 'basic', 'basically', 'basis', 'baskett', 'bass', 'bastards', 'bastille', 'bastion', 'bat', 'bathroom', 'batman', 'bato', 'bats', 'battle', 'battling', 'bavkfire', 'bay', 'bbq', 'bc', 'beacause', 'beach', 'beaches', 'beachtimeapp', 'beamish', 'beat', 'beatch', 'beating', 'beatle', 'beatlejuice', 'beau', 'beautiful', 'beauty', 'became', 'becca', 'become', 'becomes', 'becoming', 'becuz', 'bed', 'bedridden', 'beds', 'beene', 'beer', 'beetle', 'beetlebitch', 'beetlegeuse', 'beetlejuice', 'beety', 'beforehand', 'beg', 'began', 'begged', 'begging', 'begin', 'beginning', 'begins', 'begone', 'behalf', 'behavior', 'behind', 'behold', 'beings', 'bel', 'beliefs', 'believe', 'believer', 'believes', 'believing', 'belinda', 'bell', 'belly', 'beloved', 'belt', 'bench', 'bending', 'benefit', 'benefits', 'benevolent', 'benny', 'benoit', 'berating', 'berkeley', 'bernie', 'bernstein', 'bert', 'bertrand', 'beside', 'besides', 'best', 'bet', 'betelgeuse', 'beth', 'betray', 'bets', 'betsy', 'better', 'bettlejuice', 'betty', 'betz', 'beverly', 'beware', 'beyind', 'beyond', 'bezold', 'bi', 'biale', 'bias', 'biased', 'bible', 'biblical', 'bich', 'bid', 'biden', 'bidness', 'big', 'bigest', 'bigger', 'biggest', 'bigone', 'bigot', 'bike', 'bill', 'billie', 'billinda', 'billionaires', 'bills', 'billy', 'bimbo', 'bingham', 'bingo', 'birthrights', 'bishop', 'bit', 'bitch', 'bitched', 'bitching', 'bitchute', 'bitchy', 'bite', 'bites', 'bitter', 'bizarre', 'bjorn', 'bk', 'bla', 'black', 'blacklivesstillmatter', 'blacks', 'blah', 'blair', 'blake', 'blame', 'blamed', 'blancofromdabronx', 'blanket', 'blankets', 'blanton', 'blasingame', 'blast', 'blasted', 'blatant', 'blatter', 'bldg', 'blems', 'bless', 'blick', 'blind', 'blindly', 'blink', 'blm', 'blood', 'blooded', 'bloomberg', 'blow', 'blown', 'bltt', 'blue', 'blues', 'bo', 'board', 'boarders', 'boards', 'boat', 'bob', 'bobby', 'bochra', 'bodies', 'body', 'boil', 'boiled', 'boise', 'bolster', 'bombing', 'bombshell', 'bongo', 'bonin', 'bonnett', 'bonnie', 'boob', 'book', 'books', 'boom', 'boomer', 'boomers', 'boooooooi', 'booster', 'boot', 'booth', 'boots', 'booty', 'boov', 'borders', 'boring', 'born', 'borrow', 'boss', 'boston', 'bot', 'bother', 'bottom', 'bought', 'bouguerra', 'bound', 'boundaries', 'bounds', 'bourdon', 'bout', 'bowling', 'bowman', 'box', 'boxcars', 'boxes', 'boy', 'boycot', 'boycott', 'boycotting', 'boys', 'bozo', 'bppcfh', 'braasch', 'brad', 'brain', 'brainchild', 'brains', 'brainwash', 'brainwashed', 'brainwashing', 'branches', 'brandon', 'brandy', 'brat', 'brave', 'brazil', 'bread', 'break', 'breakables', 'breaking', 'breaks', 'breakuptheninth', 'breath', 'breathe', 'breathers', 'breathing', 'brenda', 'brewing', 'brian', 'bribe', 'brick', 'bricks', 'bride', 'bridge', 'bridges', 'brief', 'bright', 'bring', 'bringing', 'brings', 'brittany', 'bro', 'broke', 'broken', 'brooks', 'brotha', 'brother', 'brothers', 'brotherton', 'brought', 'brown', 'brownstain', 'brows', 'bruce', 'bruner', 'brusin', 'brutality', 'bryan', 'bs', 'bta', 'btw', 'bubble', 'buck', 'buckelew', 'buckley', 'buckwheat', 'bucmfzwvyrlnfa', 'bud', 'buddy', 'buesgen', 'buffet', 'buffy', 'buftkkkked', 'bug', 'build', 'building', 'buildings', 'built', 'bull', 'bullet', 'bullets', 'bullied', 'bullies', 'bullinger', 'bullshit', 'bullshyt', 'bully', 'bunch', 'bureaucrat', 'burgers', 'burmaster', 'burn', 'burned', 'burning', 'burnings', 'burns', 'burrell', 'burtch', 'bush', 'business', 'businesses', 'busted', 'busy', 'bute', 'butry', 'butt', 'butter', 'butthead', 'button', 'butts', 'buy', 'buying', 'buzzards', 'bxvx', 'bye', 'bypassed', 'bys', 'c', 'ca', 'cabal', 'cabana', 'cabin', 'cable', 'cage', 'cago', 'cains', 'cake', 'calculators', 'caleb', 'cali', 'califonistans', 'california', 'californiagoesredagain', 'californian', 'californians', 'californium', 'call', 'called', 'callen', 'calling', 'callous', 'calls', 'calm', 'caltabiano', 'came', 'camera', 'cameraman', 'cameras', 'camp', 'campaign', 'campaigns', 'campbell', 'camping', 'camps', 'campus', 'canaveral', 'cancel', 'canceled', 'cancelled', 'cancer', 'candidate', 'candle', 'candy', 'canine', 'cannibis', 'cannon', 'cannons', 'cannot', 'cannulas', 'cant', 'capable', 'capacity', 'cape', 'capicity', 'capital', 'capitalism', 'capitalists', 'capitol', 'cappuchin', 'car', 'carboard', 'carbon', 'card', 'care', 'career', 'careful', 'cares', 'carolina', 'carolyn', 'carona', 'carpe', 'carrot', 'carry', 'carrying', 'cars', 'cart', 'carter', 'carts', 'case', 'cases', 'cash', 'cassandra', 'cast', 'casualties', 'casualty', 'catastrophe', 'catch', 'catches', 'catching', 'cato', 'catron', 'caucasian', 'caught', 'cause', 'caused', 'causes', 'causeway', 'causing', 'cautiously', 'cave', 'cbd', 'cd', 'cdc', 'cdcs', 'celebrate', 'celebrations', 'celebrities', 'cells', 'cemeteries', 'census', 'cent', 'center', 'centered', 'cents', 'ceo', 'certain', 'certainly', 'certifiably', 'certify', 'cesspool', 'cf', 'ch', 'chace', 'chaffin', 'chain', 'chair', 'challenge', 'challengers', 'chamber', 'chance', 'chances', 'change', 'changed', 'changes', 'changing', 'channel', 'channels', 'chaos', 'chapman', 'chaps', 'char', 'character', 'characteristically', 'charalambous', 'charge', 'charged', 'charges', 'chargi', 'charging', 'charita', 'charlie', 'charlottesville', 'chart', 'chase', 'chasematheson', 'chasers', 'chastising', 'chau', 'chauvin', 'cheap', 'cheat', 'check', 'checking', 'checkout', 'checks', 'cheering', 'chelkonas', 'chelsea', 'cheney', 'cher', 'cheryl', 'chest', 'chf', 'chicago', 'chicagoans', 'chicagoland', 'chick', 'chicken', 'chickenshit', 'chief', 'child', 'childcare', 'children', 'chill', 'china', 'chinese', 'chip', 'chipped', 'chips', 'chisholm', 'chitcago', 'chloroquine', 'choice', 'choices', 'choir', 'choirs', 'choise', 'choked', 'choose', 'choosing', 'chose', 'chosen', 'chotkevys', 'chp', 'chris', 'christ', 'christi', 'christian', 'christianity', 'christians', 'christina', 'christine', 'christopher', 'chuck', 'church', 'churches', 'ci', 'cibola', 'cigarette', 'circe', 'circle', 'circling', 'circuit', 'circumstances', 'circumvent', 'circus', 'circut', 'cirillo', 'citation', 'cities', 'citizen', 'citizens', 'city', 'civics', 'civil', 'civilized', 'cktarded', 'claim', 'claimed', 'claiming', 'claims', 'claisse', 'clarifying', 'clark', 'clash', 'class', 'classes', 'classic', 'clean', 'cleaned', 'cleaning', 'clear', 'clearing', 'clearly', 'clears', 'clement', 'clerk', 'clever', 'click', 'clients', 'cliff', 'climate', 'climb', 'clinic', 'clinics', 'clinton', 'clip', 'clock', 'clone', 'close', 'closed', 'closer', 'closest', 'closet', 'closing', 'closure', 'closures', 'cloth', 'clothes', 'clothing', 'cloudy', 'clown', 'clowns', 'club', 'clubs', 'clueless', 'cnn', 'co', 'coca', 'cocksuckers', 'cocktail', 'cocoa', 'coe', 'coffee', 'cohorts', 'coincidence', 'coincidental', 'col', 'cola', 'colbey', 'cold', 'cole', 'coleman', 'collapsing', 'collect', 'collecting', 'collective', 'college', 'collin', 'collins', 'color', 'colorado', 'colored', 'colors', 'com', 'combat', 'combed', 'combined', 'combining', 'come', 'comeback', 'comes', 'comfortable', 'comical', 'coming', 'commander', 'commands', 'comment', 'commenting', 'comments', 'commercial', 'commie', 'commiefornia', 'commies', 'commifornia', 'commit', 'committed', 'committing', 'common', 'communicate', 'communication', 'communism', 'communist', 'communists', 'communities', 'community', 'commy', 'comnist', 'como', 'comp', 'companies', 'company', 'comparable', 'compare', 'compared', 'comparing', 'comparison', 'compartments', 'compassion', 'compel', 'competition', 'complacency', 'complacent', 'complain', 'complaining', 'complaint', 'complete', 'completely', 'complex', 'compliance', 'compliant', 'complications', 'complicit', 'complied', 'comply', 'complying', 'composed', 'comprehend', 'compromise', 'computer', 'comrades', 'comy', 'conceal', 'concentrating', 'concentration', 'concept', 'concerned', 'concerning', 'concur', 'condemn', 'condemned', 'condition', 'conditioned', 'conditioning', 'conditions', 'condom', 'conduct', 'conerly', 'confess', 'confidence', 'confirmed', 'confiscate', 'conflict', 'conform', 'conforming', 'confrontation', 'confused', 'congratulations', 'congregation', 'congregations', 'congress', 'congressman', 'conjunction', 'connected', 'connie', 'connors', 'conquer', 'consequences', 'conserned', 'conservative', 'conservatives', 'consider', 'considered', 'considering', 'consistent', 'consistently', 'conspiracy', 'constant', 'constantly', 'constituants', 'constituents', 'constitut', 'constitution', 'constitutional', 'constituton', 'construction', 'consumer', 'contact', 'contacting', 'containment', 'contaminate', 'contaminated', 'contamination', 'contest', 'contested', 'continually', 'continue', 'continued', 'continues', 'contract', 'contracted', 'contraction', 'contractor', 'contracts', 'contrived', 'control', 'controlitis', 'controllavirusplanneddemic', 'controlled', 'controlling', 'convenience', 'convention', 'conversation', 'conveys', 'convict', 'convicted', 'conviction', 'convicts', 'convinced', 'coo', 'cook', 'cool', 'cooper', 'cooperate', 'cooperation', 'coos', 'cop', 'copay', 'copd', 'copies', 'cops', 'copy', 'corey', 'corner', 'corona', 'coronamuppets', 'coronavirus', 'corporate', 'corporations', 'corpse', 'corpses', 'corpus', 'corr', 'corralling', 'correct', 'corrected', 'correction', 'corrupt', 'corrupted', 'corruption', 'cortez', 'cosmotologist', 'cost', 'costco', 'costello', 'cottage', 'cou', 'cough', 'coughing', 'could', 'couldnt', 'coumo', 'coumovirus', 'councilman', 'count', 'counter', 'counties', 'counting', 'countless', 'countries', 'country', 'counts', 'county', 'coup', 'couple', 'course', 'court', 'courthouse', 'courts', 'cov', 'cover', 'coverage', 'covered', 'covering', 'coverings', 'covers', 'covid', 'covis', 'covo', 'cow', 'cowards', 'cowboy', 'cowburn', 'cowing', 'cox', 'coyner', 'cpd', 'cpr', 'cps', 'crack', 'cracked', 'cracking', 'craig', 'craigslist', 'crane', 'crap', 'crash', 'crashes', 'crawford', 'crawled', 'crawmer', 'crazed', 'craziness', 'crazy', 'create', 'created', 'creates', 'creating', 'creator', 'creature', 'credability', 'credible', 'credit', 'creep', 'crept', 'crew', 'crews', 'cries', 'crime', 'crimes', 'criminal', 'criminally', 'criminals', 'cringe', 'crinklaw', 'cripple', 'crisis', 'criticism', 'crocheted', 'crock', 'crooked', 'cross', 'crossed', 'crouse', 'crow', 'crowd', 'crowded', 'crown', 'crowns', 'crrepy', 'crt', 'cruel', 'cruela', 'crumbs', 'crusin', 'cry', 'crybab', 'crying', 'crystal', 'csnqhfx', 'cuba', 'cuck', 'cuckoo', 'cucks', 'cuff', 'cuffed', 'cuffs', 'culbertson', 'culturally', 'culture', 'cum', 'cummings', 'cun', 'cunt', 'cuomo', 'cuomonism', 'cup', 'cure', 'cured', 'curiosity', 'curious', 'current', 'currently', 'curtain', 'curve', 'curved', 'custody', 'customer', 'customers', 'cut', 'cute', 'cutshall', 'cuz', 'cv', 'cvs', 'cycle', 'dabba', 'dad', 'daddy', 'dah', 'daily', 'dailymail', 'dairy', 'dale', 'dallas', 'dam', 'damage', 'damian', 'damit', 'dammit', 'damn', 'damned', 'dams', 'dana', 'dang', 'danger', 'dangerous', 'danica', 'danny', 'daphne', 'dare', 'dared', 'darin', 'daring', 'dark', 'darken', 'darkness', 'darla', 'darlene', 'darrell', 'darren', 'data', 'date', 'daughter', 'davenport', 'david', 'davidson', 'davis', 'davld', 'dawn', 'dawnay', 'day', 'daycare', 'days', 'dayum', 'de', 'dead', 'deadlier', 'deadliest', 'deadly', 'deaf', 'deal', 'dealing', 'dealt', 'dear', 'death', 'deathly', 'deaths', 'debbie', 'debozo', 'decade', 'decades', 'deceived', 'decency', 'decent', 'decide', 'decided', 'decides', 'decipher', 'decision', 'decisions', 'deck', 'declare', 'declared', 'decline', 'declining', 'decrease', 'dee', 'deem', 'deep', 'def', 'default', 'defeat', 'defend', 'defender', 'defending', 'defense', 'defenseless', 'defiance', 'deficiency', 'defin', 'define', 'defined', 'definitely', 'definition', 'defund', 'defy', 'degree', 'degrees', 'dehydration', 'delayed', 'deleted', 'deliberate', 'deliberately', 'delight', 'delinquents', 'delivery', 'delores', 'delt', 'dem', 'demacrats', 'demaglio', 'demand', 'demanded', 'demanding', 'demands', 'demise', 'demo', 'democrap', 'democraps', 'democrat', 'democratic', 'democratics', 'democrats', 'demon', 'demoncrap', 'demoncraps', 'demoncrat', 'demoncrats', 'demonrat', 'demonrats', 'demons', 'demonstrated', 'demorats', 'demoratz', 'dems', 'demwits', 'denied', 'denise', 'dennis', 'denormandie', 'densely', 'density', 'deny', 'deomocrats', 'depart', 'department', 'depend', 'depends', 'depressed', 'deprivation', 'deprived', 'dept', 'deranged', 'dereliction', 'derry', 'dery', 'descendent', 'describe', 'description', 'deserve', 'deserved', 'deserves', 'designed', 'desk', 'desktop', 'desperate', 'desperation', 'despicable', 'despise', 'despite', 'destroy', 'destroyed', 'destroying', 'destruction', 'destructive', 'detail', 'details', 'detained', 'determined', 'detroit', 'deva', 'devastate', 'devastated', 'devastation', 'develop', 'developed', 'developing', 'devi', 'device', 'devide', 'devil', 'devilcrats', 'devilish', 'devils', 'devin', 'devoid', 'devotion', 'dew', 'dh', 'diabetes', 'diabetic', 'diabolical', 'diagnose', 'diagnosed', 'diagnoses', 'diagnosis', 'diane', 'dianne', 'diaper', 'diarrhea', 'diaz', 'dicey', 'dick', 'dickerson', 'dickey', 'dickhead', 'dickheads', 'dicks', 'dictate', 'dictated', 'dictator', 'dictators', 'dictatorship', 'dictionary', 'didnt', 'die', 'died', 'diego', 'diem', 'dies', 'diet', 'difference', 'different', 'difficult', 'digress', 'dime', 'dine', 'ding', 'dingbats', 'dinner', 'dipshits', 'direct', 'directed', 'directly', 'dirty', 'disabilities', 'disability', 'disagree', 'disappear', 'disappeared', 'disappearing', 'disappoint', 'disappointed', 'disappointment', 'disaster', 'disband', 'disclaimer', 'discovery', 'discredit', 'discretion', 'discriminate', 'discrimination', 'discuss', 'discussed', 'discussing', 'discussion', 'disease', 'disgraceful', 'disguised', 'disgusted', 'disgusting', 'dishes', 'dismissed', 'disney', 'disobedience', 'disobidiance', 'disorder', 'disorientated', 'displaced', 'dispute', 'disregard', 'disrupted', 'disrupting', 'dissappearing', 'dissidents', 'distance', 'distancing', 'distraction', 'distressed', 'district', 'distructive', 'disturbed', 'disturbing', 'ditch', 'ditka', 'ditto', 'divide', 'divided', 'dividing', 'division', 'dlneed', 'dmj', 'dna', 'dnc', 'docile', 'doctor', 'doctors', 'document', 'documented', 'documenting', 'dodged', 'doers', 'doesnt', 'dog', 'dogs', 'doi', 'doj', 'dollar', 'dollars', 'dolores', 'domestic', 'dominate', 'dominatrix', 'donald', 'donations', 'donato', 'donator', 'done', 'doner', 'donna', 'donnell', 'donnie', 'dont', 'donuts', 'doofus', 'doom', 'doonan', 'door', 'doors', 'dork', 'dots', 'doubling', 'doubt', 'doubtful', 'douche', 'douchebag', 'doug', 'downey', 'download', 'downright', 'downs', 'dr', 'dra', 'draconian', 'drag', 'dragged', 'dragging', 'dragon', 'drain', 'draining', 'drama', 'dramatic', 'dramatize', 'dramatizing', 'drank', 'draw', 'drawing', 'drawn', 'dreaded', 'drew', 'drink', 'drinker', 'drinking', 'drive', 'driven', 'driver', 'drivers', 'drives', 'driving', 'drop', 'droplet', 'dropping', 'drops', 'droves', 'drs', 'drug', 'drugs', 'drunk', 'dry', 'ds', 'dtftc', 'duce', 'ducking', 'dude', 'dudes', 'dudley', 'due', 'dug', 'duh', 'dumb', 'dumbacrats', 'dumbass', 'dumbasses', 'dumber', 'dumbest', 'dumbfounded', 'dumbocrats', 'dummies', 'dummy', 'dump', 'dunbar', 'dung', 'dunkin', 'dunn', 'duplain', 'dustin', 'dusty', 'dutch', 'duty', 'dve', 'dye', 'dyed', 'dying', 'e', 'earl', 'earlier', 'earlington', 'early', 'earn', 'earned', 'earning', 'ears', 'earth', 'ease', 'easier', 'easily', 'east', 'easy', 'eat', 'eaten', 'economic', 'economically', 'economies', 'economy', 'ecstatic', 'ed', 'eddie', 'edge', 'edging', 'edict', 'edicts', 'edited', 'edmondo', 'educate', 'educated', 'education', 'edwards', 'eerie', 'effect', 'effected', 'effective', 'effectively', 'effects', 'efficient', 'effing', 'effort', 'efforts', 'ego', 'egrasob', 'eh', 'ehp', 'eight', 'einstein', 'either', 'elder', 'elderly', 'eldltnhppnlrszl', 'ele', 'elect', 'elected', 'electing', 'election', 'electioneth', 'elections', 'elective', 'electorate', 'electrocuting', 'elephant', 'eligible', 'eliminate', 'elite', 'elizabeth', 'elk', 'ellen', 'elmer', 'elon', 'elonmuskformedaloffreedom', 'else', 'elsewhere', 'elyk', 'em', 'emb', 'embarrassed', 'embarrassment', 'emerge', 'emergency', 'emerson', 'emman', 'emoji', 'empathy', 'emperor', 'emphasis', 'employed', 'employee', 'employees', 'employer', 'employers', 'employment', 'emporiums', 'empty', 'ems', 'emwqt', 'en', 'enabling', 'enact', 'enacted', 'enchanting', 'encourage', 'encouraged', 'encourages', 'encouraging', 'end', 'endanger', 'ended', 'ending', 'endless', 'ends', 'endymion', 'enemies', 'enemy', 'energy', 'enforce', 'enforced', 'enforcement', 'enforcers', 'enforcing', 'engines', 'enjoli', 'enjoy', 'enjoyed', 'enjoying', 'enlighten', 'enmasse', 'enough', 'ensure', 'enter', 'entering', 'entertaining', 'entice', 'entire', 'entry', 'eo', 'eople', 'epic', 'eppler', 'eqfricq', 'equal', 'equally', 'equipment', 'equivalent', 'er', 'era', 'eradicate', 'eradicated', 'ergo', 'eric', 'ernie', 'ernst', 'error', 'es', 'escalante', 'escalate', 'escort', 'esd', 'esential', 'espanola', 'especially', 'espoo', 'essential', 'essentially', 'essentials', 'est', 'esta', 'establishment', 'establishments', 'estcount', 'estimate', 'estimates', 'et', 'etc', 'ethnic', 'etta', 'eubanks', 'evacuate', 'evaluated', 'evaluation', 'even', 'event', 'events', 'eventually', 'ever', 'every', 'everybody', 'everyday', 'everyo', 'everyon', 'everyone', 'everyones', 'everything', 'everywhere', 'evi', 'evidence', 'evil', 'evolution', 'evolved', 'exact', 'exactly', 'exaggerated', 'examined', 'examiner', 'example', 'examples', 'except', 'excepting', 'exception', 'exceptions', 'excerpt', 'excessive', 'excited', 'excitement', 'exciting', 'excluded', 'excuse', 'execution', 'executioner', 'executive', 'exercise', 'exercising', 'exist', 'existence', 'existing', 'exists', 'exorcist', 'expect', 'expected', 'expects', 'experience', 'experienced', 'experiment', 'experiments', 'expert', 'experts', 'explain', 'explains', 'exploded', 'exploit', 'exploiting', 'exposed', 'exposes', 'exposing', 'exposure', 'expresses', 'exspendable', 'extend', 'extended', 'extending', 'extends', 'extension', 'exterminete', 'extinct', 'extra', 'extreme', 'extremely', 'extremist', 'extrodinary', 'eye', 'eyeballs', 'eyed', 'eyeing', 'eyeroll', 'eyes', 'f', 'faaaakeeee', 'facade', 'face', 'facebook', 'faced', 'facemasks', 'facial', 'facilities', 'facility', 'facing', 'fact', 'facts', 'fade', 'fading', 'fail', 'failed', 'failing', 'fails', 'failure', 'fair', 'fairly', 'faith', 'fake', 'faked', 'faker', 'fakers', 'fakery', 'fall', 'falling', 'fallout', 'false', 'falseflag', 'falsely', 'fam', 'fame', 'families', 'family', 'famous', 'fan', 'fancy', 'fans', 'far', 'farce', 'farm', 'farmer', 'farris', 'fart', 'faruci', 'fascist', 'fascists', 'fashioned', 'fast', 'fastest', 'fat', 'fatal', 'fatality', 'fatc', 'father', 'fauci', 'faulkner', 'fault', 'fauver', 'favor', 'favorite', 'fb', 'fbclid', 'fbi', 'fe', 'fear', 'fearful', 'fearing', 'fears', 'feather', 'feathers', 'feature', 'february', 'fed', 'federal', 'federally', 'feed', 'feeder', 'feeders', 'feeding', 'feeds', 'feel', 'feeling', 'feels', 'fees', 'feet', 'fell', 'felons', 'felt', 'female', 'females', 'fenc', 'fenton', 'ferguson', 'fergusson', 'ferrer', 'ferris', 'fest', 'fetched', 'fever', 'fewer', 'ff', 'ffei', 'fi', 'fiance', 'fiasco', 'fiedler', 'field', 'fiercely', 'fiery', 'fifteen', 'fight', 'fighter', 'fighting', 'figure', 'figured', 'figures', 'file', 'filed', 'files', 'fill', 'filled', 'filling', 'films', 'filters', 'finally', 'finance', 'financed', 'financial', 'financially', 'find', 'finding', 'finds', 'fine', 'fined', 'fines', 'finest', 'finger', 'finish', 'finished', 'fir', 'fire', 'firearms', 'fired', 'firefighters', 'firing', 'firmly', 'first', 'fiscal', 'fish', 'fisher', 'fisk', 'fist', 'fit', 'fits', 'five', 'fivehead', 'fix', 'fixed', 'fizzled', 'fk', 'fl', 'flag', 'flags', 'flame', 'flames', 'flash', 'flateathers', 'flatten', 'flattened', 'flattening', 'flatteninganddissappearingonitsown', 'flavor', 'fleeing', 'fleming', 'flexing', 'flights', 'flint', 'flintstone', 'flip', 'flipped', 'floating', 'flood', 'floods', 'floor', 'florida', 'flotus', 'flowers', 'floyd', 'flu', 'fly', 'flying', 'flynn', 'fo', 'focus', 'focusing', 'foia', 'foiled', 'fold', 'folks', 'follow', 'followed', 'follower', 'followers', 'following', 'followingthe', 'follows', 'foment', 'food', 'fool', 'fooled', 'foolish', 'fools', 'foot', 'footage', 'football', 'forbes', 'force', 'forced', 'forces', 'forcible', 'forcibly', 'forcing', 'ford', 'fore', 'foreclosed', 'forehead', 'foremost', 'forever', 'forgery', 'forget', 'forgetting', 'forgoing', 'forgot', 'forgotten', 'form', 'former', 'fort', 'fortunate', 'forvthe', 'forward', 'fought', 'found', 'foundation', 'fourth', 'foux', 'fox', 'foxbusiness', 'foxnews', 'fpu', 'fr', 'fraher', 'frame', 'francie', 'frank', 'frankenstein', 'frankly', 'frantz', 'fraud', 'freak', 'freakin', 'freaking', 'freaks', 'fred', 'frediani', 'free', 'freedom', 'freedoms', 'freeloading', 'freeman', 'freeze', 'freezer', 'french', 'frenzy', 'fresh', 'freshly', 'frey', 'fri', 'frick', 'fricken', 'friday', 'friedley', 'friend', 'friends', 'fries', 'fromoffice', 'front', 'frozen', 'frustrating', 'ft', 'fu', 'fuc', 'fuck', 'fucked', 'fucken', 'fuckers', 'fuckhead', 'fuckin', 'fucking', 'fucks', 'fuckshelterinplace', 'fucktards', 'fucktardtrump', 'fuckton', 'fudd', 'fuel', 'fulkerson', 'full', 'fullfill', 'fully', 'fulton', 'fun', 'function', 'functions', 'fund', 'funding', 'funds', 'funny', 'funsies', 'furious', 'furloughed', 'furniture', 'furthering', 'furthermore', 'future', 'futures', 'fuuuuuu', 'fvsi', 'g', 'gag', 'gagball', 'gain', 'gaining', 'gallegos', 'gallert', 'galliera', 'gallows', 'game', 'ganes', 'gang', 'gangs', 'garbage', 'garments', 'garner', 'garrison', 'gary', 'gas', 'gasp', 'gaspard', 'gassed', 'gate', 'gates', 'gather', 'gathered', 'gathering', 'gatherings', 'gaus', 'gave', 'gavin', 'gay', 'gear', 'geco', 'gee', 'geez', 'gegenheimer', 'gen', 'gender', 'general', 'generalhttps', 'generalize', 'generally', 'generation', 'generations', 'generous', 'genetic', 'genius', 'genocide', 'gentlemen', 'genuine', 'george', 'georgia', 'gerald', 'geriatric', 'germany', 'germs', 'gerrymandering', 'gerst', 'gestapo', 'get', 'gets', 'gettin', 'getting', 'getty', 'ghost', 'ghoul', 'ghz', 'giard', 'gibbons', 'giblin', 'giddy', 'giesler', 'gif', 'gillice', 'giphy', 'girl', 'girlfriend', 'girls', 'gish', 'git', 'give', 'giveing', 'given', 'gives', 'givin', 'giving', 'glad', 'gladly', 'glamorous', 'glamour', 'glass', 'glee', 'gleefully', 'glenda', 'glinda', 'global', 'globalist', 'globalists', 'gloria', 'glory', 'glove', 'gloves', 'glowing', 'go', 'goal', 'goats', 'god', 'goddamn', 'gods', 'godspeed', 'goebbels', 'goers', 'goes', 'goggles', 'going', 'gold', 'goldenaxe', 'golf', 'golleher', 'gone', 'gonna', 'gonzalez', 'good', 'goodwill', 'goody', 'goof', 'goofy', 'google', 'goons', 'goosestep', 'gop', 'gordon', 'gorilla', 'gorr', 'gosh', 'got', 'gotta', 'gotten', 'gov', 'govenor', 'goverment', 'govern', 'governer', 'governing', 'governir', 'government', 'governments', 'governor', 'governors', 'govorners', 'govt', 'grab', 'grabbe', 'grabs', 'graci', 'grade', 'graduating', 'graduation', 'grady', 'graham', 'grainger', 'granby', 'grand', 'grandparents', 'grands', 'grandson', 'grant', 'grateful', 'grave', 'gravert', 'graves', 'gray', 'great', 'greater', 'greatest', 'greed', 'greedy', 'green', 'greg', 'gregory', 'gretchen', 'grew', 'grey', 'gribble', 'grief', 'griffin', 'grin', 'gritting', 'groaning', 'grocery', 'groomed', 'gros', 'gross', 'grossest', 'grossly', 'ground', 'grounds', 'group', 'groupmeeting', 'groups', 'grow', 'growing', 'grown', 'grows', 'gruesome', 'grusome', 'guarantee', 'guard', 'guess', 'guesses', 'guessin', 'guessing', 'guests', 'guideline', 'guidelines', 'guiermo', 'guillen', 'guillory', 'guilty', 'guin', 'guinea', 'guitar', 'gully', 'gun', 'gunning', 'gunnon', 'guns', 'guthrie', 'gutless', 'guy', 'guys', 'gw', 'gym', 'gzr', 'h', 'ha', 'haaaaaaaa', 'habitat', 'hacks', 'hadows', 'hag', 'haha', 'hahaha', 'hahahaha', 'hahahahaha', 'hahahahahaha', 'hahn', 'hair', 'haircut', 'haley', 'half', 'halloween', 'halls', 'hamilton', 'hamper', 'hancock', 'hand', 'handbook', 'handed', 'handing', 'handl', 'handle', 'handled', 'handouts', 'handrails', 'hands', 'handy', 'hang', 'hanging', 'hank', 'happen', 'happened', 'happening', 'happens', 'happily', 'happiness', 'happy', 'har', 'harassed', 'harbor', 'hard', 'harder', 'hardest', 'hardin', 'hardly', 'hardship', 'haris', 'harm', 'harman', 'harmful', 'harms', 'harold', 'harrass', 'harris', 'harry', 'hasenwinkle', 'hat', 'hate', 'hated', 'hateful', 'hater', 'haters', 'hates', 'hatin', 'hating', 'hats', 'hatter', 'havent', 'hawk', 'hayes', 'hazard', 'hb', 'head', 'headache', 'headed', 'heading', 'headline', 'headlines', 'heads', 'heal', 'healed', 'health', 'healthcare', 'healthy', 'hear', 'heard', 'hearing', 'hearn', 'heart', 'heartbreaking', 'hearted', 'heartless', 'hearts', 'heat', 'heated', 'heath', 'heathen', 'heaton', 'heavens', 'heavily', 'heavy', 'heck', 'heels', 'heidorn', 'heinous', 'heir', 'held', 'hell', 'hello', 'helluva', 'helo', 'help', 'helped', 'helping', 'helps', 'hence', 'henry', 'herbal', 'herd', 'herenow', 'hering', 'hermeticall', 'hero', 'herr', 'hes', 'hesitate', 'hey', 'hhh', 'hid', 'hidalgo', 'hide', 'hideouts', 'hiding', 'high', 'higher', 'highest', 'highlight', 'highschool', 'hike', 'hilarious', 'hilary', 'hill', 'hillary', 'hindsight', 'hipa', 'hipaa', 'hippa', 'hiring', 'hispanic', 'historic', 'historical', 'history', 'hit', 'hitler', 'hits', 'hittin', 'hiw', 'hmm', 'hmmm', 'ho', 'hoax', 'hockett', 'hoe', 'hogan', 'holcomb', 'hold', 'holding', 'holds', 'hole', 'holes', 'holiday', 'holy', 'holyoke', 'home', 'homeless', 'homelessness', 'homely', 'homemade', 'homes', 'homicide', 'honest', 'honestly', 'honor', 'honorable', 'hood', 'hoodlums', 'hoof', 'hope', 'hopeful', 'hopefully', 'hopes', 'hoping', 'horowitz', 'horrible', 'horribly', 'horrific', 'horrifying', 'horror', 'horse', 'horseman', 'horseshit', 'hose', 'hoskinson', 'hospital', 'hospitalizations', 'hospitals', 'hot', 'houde', 'houghton', 'hour', 'hours', 'house', 'household', 'houses', 'housing', 'houston', 'howell', 'however', 'hr', 'hrs', 'html', 'https', 'hu', 'hug', 'huge', 'huggers', 'hughes', 'hugs', 'huh', 'hum', 'human', 'humanity', 'humans', 'humm', 'hummel', 'hun', 'hundreds', 'hung', 'hungry', 'hunley', 'hunt', 'hunter', 'hurry', 'hurt', 'hurting', 'hurts', 'husband', 'hutchison', 'hve', 'hyb', 'hydroxychloroquine', 'hymn', 'hype', 'hyped', 'hyperventalating', 'hyping', 'hypochondriac', 'hypochondriacs', 'hypocrisy', 'hypocrite', 'hypocrites', 'hypocritical', 'hysteria', 'iannuzzelli', 'ice', 'iceberg', 'icecream', 'icu', 'id', 'idaho', 'idalia', 'idea', 'ideal', 'ideals', 'ideas', 'identified', 'identifies', 'identify', 'identity', 'ideology', 'idiocy', 'idiot', 'idiotic', 'idiots', 'idiotsat', 'idk', 'idoit', 'idris', 'ie', 'ignorance', 'ignorant', 'ignore', 'iii', 'iive', 'ikr', 'il', 'ill', 'illeagle', 'illegal', 'illegals', 'illinois', 'illinoispolicy', 'illness', 'illnesses', 'illnois', 'illuminati', 'im', 'image', 'images', 'imagine', 'imbeciles', 'imgur', 'immaturity', 'immediate', 'immediately', 'immigrants', 'immoral', 'immune', 'immunity', 'imo', 'impact', 'impeach', 'impeached', 'impeachment', 'imperative', 'implement', 'imploded', 'important', 'importantly', 'impose', 'imposed', 'impossibilities', 'impractical', 'improved', 'improving', 'inaction', 'inactions', 'inalienable', 'inappropriate', 'incase', 'incentive', 'incentives', 'inception', 'incident', 'incidents', 'inciting', 'include', 'includes', 'including', 'income', 'inconsistency', 'inconvenience', 'incorporate', 'incredible', 'incredibly', 'incubated', 'indeed', 'indefinitely', 'independence', 'independent', 'india', 'indian', 'indiana', 'indica', 'indicate', 'indicating', 'indicator', 'indict', 'individual', 'individuals', 'indoctrinated', 'indoctrination', 'induced', 'ineffective', 'inequality', 'inexcusable', 'infact', 'infant', 'infect', 'infected', 'infecting', 'infection', 'inflated', 'inflation', 'influenza', 'influx', 'info', 'information', 'infringement', 'infringing', 'infuriate', 'ing', 'ingalls', 'ingodwetrust', 'ingrates', 'inhabits', 'initial', 'initially', 'initiate', 'injured', 'inmates', 'innocent', 'inplace', 'inqx', 'insane', 'insanity', 'inside', 'insinuating', 'insisted', 'inslee', 'insolvent', 'inspections', 'inspector', 'insta', 'instagram', 'installed', 'instantly', 'instead', 'insult', 'insured', 'insures', 'intake', 'intelligence', 'intelligent', 'intend', 'intended', 'intent', 'intention', 'intentions', 'intercede', 'interest', 'interested', 'interesting', 'interfere', 'interim', 'internally', 'internet', 'internment', 'interpretation', 'interpreter', 'intervene', 'intervenes', 'intre', 'introduce', 'introducing', 'inundated', 'invaders', 'invasion', 'invented', 'invested', 'investigate', 'investigation', 'invisible', 'involved', 'involvement', 'iowa', 'iphone', 'iran', 'irelan', 'ironically', 'irreparable', 'irritates', 'irritating', 'irvin', 'irving', 'ish', 'isis', 'island', 'isnt', 'isolated', 'iss', 'issue', 'issued', 'issues', 'items', 'itll', 'ive', 'iversen', 'ivey', 'ivory', 'iwar', 'ixrkgzprtay', 'j', 'jack', 'jackass', 'jackson', 'jacob', 'jacobs', 'jacqui', 'jail', 'jailed', 'jails', 'jaime', 'jake', 'james', 'jan', 'janelle', 'janet', 'jansen', 'january', 'japan', 'jared', 'jason', 'jay', 'jc', 'jd', 'jean', 'jeezus', 'jeff', 'jefferson', 'jen', 'jenner', 'jennifer', 'jenny', 'jeopardy', 'jersey', 'jesse', 'jessica', 'jesters', 'jesus', 'jetliner', 'jew', 'jewelry', 'jewels', 'jews', 'jill', 'jim', 'jk', 'jo', 'joanne', 'job', 'jobs', 'jodee', 'jody', 'joe', 'joey', 'john', 'johnandjulie', 'johnathan', 'johns', 'johnson', 'johnsons', 'join', 'joinchat', 'joined', 'joke', 'joker', 'jokers', 'jokes', 'joking', 'jon', 'jonathan', 'jonathanandjennifer', 'jonathon', 'jones', 'joni', 'jonnie', 'jordan', 'joseph', 'joshua', 'joy', 'joyful', 'jpg', 'jr', 'js', 'juat', 'judement', 'judge', 'judges', 'judicial', 'judiciary', 'judith', 'judy', 'juice', 'julia', 'julie', 'juliette', 'july', 'jump', 'jumps', 'june', 'jurisdiction', 'jury', 'justice', 'justifies', 'justify', 'justin', 'justthetip', 'juvenile', 'jvb', 'k', 'kamala', 'kangaroo', 'kara', 'kareis', 'karen', 'kari', 'karin', 'karl', 'karma', 'kassi', 'kate', 'katelyn', 'kathy', 'katrina', 'kay', 'keenan', 'keep', 'keeper', 'keeping', 'keeps', 'keg', 'keith', 'kelley', 'kelli', 'kenda', 'kennedy', 'kenneth', 'kenney', 'kent', 'kept', 'kerchner', 'kettenton', 'kevin', 'kick', 'kicked', 'kid', 'kidd', 'kidding', 'kidney', 'kids', 'kiefer', 'kill', 'killdozer', 'killed', 'killer', 'killers', 'killery', 'killing', 'kills', 'kim', 'kimberly', 'kind', 'kinda', 'kinder', 'kindly', 'kindness', 'kinds', 'king', 'kings', 'kinman', 'kip', 'kiss', 'kissinger', 'kj', 'klan', 'klobachar', 'klohn', 'knee', 'kneel', 'kneeling', 'knew', 'kniws', 'knock', 'knocking', 'knodel', 'know', 'knowing', 'knowingly', 'known', 'knows', 'knowthere', 'knox', 'knoxville', 'kompik', 'kool', 'koolade', 'korea', 'korey', 'kors', 'kostur', 'krista', 'kristen', 'kristich', 'krona', 'kucinski', 'kunkle', 'kvue', 'kyle', 'kylee', 'kzo', 'l', 'la', 'lab', 'label', 'labeled', 'labor', 'laborato', 'lack', 'ladeen', 'lady', 'laid', 'lain', 'lake', 'land', 'langlois', 'language', 'lanzieri', 'lapasaurus', 'lapd', 'lara', 'large', 'largely', 'larger', 'largest', 'larry', 'larson', 'las', 'last', 'late', 'lately', 'later', 'latest', 'latoya', 'laugh', 'laughable', 'laughed', 'laughing', 'launch', 'laura', 'laurene', 'laurie', 'law', 'lawd', 'lawful', 'lawfully', 'lawn', 'lawns', 'lawrence', 'laws', 'lawsuit', 'lawsuits', 'lawyer', 'lawyers', 'layed', 'laying', 'layne', 'lazy', 'lcoyqt', 'le', 'lea', 'lead', 'leader', 'leaders', 'leadership', 'leading', 'league', 'leaguers', 'leamer', 'lean', 'leaning', 'leann', 'leans', 'learn', 'learned', 'learning', 'least', 'leatherman', 'leave', 'leaving', 'leblanc', 'lecture', 'led', 'lee', 'leesa', 'lefists', 'left', 'lefties', 'leftist', 'leftovers', 'legacy', 'legal', 'legally', 'legend', 'legislate', 'legislated', 'legislation', 'legislative', 'legislature', 'legit', 'leigh', 'lemmings', 'length', 'lentini', 'leo', 'less', 'lesson', 'lessons', 'let', 'lets', 'letter', 'letters', 'letting', 'level', 'levels', 'levon', 'lews', 'lgd', 'lgldofg', 'li', 'liable', 'liar', 'liars', 'lib', 'liberal', 'liberalism', 'liberals', 'liberated', 'libertarian', 'liberties', 'liberty', 'libs', 'libtard', 'libtardation', 'libtarded', 'libtards', 'license', 'licenses', 'lick', 'lie', 'lied', 'liers', 'lies', 'lieurance', 'life', 'lifestyle', 'lifetime', 'lift', 'lifted', 'light', 'lightbrain', 'lightfoot', 'lighthead', 'lightning', 'ligon', 'like', 'liked', 'likely', 'likes', 'limit', 'limited', 'limiting', 'limits', 'lind', 'linda', 'line', 'lines', 'lingerfelt', 'lining', 'link', 'linked', 'linna', 'lip', 'lips', 'liquor', 'lisa', 'list', 'listen', 'listened', 'listening', 'listens', 'listing', 'litefoot', 'literal', 'literally', 'litmus', 'little', 'live', 'lived', 'livelihoods', 'livelyhoods', 'lives', 'livestream', 'living', 'livlihoods', 'liz', 'lizard', 'lkc', 'lkwf', 'llewellyn', 'lls', 'lmao', 'load', 'loads', 'loan', 'lobbied', 'lobbyists', 'local', 'locally', 'locals', 'location', 'locations', 'lock', 'lockdown', 'lockdowns', 'locked', 'locking', 'locklear', 'lockstep', 'locusts', 'loewer', 'logic', 'login', 'lol', 'lololololol', 'lomen', 'lomg', 'londono', 'lone', 'long', 'longer', 'longmire', 'longo', 'longsuffering', 'look', 'looked', 'looking', 'looks', 'loose', 'loosing', 'loot', 'looted', 'looters', 'looting', 'lord', 'lori', 'lorraine', 'los', 'lose', 'loser', 'loses', 'losing', 'loss', 'losses', 'lost', 'lot', 'lots', 'loud', 'loudly', 'louis', 'louise', 'louisiana', 'love', 'loved', 'loves', 'loving', 'low', 'lower', 'lowering', 'lowes', 'lowest', 'lozano', 'lqt', 'lr', 'lsd', 'lsuugrap', 'lubricating', 'luck', 'lucky', 'luder', 'ludicrous', 'lujan', 'lujean', 'lunatic', 'lunatics', 'lungs', 'lust', 'lutely', 'lutheran', 'luz', 'lwnlhc', 'lxq', 'lying', 'lyle', 'lynae', 'lynch', 'lynda', 'lynette', 'lynn', 'lynne', 'mabry', 'machine', 'mackinaw', 'mad', 'made', 'madison', 'maga', 'magic', 'magically', 'magnet', 'magnified', 'magnuson', 'mail', 'maimed', 'main', 'mainey', 'mainly', 'mainstream', 'majes', 'major', 'majority', 'make', 'makes', 'makeup', 'making', 'mal', 'maleficent', 'maleficient', 'malpractice', 'mama', 'mamma', 'man', 'managed', 'management', 'manager', 'manchester', 'mandate', 'mandated', 'mandates', 'mandatory', 'maniacal', 'manicure', 'manipulate', 'manipulated', 'manipulating', 'manipulator', 'mankind', 'manned', 'manner', 'mans', 'mansion', 'manslaughter', 'mantra', 'manual', 'manufactured', 'manufacturing', 'many', 'map', 'marce', 'march', 'marching', 'marco', 'marcus', 'margaret', 'marie', 'marilyn', 'marinchak', 'marine', 'marino', 'mark', 'market', 'marketing', 'markets', 'marks', 'marquez', 'married', 'mars', 'marsha', 'marshal', 'marshall', 'marshals', 'martial', 'martin', 'martinell', 'martinez', 'martyr', 'martyrs', 'marvin', 'marx', 'marxachusetts', 'marxist', 'mary', 'marybeth', 'maryland', 'mas', 'mask', 'masked', 'masks', 'mason', 'mass', 'massa', 'massachusetts', 'massacre', 'massacres', 'masses', 'massive', 'master', 'masters', 'matanovic', 'match', 'mate', 'matric', 'matrix', 'matt', 'matter', 'matters', 'matthew', 'mauer', 'max', 'may', 'maybe', 'mayday', 'mayor', 'mayors', 'mazzarini', 'mc', 'mcbride', 'mcbroom', 'mccarty', 'mccoy', 'mccullough', 'mcdaniel', 'mcdonald', 'mcduffie', 'mcgrath', 'mcintyre', 'mckellips', 'mckenzie', 'mcnamee', 'mcnotch', 'mcqueen', 'md', 'meagher', 'meal', 'meals', 'mean', 'meaning', 'means', 'meant', 'meantime', 'meanwhile', 'measure', 'measures', 'med', 'medi', 'media', 'medicaid', 'medical', 'medically', 'medicare', 'medication', 'medications', 'medicine', 'medium', 'medlin', 'meet', 'megalomaniacal', 'melissa', 'melt', 'melts', 'member', 'members', 'membership', 'meme', 'memo', 'memorial', 'memories', 'men', 'menards', 'mental', 'mentally', 'mention', 'mentioned', 'merely', 'merica', 'mesches', 'mess', 'message', 'messed', 'messenger', 'metoo', 'metropolitan', 'mewe', 'mexico', 'mfers', 'mi', 'miah', 'miami', 'mic', 'mich', 'michael', 'michegonians', 'michelle', 'michigan', 'michiganders', 'michigans', 'micky', 'microscopic', 'mid', 'middle', 'might', 'mightmare', 'mike', 'mikovits', 'mild', 'mildly', 'miles', 'military', 'militia', 'millenials', 'millennial', 'millennials', 'miller', 'million', 'millions', 'milwaukee', 'mind', 'minded', 'minds', 'mindset', 'mine', 'minella', 'minimum', 'minion', 'minions', 'ministers', 'minn', 'minneapolis', 'minnesota', 'minorities', 'minority', 'mins', 'minske', 'minus', 'minute', 'minutes', 'miracles', 'mirrors', 'misappropriation', 'mischo', 'miserable', 'miserably', 'misery', 'misguided', 'misjudged', 'mismanaged', 'mismanagement', 'miss', 'missed', 'misses', 'missing', 'mission', 'missouri', 'misspelled', 'mistake', 'mistaken', 'mistakes', 'mitch', 'mitchell', 'mix', 'mleko', 'mlg', 'mlk', 'mmvo', 'mn', 'mndf', 'mnuchin', 'mo', 'moaning', 'mob', 'mobile', 'mobility', 'mockery', 'mockingbird', 'model', 'models', 'moderat', 'moderate', 'modern', 'modesty', 'modified', 'molinarolo', 'moll', 'mom', 'moment', 'moments', 'mommy', 'moms', 'mon', 'monarchy', 'monday', 'money', 'mongering', 'mongers', 'monica', 'monies', 'monitor', 'monkey', 'monopoly', 'monster', 'monsters', 'month', 'months', 'montigny', 'montoya', 'monuments', 'moom', 'moonbase', 'mooo', 'moore', 'moot', 'moral', 'morally', 'morediseasemoreprofits', 'moreso', 'morgan', 'morgans', 'morning', 'mornings', 'moron', 'moronic', 'morons', 'mortar', 'moscow', 'mosques', 'mostly', 'mosts', 'mother', 'motivate', 'motivated', 'motive', 'motives', 'moto', 'motto', 'mouer', 'mountain', 'mouth', 'mouths', 'move', 'moved', 'movement', 'movements', 'moves', 'movie', 'movies', 'moving', 'moxcide', 'mprnews', 'mr', 'ms', 'msm', 'msn', 'msnbc', 'mt', 'much', 'mucinex', 'muffley', 'mug', 'muh', 'mujahid', 'multi', 'multiple', 'munchausen', 'murder', 'murdered', 'murderer', 'murdering', 'murders', 'murphy', 'murphycommunicate', 'murr', 'muscle', 'music', 'musk', 'muslim', 'muslims', 'mussies', 'must', 'muster', 'mutants', 'mutated', 'mutation', 'mute', 'mutilate', 'muzzle', 'mychoice', 'myer', 'myers', 'myra', 'mzv', 'n', 'na', 'nads', 'nah', 'nailed', 'nails', 'naive', 'najvar', 'name', 'named', 'names', 'nancy', 'nano', 'nanochipvax', 'naples', 'napoleon', 'narcissist', 'narcissistic', 'narcissists', 'narrative', 'narratives', 'nascar', 'nash', 'nasty', 'nate', 'nathan', 'nation', 'national', 'native', 'natural', 'naturalcourseofavirus', 'naturally', 'nature', 'natures', 'naughty', 'nausea', 'navy', 'nay', 'nazi', 'nazis', 'nbc', 'nc', 'nd', 'neal', 'near', 'nearby', 'nearly', 'neatly', 'necessary', 'neck', 'necks', 'need', 'needed', 'needle', 'needles', 'needless', 'needs', 'needy', 'nefarious', 'negates', 'negative', 'neglect', 'negligence', 'negligent', 'neighborhood', 'neighborhoods', 'neighbors', 'neither', 'nellie', 'nerve', 'nerves', 'networks', 'neutralizing', 'nevadas', 'never', 'new', 'newly', 'news', 'newscum', 'newscumlini', 'newscums', 'newsom', 'newsome', 'newson', 'next', 'nexteth', 'nh', 'nice', 'nicholas', 'nichole', 'nichols', 'nicknamed', 'nicole', 'nifty', 'nigel', 'nigh', 'night', 'nik', 'nimmons', 'nina', 'ninth', 'nipped', 'nj', 'nm', 'nnmwp', 'nobama', 'nobks', 'nobody', 'noise', 'nola', 'nomask', 'nomasksnofear', 'nomercy', 'nomination', 'non', 'none', 'nonessential', 'nonewnormal', 'nonsense', 'noodle', 'noone', 'noooooooo', 'noose', 'nope', 'noper', 'norcal', 'norm', 'normal', 'normalabout', 'normalflatten', 'normally', 'nortenos', 'north', 'northam', 'northrum', 'norwood', 'nose', 'nostrils', 'note', 'noted', 'nothing', 'notice', 'noticed', 'noticing', 'notmygovernor', 'notorious', 'nottheflu', 'nov', 'novel', 'november', 'np', 'npr', 'nuff', 'nuisance', 'nullifies', 'number', 'numbered', 'numbers', 'numbing', 'nunivg', 'nurisng', 'nurse', 'nursing', 'nut', 'nutcase', 'nuts', 'nutty', 'nwo', 'ny', 'nyc', 'nyquil', 'nyt', 'nzhlrws', 'oath', 'oathto', 'obama', 'obamanation', 'obey', 'obeyed', 'obeying', 'objective', 'obligatio', 'obliged', 'obozo', 'observation', 'obumma', 'obvious', 'obviously', 'occupation', 'occupy', 'occur', 'occuring', 'occurrence', 'occurring', 'ochoa', 'ochterbeck', 'october', 'odd', 'ofcourse', 'offend', 'offenders', 'offense', 'offensive', 'offer', 'offered', 'offering', 'offerings', 'offers', 'offic', 'office', 'officer', 'officers', 'offices', 'official', 'officials', 'offspring', 'oflies', 'often', 'og', 'oh', 'ohhh', 'ohio', 'ohone', 'ok', 'okay', 'oklahoma', 'ol', 'old', 'older', 'olds', 'ole', 'olson', 'olstad', 'omg', 'omgoodness', 'one', 'ones', 'online', 'onto', 'oops', 'op', 'open', 'openamerica', 'openchurches', 'opened', 'opener', 'opening', 'opens', 'operate', 'operation', 'opinion', 'opinions', 'opportunities', 'opportunity', 'opposed', 'oppressed', 'oppression', 'oppressive', 'opps', 'ops', 'optics', 'option', 'optional', 'options', 'order', 'ordered', 'ordering', 'orders', 'ordinances', 'oregon', 'org', 'organization', 'organize', 'original', 'originally', 'orleans', 'oscar', 'osha', 'oshaweb', 'ot', 'othe', 'others', 'otherwise', 'othro', 'ought', 'oughta', 'outbreak', 'outcome', 'outdoor', 'outdoors', 'outlaw', 'outlets', 'outline', 'outnumber', 'outrage', 'outraged', 'outrageous', 'outside', 'outta', 'oval', 'ove', 'overall', 'overdone', 'overflowing', 'overhaul', 'overhead', 'overkill', 'overlords', 'overly', 'overreaching', 'overreacting', 'override', 'overrule', 'overruled', 'overruling', 'overrun', 'overseer', 'overstepped', 'overstepping', 'overthrow', 'overtown', 'overturn', 'overturned', 'overwhelmed', 'owadisp', 'owens', 'owned', 'owner', 'owners', 'owns', 'oxygen', 'oz', 'ozorio', 'p', 'pa', 'pac', 'pacemaker', 'pack', 'packed', 'packer', 'packing', 'pacu', 'padded', 'padle', 'page', 'paget', 'paid', 'paige', 'pain', 'painful', 'painfully', 'paint', 'pair', 'palenzuela', 'pallozzi', 'palosis', 'pam', 'pamela', 'pan', 'pandemic', 'pander', 'pandering', 'panel', 'panic', 'pansy', 'pants', 'panzies', 'pape', 'paper', 'papers', 'parade', 'parades', 'paradise', 'paranoid', 'parent', 'parenthood', 'parents', 'parishioners', 'park', 'parking', 'parks', 'parrot', 'part', 'participants', 'particulate', 'parties', 'partly', 'partners', 'parts', 'party', 'pass', 'passed', 'passes', 'passing', 'past', 'pastor', 'pastors', 'patch', 'patent', 'path', 'pathetic', 'patient', 'patients', 'patrick', 'patriot', 'patriots', 'patron', 'patronage', 'patronize', 'patronizing', 'patrons', 'patti', 'paul', 'paving', 'pawn', 'pay', 'paycheck', 'payed', 'payer', 'payers', 'paying', 'payments', 'payne', 'payoff', 'pct', 'peace', 'peaceably', 'peaceful', 'peacefully', 'peacefuly', 'peaple', 'pearl', 'pearson', 'peasants', 'peddling', 'pedophiles', 'pee', 'peggy', 'pelosi', 'penalty', 'pence', 'pencil', 'pending', 'pennsylvania', 'pension', 'peo', 'people', 'peoples', 'per', 'percent', 'percentage', 'percentages', 'perfect', 'perfectly', 'perform', 'performance', 'perhaps', 'period', 'permanent', 'permanently', 'permission', 'perpetuating', 'perry', 'perscriptions', 'persecution', 'person', 'personal', 'personally', 'personnel', 'persons', 'persontoperson', 'perspective', 'pertinent', 'perverted', 'peters', 'peterson', 'petition', 'pets', 'petty', 'pharaoh', 'pharma', 'pharmacies', 'pharo', 'phase', 'phases', 'phelps', 'phil', 'philadelphia', 'phillips', 'phone', 'phones', 'phony', 'photo', 'photos', 'php', 'phrase', 'phuck', 'physical', 'physically', 'physician', 'pi', 'piano', 'pic', 'pick', 'picked', 'pickle', 'picks', 'picnic', 'picture', 'piece', 'pieces', 'pigeon', 'pigs', 'pile', 'pill', 'pills', 'pinata', 'pintane', 'pipe', 'pismo', 'piss', 'pissed', 'pisses', 'pistol', 'pit', 'pitchforks', 'pitts', 'pity', 'pivoting', 'place', 'placed', 'placement', 'places', 'plague', 'plain', 'plan', 'plandemic', 'plane', 'planendemic', 'planet', 'planned', 'plans', 'plantation', 'plants', 'plastic', 'plate', 'platel', 'platforms', 'platter', 'play', 'playbook', 'played', 'playing', 'pleaded', 'please', 'plees', 'pleiades', 'plenty', 'plqca', 'pls', 'plunged', 'plus', 'pm', 'pneumonia', 'po', 'pocket', 'pockets', 'podiums', 'point', 'points', 'poison', 'poke', 'poles', 'police', 'policeman', 'policies', 'policing', 'policy', 'polite', 'politica', 'political', 'politically', 'politician', 'politicians', 'politico', 'politics', 'polling', 'polls', 'ponder', 'poof', 'poop', 'poor', 'pop', 'pope', 'poppin', 'populated', 'population', 'populations', 'pork', 'porn', 'porter', 'pos', 'position', 'positive', 'positives', 'posse', 'possessed', 'possible', 'possibly', 'post', 'posted', 'posterity', 'posters', 'posting', 'postive', 'posts', 'pot', 'potential', 'potter', 'potus', 'pound', 'pours', 'pouted', 'poverty', 'powder', 'powell', 'power', 'powerful', 'powers', 'ppe', 'ppl', 'practice', 'praise', 'praises', 'pratis', 'pray', 'prayer', 'prayers', 'praying', 'pre', 'preach', 'preaching', 'precluded', 'predictable', 'predictions', 'predictive', 'prefer', 'pregnancies', 'pregnant', 'preoccupied', 'preparation', 'prepare', 'prepared', 'preparing', 'prerogative', 'pres', 'preschool', 'presence', 'present', 'presenting', 'preserve', 'presidency', 'president', 'presidential', 'presidents', 'press', 'pressed', 'pressure', 'prestigious', 'pretend', 'pretending', 'pretty', 'prevail', 'prevalence', 'prevent', 'previous', 'prewitt', 'pri', 'price', 'prices', 'prickster', 'pride', 'priest', 'priests', 'prikzker', 'prime', 'principles', 'print', 'printed', 'prior', 'priore', 'priorites', 'priorities', 'prison', 'prisoners', 'pritzker', 'pritzkers', 'priv', 'privacy', 'private', 'privately', 'proactive', 'prob', 'probab', 'probably', 'probation', 'problem', 'problems', 'proceed', 'proclaims', 'proclamations', 'produce', 'product', 'productive', 'products', 'professionals', 'professor', 'profile', 'profit', 'profitable', 'profits', 'program', 'programing', 'programmed', 'programming', 'programs', 'progressive', 'prohibit', 'prohibiting', 'projected', 'prolly', 'promise', 'promises', 'promote', 'proof', 'prop', 'propaganda', 'proper', 'properly', 'properties', 'property', 'proportion', 'proposal', 'proposals', 'proposes', 'proprietor', 'protable', 'protect', 'protected', 'protecting', 'protection', 'protections', 'protective', 'protectors', 'protest', 'protested', 'protesters', 'protesteth', 'protesting', 'protestors', 'protests', 'proud', 'proudly', 'prove', 'proven', 'provide', 'providers', 'providing', 'proxy', 'ps', 'pslams', 'psy', 'psycho', 'psychopath', 'psychopathy', 'psychos', 'public', 'published', 'puckish', 'puffer', 'pull', 'pulled', 'pulling', 'pulse', 'pumpkin', 'punch', 'punchable', 'punched', 'punish', 'punishable', 'punished', 'punishing', 'puppet', 'puppets', 'pure', 'purely', 'purge', 'purple', 'purplish', 'purpos', 'purpose', 'purposefully', 'purposely', 'pursuit', 'push', 'pushed', 'pusher', 'pushing', 'pussies', 'put', 'puts', 'putting', 'putz', 'pycho', 'q', 'qaeq', 'qi', 'qualify', 'quality', 'quaranteen', 'queen', 'queens', 'question', 'questionable', 'questions', 'quic', 'quick', 'quickly', 'quiet', 'quinton', 'quit', 'quite', 'quote', 'qzlsdxba', 'r', 'rabbis', 'race', 'races', 'rachel', 'racial', 'racing', 'racism', 'racist', 'radical', 'radio', 'rae', 'raftery', 'raid', 'raided', 'raiding', 'raids', 'rail', 'rainy', 'raise', 'raises', 'raising', 'raking', 'raleigh', 'rallies', 'rally', 'ralph', 'ramifications', 'ran', 'randall', 'random', 'randy', 'range', 'rapids', 'rare', 'rarely', 'rat', 'rate', 'rates', 'rather', 'ratified', 'rating', 'ratings', 'ratliff', 'rats', 'raw', 'ray', 'rays', 'rd', 'reac', 'reach', 'reaching', 'react', 'reaction', 'reactions', 'reactive', 'read', 'reading', 'readjust', 'readjustment', 'reads', 'ready', 'real', 'reali', 'realistic', 'reality', 'realize', 'realized', 'realizing', 'really', 'reap', 'reaping', 'rearing', 'reason', 'reasoning', 'reasons', 'rebecca', 'rebel', 'rebuild', 'recall', 'recalled', 'recant', 'receipts', 'receive', 'received', 'recent', 'recently', 'recieved', 'reckless', 'reclaim', 'reclamation', 'recognition', 'recognize', 'recognized', 'recognizes', 'recommend', 'recommendation', 'recommended', 'record', 'recorded', 'recording', 'records', 'recount', 'recounts', 'recover', 'recovering', 'recovery', 'rectally', 'recyc', 'red', 'redcoats', 'rediclous', 'rediculous', 'reduce', 'reduced', 'reelection', 'refer', 'reference', 'reflective', 'refresher', 'refreshing', 'refugees', 'refuse', 'refused', 'refuses', 'refusing', 'reg', 'regain', 'regard', 'regarding', 'regardless', 'regime', 'regions', 'regret', 'regs', 'regular', 'regulated', 'regulations', 'rehab', 'reign', 'reject', 'rejected', 'relate', 'related', 'relationship', 'relative', 'release', 'released', 'relevant', 'reliable', 'relief', 'relies', 'relieved', 'religion', 'religions', 'religious', 'relinquish', 'rely', 'remain', 'remains', 'remark', 'remember', 'remembered', 'remind', 'reminding', 'reminds', 'remove', 'removed', 'removing', 'renee', 'reno', 'reopen', 'reopened', 'reopening', 'rep', 'repair', 'repaired', 'repeat', 'repeated', 'repeatedly', 'repeating', 'repent', 'replace', 'replacement', 'report', 'reported', 'reportedly', 'reporter', 'reporters', 'reporther', 'reports', 'representatives', 'representing', 'reprogramming', 'reps', 'republic', 'republican', 'republicans', 'republicrats', 'repulsed', 'reputation', 'reque', 'requested', 'requests', 'require', 'required', 'requirement', 'requirements', 'requires', 'requiring', 'rescind', 'research', 'resemblance', 'reservation', 'reservists', 'residents', 'resides', 'resign', 'resigned', 'resist', 'resistance', 'resisting', 'resources', 'respect', 'respectable', 'respecting', 'respective', 'respirator', 'response', 'responses', 'responsibility', 'responsible', 'rest', 'restaurant', 'restaurants', 'restrain', 'restrained', 'restraints', 'restrict', 'restricted', 'restricting', 'restriction', 'restrictions', 'result', 'results', 'retain', 'retained', 'retains', 'retaliate', 'retaliation', 'retard', 'retarded', 'rethink', 'retirement', 'retrofit', 'return', 'returned', 'revealed', 'revenue', 'revenues', 'reverse', 'reversed', 'review', 'reviews', 'revoke', 'revolt', 'revolution', 'revolutionary', 'rewarding', 'rex', 'rexroat', 'rfid', 'rhetoric', 'rhetorical', 'rhino', 'rhonda', 'ribbon', 'rich', 'richard', 'richardson', 'richer', 'rick', 'rico', 'rid', 'riddle', 'ride', 'rider', 'rides', 'ridiculous', 'ridiculously', 'ridiculousness', 'riding', 'rieken', 'rifle', 'rigg', 'rigged', 'right', 'righteous', 'righteousness', 'rightful', 'rightfully', 'rights', 'riley', 'rinds', 'ring', 'rings', 'rino', 'rinse', 'riot', 'rioters', 'rioting', 'riots', 'rip', 'ripka', 'ripping', 'rise', 'rising', 'risk', 'rj', 'rnmapmujx', 'roach', 'robbed', 'robber', 'robbers', 'robbery', 'robbie', 'robed', 'robert', 'roberto', 'roberts', 'robot', 'robots', 'robust', 'rocco', 'roche', 'rochelle', 'rockefellers', 'rocker', 'rocket', 'rocks', 'rodney', 'roger', 'rogge', 'rogness', 'rogue', 'rohm', 'rohn', 'role', 'rolling', 'romney', 'ron', 'rona', 'ronetta', 'ronnie', 'roofs', 'room', 'root', 'rope', 'ropes', 'rosario', 'roscoe', 'rosewood', 'roth', 'rothschilds', 'rough', 'roughshod', 'round', 'routinely', 'row', 'roxanne', 'roy', 'ru', 'rub', 'rubber', 'rude', 'rudolph', 'rudp', 'ruggiero', 'ruin', 'ruined', 'ruining', 'rule', 'ruled', 'rules', 'ruling', 'rulings', 'run', 'running', 'runningliberal', 'runs', 'rural', 'rushing', 'russdiamond', 'russell', 'russia', 'rust', 'ruth', 'ruthless', 'rx', 'ryan', 'ryland', 'sabol', 'sabrina', 'sacrificed', 'sacrifices', 'sad', 'sadly', 'safe', 'safely', 'safer', 'safety', 'said', 'sailor', 'saint', 'sakanovic', 'sake', 'saks', 'salaam', 'salad', 'salary', 'sale', 'sales', 'sallows', 'salon', 'salvation', 'sam', 'samantha', 'samson', 'samuelson', 'san', 'sanchez', 'sanctioned', 'sanctuary', 'sand', 'sandbag', 'sandlin', 'sandy', 'sane', 'sangwin', 'sanity', 'santa', 'sara', 'sarah', 'sarc', 'sarcastic', 'sars', 'sasaoka', 'sat', 'satan', 'satanism', 'satans', 'satisfaction', 'saturated', 'saturday', 'save', 'saved', 'saves', 'saving', 'savior', 'saw', 'sawed', 'say', 'sayin', 'saying', 'sayings', 'says', 'sb', 'sc', 'scaffold', 'scale', 'scam', 'scamdemic', 'scammed', 'scare', 'scared', 'scares', 'scary', 'scenarios', 'scenes', 'schiff', 'school', 'schools', 'schweaty', 'sci', 'science', 'scientific', 'scientists', 'scifi', 'scott', 'scotus', 'scramble', 'scrambled', 'scrambling', 'scratching', 'scream', 'screamed', 'screaming', 'screen', 'screw', 'screwdriver', 'screwed', 'screwing', 'screws', 'screwsome', 'screwyou', 'script', 'scripture', 'scroll', 'scrubbed', 'scum', 'scumbag', 'scumbags', 'sd', 'se', 'sea', 'sealed', 'sean', 'searcy', 'seariously', 'season', 'seasonal', 'seat', 'seats', 'seattle', 'second', 'secret', 'secretary', 'secretly', 'sector', 'secular', 'secure', 'security', 'see', 'seeds', 'seeing', 'seek', 'seeker', 'seeking', 'seem', 'seemed', 'seems', 'seen', 'sees', 'seger', 'seibert', 'seinfeld', 'seize', 'select', 'selective', 'self', 'selfie', 'selfies', 'sell', 'sellers', 'sellout', 'sells', 'selves', 'semblance', 'senator', 'senators', 'sence', 'send', 'sending', 'sends', 'senior', 'sensationalize', 'sensationalized', 'sensationalizing', 'sense', 'senseless', 'senselessness', 'sent', 'sentence', 'separated', 'separating', 'separation', 'seperation', 'september', 'serfs', 'sergent', 'serious', 'seriously', 'serological', 'servant', 'servants', 'serve', 'served', 'serves', 'service', 'services', 'serving', 'sessions', 'set', 'setting', 'setup', 'several', 'severe', 'severely', 'severity', 'sex', 'sf', 'sgt', 'sh', 'shadows', 'shake', 'shall', 'sham', 'shame', 'shane', 'shannon', 'shape', 'share', 'shared', 'sharia', 'sharing', 'sharon', 'sharpton', 'shaw', 'shawn', 'sheble', 'shed', 'sheep', 'sheeple', 'sheepole', 'sheer', 'sheesh', 'sheila', 'shelter', 'shelters', 'shepherd', 'sheppard', 'sheriff', 'sheriffs', 'sherriff', 'shes', 'shift', 'shin', 'shine', 'ship', 'shirt', 'shirts', 'shit', 'shitbirds', 'shitcago', 'shite', 'shithole', 'shithouse', 'shitmer', 'shits', 'shitty', 'shock', 'shocked', 'shocker', 'shocking', 'shoes', 'shoot', 'shooting', 'shootings', 'shoots', 'shop', 'shopped', 'shopping', 'short', 'shorten', 'shortly', 'shortness', 'shot', 'shotgun', 'shots', 'shoukd', 'shoulder', 'shouting', 'shove', 'shovel', 'show', 'showed', 'showing', 'shown', 'shows', 'shpill', 'shriver', 'shrunkenhead', 'shut', 'shutdown', 'shutting', 'shuttle', 'si', 'sicds', 'sick', 'sickening', 'sicker', 'sickness', 'side', 'sides', 'sidious', 'sieloff', 'sighsbm', 'sign', 'signage', 'signal', 'signalling', 'signatures', 'signed', 'significant', 'signing', 'signs', 'siiiiiigh', 'silenced', 'silent', 'silly', 'silver', 'simcox', 'similar', 'similarity', 'similes', 'simmering', 'simon', 'simple', 'simply', 'simultaneously', 'sinc', 'since', 'sincerely', 'sing', 'singer', 'singing', 'single', 'sinister', 'sink', 'sinking', 'sins', 'sinus', 'sir', 'sissy', 'sister', 'sisters', 'sit', 'site', 'sits', 'sitting', 'situation', 'situations', 'six', 'sixties', 'size', 'sj', 'sjw', 'skank', 'skeletons', 'skin', 'skip', 'skipped', 'skis', 'skit', 'skul', 'sky', 'slam', 'slang', 'slap', 'slapped', 'slash', 'slaughter', 'slaves', 'sleep', 'sleeping', 'sleeps', 'sliberal', 'slick', 'slickster', 'slightly', 'slinger', 'slip', 'slowly', 'slush', 'smal', 'small', 'smart', 'smartphone', 'smash', 'smdh', 'smell', 'smfh', 'smh', 'smidge', 'smile', 'smiling', 'smirk', 'smith', 'smoke', 'smoked', 'smoking', 'smoldering', 'smollett', 'smurf', 'snakes', 'snap', 'snarky', 'sneaky', 'sneeze', 'snfsxxuud', 'sniffles', 'snipe', 'snoot', 'snooze', 'snowflake', 'snuffing', 'soaked', 'sob', 'social', 'socialism', 'socialist', 'socialists', 'socialization', 'socially', 'socialy', 'society', 'sociopathic', 'sock', 'socks', 'sold', 'solomon', 'solution', 'solve', 'solved', 'solves', 'somebody', 'somehow', 'someo', 'someone', 'someplace', 'something', 'sometimes', 'somewhere', 'son', 'song', 'songs', 'sonoma', 'soo', 'soon', 'sooner', 'soooo', 'sooooo', 'sooooooooo', 'sorkw', 'soro', 'soros', 'sorry', 'sort', 'sothankful', 'sought', 'soul', 'souls', 'sound', 'sounding', 'sounds', 'soup', 'source', 'sources', 'south', 'southern', 'soverginty', 'sow', 'space', 'spaceforce', 'spaces', 'spacex', 'spade', 'spanning', 'spargur', 'spawn', 'speak', 'speaks', 'special', 'specialists', 'specials', 'specialty', 'specific', 'specifically', 'specificity', 'specify', 'speech', 'speeches', 'speechless', 'speedway', 'spelled', 'spelling', 'spencer', 'spend', 'spending', 'spends', 'spent', 'spider', 'spiked', 'spill', 'spine', 'spit', 'spiteful', 'split', 'spoiled', 'spoke', 'spoken', 'spoon', 'sporting', 'sports', 'spot', 'spray', 'sprayed', 'spread', 'spreading', 'spreads', 'springfield', 'sprint', 'squad', 'square', 'squelch', 'sqw', 'sr', 'ss', 'st', 'stacey', 'stacy', 'stage', 'staged', 'stages', 'staggering', 'stain', 'stake', 'stalinesque', 'stall', 'stalwart', 'stamping', 'stamps', 'stand', 'standa', 'standard', 'standardinterpretations', 'standards', 'standing', 'stands', 'stanley', 'star', 'stars', 'start', 'started', 'starting', 'starts', 'stat', 'state', 'stated', 'statement', 'statements', 'staten', 'states', 'stating', 'station', 'stationed', 'stations', 'statist', 'statistics', 'stats', 'status', 'statute', 'statw', 'stay', 'stayed', 'staying', 'stays', 'steak', 'steal', 'stealing', 'steer', 'step', 'stephan', 'stephanie', 'stephens', 'stepp', 'stepped', 'steve', 'steven', 'stewart', 'stfu', 'stick', 'sticking', 'stier', 'stiffarmed', 'still', 'stimulus', 'stingy', 'stink', 'stinks', 'stipulations', 'stir', 'stirring', 'sto', 'stock', 'stocks', 'stoke', 'stoked', 'stolen', 'stone', 'stones', 'stood', 'stooge', 'stoopid', 'stop', 'stoped', 'stopped', 'stoppersonifyingcovid', 'stopping', 'stops', 'storage', 'store', 'stores', 'stories', 'storm', 'story', 'stosh', 'straight', 'strain', 'strange', 'straw', 'stream', 'street', 'streets', 'strength', 'stretch', 'stretchin', 'strides', 'strikes', 'striking', 'strip', 'stripped', 'stroehmann', 'strong', 'stronger', 'strongholds', 'strongly', 'struggling', 'stubborn', 'stuck', 'students', 'studied', 'studios', 'study', 'studying', 'stuff', 'stunning', 'stunt', 'stupid', 'stupider', 'stupidest', 'stupidity', 'stupifying', 'stylist', 'suave', 'sub', 'subdued', 'subject', 'subjects', 'submit', 'submitted', 'substitute', 'subvert', 'succeed', 'successful', 'successfully', 'suck', 'sucking', 'sucks', 'sudden', 'suddenly', 'sue', 'sued', 'sues', 'suffer', 'suffered', 'suffering', 'suffocate', 'suggest', 'suggested', 'suggesting', 'suggestion', 'suicide', 'suing', 'suit', 'suitcase', 'suits', 'sujested', 'sullen', 'sullivan', 'summer', 'sun', 'sunday', 'sunk', 'sunken', 'sunny', 'super', 'superhero', 'supermarket', 'supplies', 'supply', 'support', 'supported', 'supporter', 'supporters', 'supporting', 'supports', 'suppose', 'supposed', 'supposedly', 'supreme', 'supremes', 'suprised', 'sur', 'sure', 'surface', 'surfaces', 'surg', 'surge', 'surgeon', 'surgeons', 'surgeries', 'surgery', 'surgical', 'surprise', 'surprised', 'surprising', 'surrounding', 'surveillance', 'survival', 'survive', 'susan', 'suspect', 'suspected', 'sustain', 'sustainable', 'sutherland', 'suvs', 'swamp', 'swan', 'swann', 'swat', 'swath', 'swear', 'sweden', 'sweet', 'sweetie', 'swift', 'switch', 'swore', 'syfimovie', 'symp', 'sympathy', 'symptomatic', 'symptoms', 'symtoms', 'synagogues', 'sync', 'syndrome', 'syrian', 'syringes', 'system', 'systematically', 'systems', 'syuck', 'table', 'tables', 'tacara', 'tactic', 'tactics', 'tails', 'take', 'taken', 'takes', 'taking', 'talk', 'talked', 'talking', 'talks', 'tall', 'tallant', 'tammy', 'tan', 'tanked', 'taos', 'tar', 'tards', 'tarrant', 'tart', 'taser', 'tasha', 'task', 'tasks', 'taught', 'tauna', 'tax', 'taxed', 'taxes', 'taxpayer', 'taxpayers', 'taylor', 'tch', 'teach', 'teaching', 'team', 'tear', 'tearing', 'tears', 'tech', 'ted', 'teenager', 'tees', 'teeth', 'telecommuting', 'telegram', 'television', 'tell', 'telling', 'tells', 'temp', 'temperature', 'template', 'temporarily', 'temporary', 'ten', 'tena', 'tenants', 'tend', 'tennessee', 'tennis', 'tens', 'tension', 'tent', 'tenths', 'teri', 'term', 'terminal', 'terminated', 'termination', 'terminology', 'terms', 'terrible', 'terribly', 'terrified', 'terrorism', 'terrorist', 'terry', 'test', 'testament', 'tested', 'testing', 'testosterone', 'texan', 'texans', 'texas', 'texts', 'tge', 'th', 'thae', 'thank', 'thankbyou', 'thankful', 'thankfully', 'thanks', 'thats', 'thays', 'thc', 'thdisyrict', 'theater', 'theme', 'themse', 'themselfs', 'thenewvoice', 'thenypost', 'theory', 'ther', 'therapy', 'therefore', 'thereof', 'theres', 'theresa', 'thi', 'thier', 'thieves', 'thiller', 'thin', 'thing', 'things', 'think', 'thinker', 'thinketh', 'thinking', 'thinks', 'thinner', 'third', 'thirds', 'thiz', 'thomas', 'thos', 'though', 'thought', 'thoughts', 'thousand', 'thousands', 'thread', 'threading', 'threat', 'threaten', 'threatened', 'threatening', 'three', 'threesome', 'thrill', 'thriller', 'thrived', 'thriving', 'throat', 'throne', 'throw', 'throwing', 'thrown', 'throws', 'thru', 'thug', 'thunderbolts', 'thunk', 'thursday', 'thus', 'thwarting', 'thx', 'tia', 'tickly', 'ticks', 'tid', 'tidbits', 'ties', 'tiffany', 'tighter', 'til', 'till', 'tim', 'time', 'timer', 'times', 'timing', 'timmons', 'timothy', 'tina', 'tinder', 'tinfoil', 'tinier', 'tiny', 'tip', 'tired', 'tiresome', 'title', 'tito', 'titor', 'tjis', 'tl', 'tn', 'today', 'todd', 'toddler', 'together', 'toked', 'tokyo', 'told', 'tolerate', 'toll', 'tom', 'tombstones', 'tomerance', 'tommy', 'tone', 'tony', 'took', 'tool', 'tooth', 'top', 'torchered', 'torches', 'tore', 'torrance', 'tortured', 'toss', 'tossed', 'total', 'totalitarianism', 'totally', 'touch', 'touching', 'tough', 'toughest', 'touts', 'toward', 'towards', 'towed', 'tower', 'towers', 'town', 'toying', 'tp', 'trace', 'tracers', 'tracing', 'track', 'tracking', 'tracks', 'tracy', 'trade', 'trademarking', 'trading', 'tragedy', 'tragic', 'train', 'trained', 'training', 'traitor', 'traitors', 'trample', 'trampled', 'tranquility', 'transaction', 'transfer', 'transmit', 'transparency', 'transparent', 'trapped', 'traps', 'travel', 'traveling', 'travels', 'travesty', 'travon', 'trayvon', 'tread', 'treason', 'treasonous', 'treasury', 'treat', 'treated', 'treating', 'treatment', 'tree', 'tress', 'trey', 'trials', 'tribunal', 'tried', 'tries', 'trillionaire', 'trimp', 'trip', 'tripping', 'trivia', 'trivial', 'troll', 'trolls', 'trooouubbble', 'trophy', 'trouble', 'troy', 'truck', 'true', 'truer', 'truly', 'trump', 'trust', 'truth', 'trxfcxu', 'try', 'tryanical', 'trying', 'tsrc', 'tucker', 'tulsa', 'tuned', 'turds', 'turn', 'turned', 'turner', 'turns', 'tv', 'twat', 'twatwaddle', 'twenties', 'twice', 'twilight', 'twinkle', 'twisted', 'twit', 'two', 'twodemocratic', 'tx', 'tyler', 'type', 'typed', 'types', 'typical', 'typically', 'typo', 'tyrannical', 'tyranny', 'tyrant', 'tyrants', 'tyrftu', 'tz', 'u', 'uaw', 'ubhekathy', 'udtcb', 'ugh', 'ughs', 'ugj', 'ugly', 'uh', 'uhh', 'uhhh', 'ui', 'uk', 'ulterior', 'ultimately', 'um', 'umbridge', 'umm', 'ummm', 'unable', 'unacceptable', 'unagenda', 'unamerican', 'unarmed', 'unaware', 'unbelievable', 'uncalled', 'uncivilized', 'uncomfortable', 'unconscious', 'unconsti', 'unconstitutional', 'undead', 'understand', 'understanding', 'understands', 'understood', 'uneducated', 'unemployed', 'unemployme', 'unemployment', 'unethical', 'unfit', 'unfolding', 'unfollow', 'unfortunate', 'unfortunately', 'ungodly', 'uniform', 'uniforms', 'unimpeded', 'uninfo', 'unite', 'united', 'units', 'universal', 'universities', 'unjust', 'unjustice', 'unknown', 'unleash', 'unleashed', 'unless', 'unmasked', 'unnaui', 'unnecessary', 'unreason', 'unreasonable', 'unresponsive', 'unrest', 'unto', 'untouchable', 'untrap', 'untraveled', 'untrue', 'untrustworthy', 'upcoming', 'update', 'upheld', 'upholding', 'uploads', 'upon', 'ups', 'upset', 'upside', 'upstate', 'ur', 'us', 'usa', 'use', 'used', 'useful', 'useless', 'using', 'usual', 'usually', 'usurpation', 'ut', 'utilized', 'utm', 'utter', 'utterly', 'utube', 'uv', 'uvqyf', 'uzbuy', 'v', 'va', 'vacations', 'vaccinate', 'vaccinated', 'vaccination', 'vaccinations', 'vaccine', 'vaccines', 'vacine', 'vahle', 'vain', 'valenti', 'valentine', 'valentino', 'valerie', 'valid', 'validation', 'valley', 'value', 'van', 'vancamp', 'varied', 'varilla', 'various', 'vast', 'vb', 'vegas', 'vehicle', 'vendor', 'vendors', 'venezuela', 'vengeance', 'ventilators', 'verbiage', 'verde', 'verdict', 'verewtorqybmmkg', 'verge', 'verified', 'verifying', 'verizon', 'vern', 'vernetti', 'veronica', 'versa', 'version', 'veterans', 'vetted', 'vfqvzuvzfti', 'vh', 'vice', 'vicki', 'victim', 'victimize', 'victims', 'victoria', 'victory', 'video', 'videos', 'vietnam', 'view', 'viewers', 'vigilant', 'vile', 'village', 'villein', 'villian', 'vimeo', 'vindictive', 'violant', 'violat', 'violate', 'violated', 'violates', 'violating', 'violation', 'violence', 'violent', 'violently', 'viper', 'viral', 'virginia', 'virtue', 'virulent', 'virus', 'viruses', 'visible', 'visit', 'visitors', 'vital', 'vlwsedniqp', 'vo', 'voice', 'void', 'voight', 'volition', 'volume', 'volumes', 'voluntary', 'volunteer', 'volunteers', 'vomiting', 'vote', 'voted', 'voteherout', 'voter', 'voters', 'votes', 'votethed', 'votin', 'voting', 'vox', 'vp', 'vroom', 'vs', 'vulnerable', 'vv', 'vxnz', 'vying', 'w', 'wa', 'waaaaaahhhh', 'waaaahmmbulance', 'wacko', 'wad', 'wade', 'wagers', 'wagon', 'wagons', 'wahhhh', 'wahhhhhh', 'wait', 'waited', 'waiting', 'waitman', 'wake', 'wakeup', 'waking', 'walk', 'walkaway', 'walkawayfromdemocrats', 'walked', 'walker', 'walkin', 'walking', 'walkway', 'wallet', 'walls', 'walmart', 'walsh', 'walters', 'walton', 'wanna', 'wannabe', 'want', 'wanted', 'wanting', 'wants', 'war', 'ware', 'warent', 'warming', 'warms', 'warning', 'warns', 'warren', 'wash', 'washing', 'washington', 'wasnt', 'waste', 'wasted', 'wastes', 'wasting', 'watch', 'watched', 'watching', 'water', 'watts', 'wave', 'way', 'wayne', 'ways', 'wbd', 'weak', 'weaponized', 'weapons', 'wear', 'wearer', 'wearers', 'wearing', 'wears', 'weather', 'weaver', 'web', 'webb', 'webster', 'wed', 'wedding', 'weed', 'weeded', 'week', 'weekend', 'weekly', 'weeks', 'weight', 'weinstein', 'welcome', 'welcomed', 'welfare', 'well', 'welp', 'wench', 'went', 'werent', 'west', 'westcoast', 'westernjournal', 'wet', 'wh', 'whack', 'whamburger', 'whatever', 'whats', 'whay', 'whe', 'wheeler', 'whelp', 'whenever', 'wherever', 'whether', 'whew', 'whi', 'whine', 'whines', 'whining', 'whipped', 'whit', 'white', 'whitehouse', 'whites', 'whitler', 'whitmer', 'whitson', 'whiz', 'whoever', 'whole', 'wholesale', 'whopped', 'whore', 'whores', 'whose', 'wht', 'wicked', 'wide', 'wield', 'wiki', 'wikipedia', 'wild', 'wildfire', 'wilhelm', 'wilkins', 'willfully', 'william', 'williams', 'willie', 'willing', 'willingly', 'willis', 'wilson', 'wimp', 'wimps', 'win', 'window', 'windows', 'wing', 'winkel', 'winner', 'winning', 'wins', 'wipe', 'wiped', 'wisconsin', 'wisdom', 'wise', 'wisely', 'wiser', 'wish', 'wished', 'witch', 'witchmer', 'witchmore', 'within', 'withou', 'without', 'witnesses', 'wittekind', 'wizard', 'woah', 'woke', 'wolf', 'wolfe', 'wolfi', 'wolves', 'woman', 'womans', 'women', 'wonder', 'wondered', 'wonderful', 'wondering', 'wont', 'wood', 'woodchippers', 'woodwork', 'woody', 'woof', 'woot', 'word', 'wordpress', 'words', 'wore', 'work', 'worked', 'workers', 'working', 'workout', 'works', 'world', 'worn', 'worried', 'worries', 'worry', 'worrying', 'worse', 'worship', 'worst', 'worth', 'worthless', 'worthy', 'wou', 'would', 'wouldcut', 'wouldnt', 'wow', 'wrap', 'wrath', 'wreckinglives', 'write', 'writing', 'written', 'wrong', 'wrote', 'wtf', 'wtg', 'wth', 'wto', 'wuhan', 'wusses', 'wv', 'ww', 'www', 'wyoming', 'wyrick', 'x', 'xers', 'xmas', 'xmw', 'ya', 'yabba', 'yahoo', 'yall', 'yard', 'yards', 'yarger', 'yay', 'ybktdzmkp', 'yea', 'yeah', 'yeap', 'year', 'years', 'yelled', 'yelling', 'yellow', 'yep', 'yeppers', 'yer', 'yes', 'yesenia', 'yesss', 'yesterday', 'yet', 'yhose', 'yick', 'yikes', 'yndicate', 'yo', 'yodelling', 'yokohama', 'york', 'youknow', 'young', 'younger', 'youre', 'yous', 'youth', 'youtu', 'youtube', 'yr', 'yuckin', 'yuor', 'yup', 'yur', 'z', 'zabonik', 'zac', 'zach', 'zealand', 'zelina', 'zero', 'zgl', 'zina', 'zinc', 'zink', 'zombie', 'zombies', 'zone', 'zones', 'zuckerbergs', 'zux', 'zuyubaetw', 'zwf']\n"
     ]
    }
   ],
   "source": [
    "print(sorted(unique_words))"
   ]
  },
  {
   "cell_type": "code",
   "execution_count": 19,
   "metadata": {},
   "outputs": [
    {
     "data": {
      "text/html": [
       "<div>\n",
       "<style scoped>\n",
       "    .dataframe tbody tr th:only-of-type {\n",
       "        vertical-align: middle;\n",
       "    }\n",
       "\n",
       "    .dataframe tbody tr th {\n",
       "        vertical-align: top;\n",
       "    }\n",
       "\n",
       "    .dataframe thead th {\n",
       "        text-align: right;\n",
       "    }\n",
       "</style>\n",
       "<table border=\"1\" class=\"dataframe\">\n",
       "  <thead>\n",
       "    <tr style=\"text-align: right;\">\n",
       "      <th></th>\n",
       "      <th>aaa</th>\n",
       "      <th>aaaaaevgncl</th>\n",
       "      <th>aakiydertvy</th>\n",
       "      <th>aaron</th>\n",
       "      <th>abandonment</th>\n",
       "      <th>abbot</th>\n",
       "      <th>abbott</th>\n",
       "      <th>abc</th>\n",
       "      <th>abdus</th>\n",
       "      <th>abhorrence</th>\n",
       "      <th>...</th>\n",
       "      <th>zink</th>\n",
       "      <th>zombie</th>\n",
       "      <th>zombies</th>\n",
       "      <th>zone</th>\n",
       "      <th>zones</th>\n",
       "      <th>zuckerbergs</th>\n",
       "      <th>zux</th>\n",
       "      <th>zuyubaetw</th>\n",
       "      <th>zwf</th>\n",
       "      <th>Permalink</th>\n",
       "    </tr>\n",
       "  </thead>\n",
       "  <tbody>\n",
       "    <tr>\n",
       "      <th>1</th>\n",
       "      <td>0</td>\n",
       "      <td>0</td>\n",
       "      <td>0</td>\n",
       "      <td>0</td>\n",
       "      <td>0</td>\n",
       "      <td>0</td>\n",
       "      <td>0</td>\n",
       "      <td>0</td>\n",
       "      <td>0</td>\n",
       "      <td>0</td>\n",
       "      <td>...</td>\n",
       "      <td>0</td>\n",
       "      <td>0</td>\n",
       "      <td>0</td>\n",
       "      <td>0</td>\n",
       "      <td>0</td>\n",
       "      <td>0</td>\n",
       "      <td>0</td>\n",
       "      <td>0</td>\n",
       "      <td>0</td>\n",
       "      <td>1462379490609461</td>\n",
       "    </tr>\n",
       "    <tr>\n",
       "      <th>2</th>\n",
       "      <td>0</td>\n",
       "      <td>0</td>\n",
       "      <td>0</td>\n",
       "      <td>0</td>\n",
       "      <td>0</td>\n",
       "      <td>0</td>\n",
       "      <td>0</td>\n",
       "      <td>0</td>\n",
       "      <td>0</td>\n",
       "      <td>0</td>\n",
       "      <td>...</td>\n",
       "      <td>0</td>\n",
       "      <td>0</td>\n",
       "      <td>0</td>\n",
       "      <td>0</td>\n",
       "      <td>0</td>\n",
       "      <td>0</td>\n",
       "      <td>0</td>\n",
       "      <td>0</td>\n",
       "      <td>0</td>\n",
       "      <td>1462715223909221</td>\n",
       "    </tr>\n",
       "    <tr>\n",
       "      <th>3</th>\n",
       "      <td>0</td>\n",
       "      <td>0</td>\n",
       "      <td>0</td>\n",
       "      <td>0</td>\n",
       "      <td>0</td>\n",
       "      <td>0</td>\n",
       "      <td>0</td>\n",
       "      <td>0</td>\n",
       "      <td>0</td>\n",
       "      <td>0</td>\n",
       "      <td>...</td>\n",
       "      <td>0</td>\n",
       "      <td>0</td>\n",
       "      <td>0</td>\n",
       "      <td>0</td>\n",
       "      <td>0</td>\n",
       "      <td>0</td>\n",
       "      <td>0</td>\n",
       "      <td>0</td>\n",
       "      <td>0</td>\n",
       "      <td>1461150450732365</td>\n",
       "    </tr>\n",
       "    <tr>\n",
       "      <th>4</th>\n",
       "      <td>0</td>\n",
       "      <td>0</td>\n",
       "      <td>0</td>\n",
       "      <td>0</td>\n",
       "      <td>0</td>\n",
       "      <td>0</td>\n",
       "      <td>0</td>\n",
       "      <td>0</td>\n",
       "      <td>0</td>\n",
       "      <td>0</td>\n",
       "      <td>...</td>\n",
       "      <td>0</td>\n",
       "      <td>0</td>\n",
       "      <td>0</td>\n",
       "      <td>0</td>\n",
       "      <td>0</td>\n",
       "      <td>0</td>\n",
       "      <td>0</td>\n",
       "      <td>0</td>\n",
       "      <td>0</td>\n",
       "      <td>1462158127298264</td>\n",
       "    </tr>\n",
       "    <tr>\n",
       "      <th>5</th>\n",
       "      <td>0</td>\n",
       "      <td>0</td>\n",
       "      <td>0</td>\n",
       "      <td>0</td>\n",
       "      <td>0</td>\n",
       "      <td>0</td>\n",
       "      <td>0</td>\n",
       "      <td>0</td>\n",
       "      <td>0</td>\n",
       "      <td>0</td>\n",
       "      <td>...</td>\n",
       "      <td>0</td>\n",
       "      <td>0</td>\n",
       "      <td>0</td>\n",
       "      <td>0</td>\n",
       "      <td>0</td>\n",
       "      <td>0</td>\n",
       "      <td>0</td>\n",
       "      <td>0</td>\n",
       "      <td>0</td>\n",
       "      <td>1462708023909941</td>\n",
       "    </tr>\n",
       "  </tbody>\n",
       "</table>\n",
       "<p>5 rows × 6821 columns</p>\n",
       "</div>"
      ],
      "text/plain": [
       "   aaa  aaaaaevgncl  aakiydertvy  aaron  abandonment  abbot  abbott  abc  \\\n",
       "1    0            0            0      0            0      0       0    0   \n",
       "2    0            0            0      0            0      0       0    0   \n",
       "3    0            0            0      0            0      0       0    0   \n",
       "4    0            0            0      0            0      0       0    0   \n",
       "5    0            0            0      0            0      0       0    0   \n",
       "\n",
       "   abdus  abhorrence  ...  zink  zombie  zombies  zone  zones  zuckerbergs  \\\n",
       "1      0           0  ...     0       0        0     0      0            0   \n",
       "2      0           0  ...     0       0        0     0      0            0   \n",
       "3      0           0  ...     0       0        0     0      0            0   \n",
       "4      0           0  ...     0       0        0     0      0            0   \n",
       "5      0           0  ...     0       0        0     0      0            0   \n",
       "\n",
       "   zux  zuyubaetw  zwf         Permalink  \n",
       "1    0          0    0  1462379490609461  \n",
       "2    0          0    0  1462715223909221  \n",
       "3    0          0    0  1461150450732365  \n",
       "4    0          0    0  1462158127298264  \n",
       "5    0          0    0  1462708023909941  \n",
       "\n",
       "[5 rows x 6821 columns]"
      ]
     },
     "execution_count": 19,
     "metadata": {},
     "output_type": "execute_result"
    }
   ],
   "source": [
    "#DTM\n",
    "cvec = CountVectorizer(stop_words = 'english')\n",
    "all_text_cvec = cvec.fit_transform(all_text['text'])\n",
    "#transformaing CountVectorized text in to a data frame\n",
    "all_text_df = pd.DataFrame(all_text_cvec.todense(), columns = cvec.get_feature_names())\n",
    "all_text_df.index = all_text.index\n",
    "all_text_df['Permalink'] = all_text.Permalink\n",
    "all_text_df.head()\n",
    "\n"
   ]
  },
  {
   "cell_type": "code",
   "execution_count": 20,
   "metadata": {},
   "outputs": [],
   "source": [
    "all_text_df.to_pickle(\"dtm.pkl\")\n",
    "\n",
    "all_text.to_pickle('all_text_clean.pkl')"
   ]
  }
 ],
 "metadata": {
  "kernelspec": {
   "display_name": "Python 3",
   "language": "python",
   "name": "python3"
  },
  "language_info": {
   "codemirror_mode": {
    "name": "ipython",
    "version": 3
   },
   "file_extension": ".py",
   "mimetype": "text/x-python",
   "name": "python",
   "nbconvert_exporter": "python",
   "pygments_lexer": "ipython3",
   "version": "3.7.4"
  }
 },
 "nbformat": 4,
 "nbformat_minor": 2
}
