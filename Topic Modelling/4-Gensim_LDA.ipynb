{
 "cells": [
  {
   "cell_type": "markdown",
   "metadata": {},
   "source": [
    "# Latent Dirichlet Allocation with Gensim"
   ]
  },
  {
   "cell_type": "code",
   "execution_count": 1,
   "metadata": {},
   "outputs": [],
   "source": [
    "import pandas as pd\n",
    "from nltk.tokenize import RegexpTokenizer\n",
    "import pickle\n",
    "from gensim import corpora, models\n",
    "from nltk import pos_tag\n",
    "from gensim.models import CoherenceModel\n",
    "import pyLDAvis\n",
    "import pyLDAvis.gensim \n",
    "import pyLDAvis.sklearn\n",
    "import matplotlib.pyplot as plt\n",
    "import numpy as np\n",
    "from sklearn.decomposition import LatentDirichletAllocation, TruncatedSVD\n",
    "from sklearn.feature_extraction.text import CountVectorizer\n",
    "from sklearn.model_selection import GridSearchCV\n",
    "import tmtoolkit"
   ]
  },
  {
   "cell_type": "code",
   "execution_count": 2,
   "metadata": {},
   "outputs": [],
   "source": [
    "np.random.seed(42)"
   ]
  },
  {
   "cell_type": "code",
   "execution_count": 3,
   "metadata": {},
   "outputs": [],
   "source": [
    "dtm = pd.read_pickle('dtm.pkl')\n",
    "corpus = pd.read_pickle('all_text_clean.pkl')"
   ]
  },
  {
   "cell_type": "code",
   "execution_count": 4,
   "metadata": {},
   "outputs": [
    {
     "data": {
      "text/html": [
       "<div>\n",
       "<style scoped>\n",
       "    .dataframe tbody tr th:only-of-type {\n",
       "        vertical-align: middle;\n",
       "    }\n",
       "\n",
       "    .dataframe tbody tr th {\n",
       "        vertical-align: top;\n",
       "    }\n",
       "\n",
       "    .dataframe thead th {\n",
       "        text-align: right;\n",
       "    }\n",
       "</style>\n",
       "<table border=\"1\" class=\"dataframe\">\n",
       "  <thead>\n",
       "    <tr style=\"text-align: right;\">\n",
       "      <th></th>\n",
       "      <th>aaa</th>\n",
       "      <th>aaaaaevgncl</th>\n",
       "      <th>aakiydertvy</th>\n",
       "      <th>aaron</th>\n",
       "      <th>abandonment</th>\n",
       "      <th>abbot</th>\n",
       "      <th>abbott</th>\n",
       "      <th>abc</th>\n",
       "      <th>abdus</th>\n",
       "      <th>abhorrence</th>\n",
       "      <th>...</th>\n",
       "      <th>zink</th>\n",
       "      <th>zombie</th>\n",
       "      <th>zombies</th>\n",
       "      <th>zone</th>\n",
       "      <th>zones</th>\n",
       "      <th>zuckerbergs</th>\n",
       "      <th>zux</th>\n",
       "      <th>zuyubaetw</th>\n",
       "      <th>zwf</th>\n",
       "      <th>Permalink</th>\n",
       "    </tr>\n",
       "  </thead>\n",
       "  <tbody>\n",
       "    <tr>\n",
       "      <th>1</th>\n",
       "      <td>0</td>\n",
       "      <td>0</td>\n",
       "      <td>0</td>\n",
       "      <td>0</td>\n",
       "      <td>0</td>\n",
       "      <td>0</td>\n",
       "      <td>0</td>\n",
       "      <td>0</td>\n",
       "      <td>0</td>\n",
       "      <td>0</td>\n",
       "      <td>...</td>\n",
       "      <td>0</td>\n",
       "      <td>0</td>\n",
       "      <td>0</td>\n",
       "      <td>0</td>\n",
       "      <td>0</td>\n",
       "      <td>0</td>\n",
       "      <td>0</td>\n",
       "      <td>0</td>\n",
       "      <td>0</td>\n",
       "      <td>1462379490609461</td>\n",
       "    </tr>\n",
       "    <tr>\n",
       "      <th>2</th>\n",
       "      <td>0</td>\n",
       "      <td>0</td>\n",
       "      <td>0</td>\n",
       "      <td>0</td>\n",
       "      <td>0</td>\n",
       "      <td>0</td>\n",
       "      <td>0</td>\n",
       "      <td>0</td>\n",
       "      <td>0</td>\n",
       "      <td>0</td>\n",
       "      <td>...</td>\n",
       "      <td>0</td>\n",
       "      <td>0</td>\n",
       "      <td>0</td>\n",
       "      <td>0</td>\n",
       "      <td>0</td>\n",
       "      <td>0</td>\n",
       "      <td>0</td>\n",
       "      <td>0</td>\n",
       "      <td>0</td>\n",
       "      <td>1462715223909221</td>\n",
       "    </tr>\n",
       "    <tr>\n",
       "      <th>3</th>\n",
       "      <td>0</td>\n",
       "      <td>0</td>\n",
       "      <td>0</td>\n",
       "      <td>0</td>\n",
       "      <td>0</td>\n",
       "      <td>0</td>\n",
       "      <td>0</td>\n",
       "      <td>0</td>\n",
       "      <td>0</td>\n",
       "      <td>0</td>\n",
       "      <td>...</td>\n",
       "      <td>0</td>\n",
       "      <td>0</td>\n",
       "      <td>0</td>\n",
       "      <td>0</td>\n",
       "      <td>0</td>\n",
       "      <td>0</td>\n",
       "      <td>0</td>\n",
       "      <td>0</td>\n",
       "      <td>0</td>\n",
       "      <td>1461150450732365</td>\n",
       "    </tr>\n",
       "    <tr>\n",
       "      <th>4</th>\n",
       "      <td>0</td>\n",
       "      <td>0</td>\n",
       "      <td>0</td>\n",
       "      <td>0</td>\n",
       "      <td>0</td>\n",
       "      <td>0</td>\n",
       "      <td>0</td>\n",
       "      <td>0</td>\n",
       "      <td>0</td>\n",
       "      <td>0</td>\n",
       "      <td>...</td>\n",
       "      <td>0</td>\n",
       "      <td>0</td>\n",
       "      <td>0</td>\n",
       "      <td>0</td>\n",
       "      <td>0</td>\n",
       "      <td>0</td>\n",
       "      <td>0</td>\n",
       "      <td>0</td>\n",
       "      <td>0</td>\n",
       "      <td>1462158127298264</td>\n",
       "    </tr>\n",
       "    <tr>\n",
       "      <th>5</th>\n",
       "      <td>0</td>\n",
       "      <td>0</td>\n",
       "      <td>0</td>\n",
       "      <td>0</td>\n",
       "      <td>0</td>\n",
       "      <td>0</td>\n",
       "      <td>0</td>\n",
       "      <td>0</td>\n",
       "      <td>0</td>\n",
       "      <td>0</td>\n",
       "      <td>...</td>\n",
       "      <td>0</td>\n",
       "      <td>0</td>\n",
       "      <td>0</td>\n",
       "      <td>0</td>\n",
       "      <td>0</td>\n",
       "      <td>0</td>\n",
       "      <td>0</td>\n",
       "      <td>0</td>\n",
       "      <td>0</td>\n",
       "      <td>1462708023909941</td>\n",
       "    </tr>\n",
       "  </tbody>\n",
       "</table>\n",
       "<p>5 rows × 6821 columns</p>\n",
       "</div>"
      ],
      "text/plain": [
       "   aaa  aaaaaevgncl  aakiydertvy  aaron  abandonment  abbot  abbott  abc  \\\n",
       "1    0            0            0      0            0      0       0    0   \n",
       "2    0            0            0      0            0      0       0    0   \n",
       "3    0            0            0      0            0      0       0    0   \n",
       "4    0            0            0      0            0      0       0    0   \n",
       "5    0            0            0      0            0      0       0    0   \n",
       "\n",
       "   abdus  abhorrence  ...  zink  zombie  zombies  zone  zones  zuckerbergs  \\\n",
       "1      0           0  ...     0       0        0     0      0            0   \n",
       "2      0           0  ...     0       0        0     0      0            0   \n",
       "3      0           0  ...     0       0        0     0      0            0   \n",
       "4      0           0  ...     0       0        0     0      0            0   \n",
       "5      0           0  ...     0       0        0     0      0            0   \n",
       "\n",
       "   zux  zuyubaetw  zwf         Permalink  \n",
       "1    0          0    0  1462379490609461  \n",
       "2    0          0    0  1462715223909221  \n",
       "3    0          0    0  1461150450732365  \n",
       "4    0          0    0  1462158127298264  \n",
       "5    0          0    0  1462708023909941  \n",
       "\n",
       "[5 rows x 6821 columns]"
      ]
     },
     "execution_count": 4,
     "metadata": {},
     "output_type": "execute_result"
    }
   ],
   "source": [
    "dtm.head()"
   ]
  },
  {
   "cell_type": "code",
   "execution_count": 5,
   "metadata": {},
   "outputs": [
    {
     "data": {
      "text/html": [
       "<div>\n",
       "<style scoped>\n",
       "    .dataframe tbody tr th:only-of-type {\n",
       "        vertical-align: middle;\n",
       "    }\n",
       "\n",
       "    .dataframe tbody tr th {\n",
       "        vertical-align: top;\n",
       "    }\n",
       "\n",
       "    .dataframe thead th {\n",
       "        text-align: right;\n",
       "    }\n",
       "</style>\n",
       "<table border=\"1\" class=\"dataframe\">\n",
       "  <thead>\n",
       "    <tr style=\"text-align: right;\">\n",
       "      <th></th>\n",
       "      <th>Permalink</th>\n",
       "      <th>full_text</th>\n",
       "      <th>text</th>\n",
       "    </tr>\n",
       "  </thead>\n",
       "  <tbody>\n",
       "    <tr>\n",
       "      <th>1</th>\n",
       "      <td>1462379490609461</td>\n",
       "      <td>I’ve never seen this much unrest in the states...</td>\n",
       "      <td>never seen much unrest states anyone else</td>\n",
       "    </tr>\n",
       "    <tr>\n",
       "      <th>2</th>\n",
       "      <td>1462715223909221</td>\n",
       "      <td>ATTENTION BUSINESS OWNERS AND ALL THE MASKED P...</td>\n",
       "      <td>attention business owners masked people severi...</td>\n",
       "    </tr>\n",
       "    <tr>\n",
       "      <th>3</th>\n",
       "      <td>1461150450732365</td>\n",
       "      <td>This is whats wrong with attention seeking mil...</td>\n",
       "      <td>whats wrong attention seeking millenials young...</td>\n",
       "    </tr>\n",
       "    <tr>\n",
       "      <th>4</th>\n",
       "      <td>1462158127298264</td>\n",
       "      <td>Upset Californian Conservative</td>\n",
       "      <td>upset californian conservative</td>\n",
       "    </tr>\n",
       "    <tr>\n",
       "      <th>5</th>\n",
       "      <td>1462708023909941</td>\n",
       "      <td>Live Stream. CREW dragon launch.</td>\n",
       "      <td>live stream crew dragon launch</td>\n",
       "    </tr>\n",
       "  </tbody>\n",
       "</table>\n",
       "</div>"
      ],
      "text/plain": [
       "          Permalink                                          full_text  \\\n",
       "1  1462379490609461  I’ve never seen this much unrest in the states...   \n",
       "2  1462715223909221  ATTENTION BUSINESS OWNERS AND ALL THE MASKED P...   \n",
       "3  1461150450732365  This is whats wrong with attention seeking mil...   \n",
       "4  1462158127298264                     Upset Californian Conservative   \n",
       "5  1462708023909941                   Live Stream. CREW dragon launch.   \n",
       "\n",
       "                                                text  \n",
       "1          never seen much unrest states anyone else  \n",
       "2  attention business owners masked people severi...  \n",
       "3  whats wrong attention seeking millenials young...  \n",
       "4                     upset californian conservative  \n",
       "5                     live stream crew dragon launch  "
      ]
     },
     "execution_count": 5,
     "metadata": {},
     "output_type": "execute_result"
    }
   ],
   "source": [
    "corpus.head()"
   ]
  },
  {
   "cell_type": "code",
   "execution_count": 6,
   "metadata": {},
   "outputs": [],
   "source": [
    "tokenizer = RegexpTokenizer(r'\\w+')"
   ]
  },
  {
   "cell_type": "code",
   "execution_count": 7,
   "metadata": {},
   "outputs": [],
   "source": [
    "corpus['tokenized_text'] = [tokenizer.tokenize(text) for text in corpus['text']]"
   ]
  },
  {
   "cell_type": "code",
   "execution_count": 8,
   "metadata": {},
   "outputs": [
    {
     "data": {
      "text/html": [
       "<div>\n",
       "<style scoped>\n",
       "    .dataframe tbody tr th:only-of-type {\n",
       "        vertical-align: middle;\n",
       "    }\n",
       "\n",
       "    .dataframe tbody tr th {\n",
       "        vertical-align: top;\n",
       "    }\n",
       "\n",
       "    .dataframe thead th {\n",
       "        text-align: right;\n",
       "    }\n",
       "</style>\n",
       "<table border=\"1\" class=\"dataframe\">\n",
       "  <thead>\n",
       "    <tr style=\"text-align: right;\">\n",
       "      <th></th>\n",
       "      <th>Permalink</th>\n",
       "      <th>full_text</th>\n",
       "      <th>text</th>\n",
       "      <th>tokenized_text</th>\n",
       "    </tr>\n",
       "  </thead>\n",
       "  <tbody>\n",
       "    <tr>\n",
       "      <th>1</th>\n",
       "      <td>1462379490609461</td>\n",
       "      <td>I’ve never seen this much unrest in the states...</td>\n",
       "      <td>never seen much unrest states anyone else</td>\n",
       "      <td>[never, seen, much, unrest, states, anyone, else]</td>\n",
       "    </tr>\n",
       "    <tr>\n",
       "      <th>2</th>\n",
       "      <td>1462715223909221</td>\n",
       "      <td>ATTENTION BUSINESS OWNERS AND ALL THE MASKED P...</td>\n",
       "      <td>attention business owners masked people severi...</td>\n",
       "      <td>[attention, business, owners, masked, people, ...</td>\n",
       "    </tr>\n",
       "    <tr>\n",
       "      <th>3</th>\n",
       "      <td>1461150450732365</td>\n",
       "      <td>This is whats wrong with attention seeking mil...</td>\n",
       "      <td>whats wrong attention seeking millenials young...</td>\n",
       "      <td>[whats, wrong, attention, seeking, millenials,...</td>\n",
       "    </tr>\n",
       "    <tr>\n",
       "      <th>4</th>\n",
       "      <td>1462158127298264</td>\n",
       "      <td>Upset Californian Conservative</td>\n",
       "      <td>upset californian conservative</td>\n",
       "      <td>[upset, californian, conservative]</td>\n",
       "    </tr>\n",
       "    <tr>\n",
       "      <th>5</th>\n",
       "      <td>1462708023909941</td>\n",
       "      <td>Live Stream. CREW dragon launch.</td>\n",
       "      <td>live stream crew dragon launch</td>\n",
       "      <td>[live, stream, crew, dragon, launch]</td>\n",
       "    </tr>\n",
       "  </tbody>\n",
       "</table>\n",
       "</div>"
      ],
      "text/plain": [
       "          Permalink                                          full_text  \\\n",
       "1  1462379490609461  I’ve never seen this much unrest in the states...   \n",
       "2  1462715223909221  ATTENTION BUSINESS OWNERS AND ALL THE MASKED P...   \n",
       "3  1461150450732365  This is whats wrong with attention seeking mil...   \n",
       "4  1462158127298264                     Upset Californian Conservative   \n",
       "5  1462708023909941                   Live Stream. CREW dragon launch.   \n",
       "\n",
       "                                                text  \\\n",
       "1          never seen much unrest states anyone else   \n",
       "2  attention business owners masked people severi...   \n",
       "3  whats wrong attention seeking millenials young...   \n",
       "4                     upset californian conservative   \n",
       "5                     live stream crew dragon launch   \n",
       "\n",
       "                                      tokenized_text  \n",
       "1  [never, seen, much, unrest, states, anyone, else]  \n",
       "2  [attention, business, owners, masked, people, ...  \n",
       "3  [whats, wrong, attention, seeking, millenials,...  \n",
       "4                 [upset, californian, conservative]  \n",
       "5               [live, stream, crew, dragon, launch]  "
      ]
     },
     "execution_count": 8,
     "metadata": {},
     "output_type": "execute_result"
    }
   ],
   "source": [
    "corpus.head()"
   ]
  },
  {
   "cell_type": "markdown",
   "metadata": {},
   "source": [
    "# Gensim"
   ]
  },
  {
   "cell_type": "markdown",
   "metadata": {},
   "source": [
    "I went through and ran different models for different collections of words. First all words minus the stopwords, then only nouns, and last only nouns and adjectives. I used Coherence Score as my metric to compare the results. The larger the coherence score the better the model. Based on the score, the model with only nouns performed the best with 5 topics. Using this information, I then set up a loop to manually grid search to find the best number of topics."
   ]
  },
  {
   "cell_type": "code",
   "execution_count": 9,
   "metadata": {},
   "outputs": [],
   "source": [
    "#model with 3 topics and all words\n",
    "dictionary = corpora.Dictionary(corpus['tokenized_text'])"
   ]
  },
  {
   "cell_type": "code",
   "execution_count": 10,
   "metadata": {},
   "outputs": [],
   "source": [
    "corpus_dic = [dictionary.doc2bow(text) for text in corpus['tokenized_text']]"
   ]
  },
  {
   "cell_type": "code",
   "execution_count": 11,
   "metadata": {},
   "outputs": [],
   "source": [
    "ldamodel = models.ldamodel.LdaModel(corpus_dic, num_topics=3, id2word = dictionary, passes=200, random_state =42)"
   ]
  },
  {
   "cell_type": "code",
   "execution_count": 12,
   "metadata": {},
   "outputs": [
    {
     "data": {
      "text/plain": [
       "[(0,\n",
       "  '0.011*\"like\" + 0.009*\"see\" + 0.007*\"mask\" + 0.007*\"law\" + 0.005*\"one\" + 0.005*\"masks\" + 0.005*\"abbott\" + 0.005*\"people\" + 0.005*\"needs\" + 0.005*\"th\"'),\n",
       " (1,\n",
       "  '0.038*\"normal\" + 0.029*\"new\" + 0.010*\"never\" + 0.008*\"say\" + 0.007*\"see\" + 0.005*\"business\" + 0.005*\"way\" + 0.005*\"accept\" + 0.005*\"us\" + 0.005*\"media\"'),\n",
       " (2,\n",
       "  '0.016*\"people\" + 0.012*\"see\" + 0.010*\"money\" + 0.008*\"get\" + 0.007*\"back\" + 0.006*\"virus\" + 0.006*\"vote\" + 0.006*\"stop\" + 0.006*\"businesses\" + 0.005*\"go\"')]"
      ]
     },
     "execution_count": 12,
     "metadata": {},
     "output_type": "execute_result"
    }
   ],
   "source": [
    "ldamodel.print_topics()"
   ]
  },
  {
   "cell_type": "code",
   "execution_count": 13,
   "metadata": {},
   "outputs": [
    {
     "name": "stdout",
     "output_type": "stream",
     "text": [
      "\n",
      "Perplexity:  -8.290998529528862\n",
      "\n",
      "Coherence Score:  0.254902120432737\n"
     ]
    }
   ],
   "source": [
    "# Compute Perplexity\n",
    "print('\\nPerplexity: ', ldamodel.log_perplexity(corpus_dic))  # a measure of how good the model is. lower the better.\n",
    "\n",
    "# Compute Coherence Score\n",
    "coherence_model_lda = CoherenceModel(model=ldamodel, texts=corpus['tokenized_text'], dictionary=dictionary, coherence='c_v')\n",
    "coherence_lda = coherence_model_lda.get_coherence()\n",
    "print('\\nCoherence Score: ', coherence_lda)"
   ]
  },
  {
   "cell_type": "code",
   "execution_count": 14,
   "metadata": {},
   "outputs": [],
   "source": [
    "#all words and 5 topics\n",
    "ldamodel = models.ldamodel.LdaModel(corpus_dic, num_topics=5, id2word = dictionary, passes=200, random_state = 42)"
   ]
  },
  {
   "cell_type": "code",
   "execution_count": 15,
   "metadata": {},
   "outputs": [
    {
     "data": {
      "text/plain": [
       "[(0,\n",
       "  '0.013*\"like\" + 0.011*\"law\" + 0.010*\"one\" + 0.009*\"see\" + 0.008*\"mask\" + 0.007*\"th\" + 0.007*\"people\" + 0.006*\"looks\" + 0.006*\"court\" + 0.006*\"wearing\"'),\n",
       " (1,\n",
       "  '0.014*\"see\" + 0.010*\"get\" + 0.010*\"never\" + 0.008*\"people\" + 0.008*\"accept\" + 0.007*\"business\" + 0.007*\"us\" + 0.006*\"said\" + 0.006*\"way\" + 0.006*\"think\"'),\n",
       " (2,\n",
       "  '0.043*\"normal\" + 0.032*\"new\" + 0.016*\"people\" + 0.010*\"back\" + 0.009*\"money\" + 0.009*\"vote\" + 0.009*\"see\" + 0.007*\"like\" + 0.007*\"businesses\" + 0.007*\"get\"'),\n",
       " (3,\n",
       "  '0.009*\"need\" + 0.008*\"hell\" + 0.007*\"oh\" + 0.006*\"exactly\" + 0.006*\"get\" + 0.006*\"see\" + 0.006*\"yeah\" + 0.005*\"many\" + 0.005*\"bad\" + 0.005*\"sick\"'),\n",
       " (4,\n",
       "  '0.009*\"see\" + 0.008*\"stop\" + 0.008*\"people\" + 0.007*\"know\" + 0.007*\"business\" + 0.006*\"put\" + 0.006*\"texas\" + 0.006*\"love\" + 0.006*\"money\" + 0.006*\"state\"')]"
      ]
     },
     "execution_count": 15,
     "metadata": {},
     "output_type": "execute_result"
    }
   ],
   "source": [
    "ldamodel.print_topics()"
   ]
  },
  {
   "cell_type": "code",
   "execution_count": 16,
   "metadata": {},
   "outputs": [
    {
     "name": "stdout",
     "output_type": "stream",
     "text": [
      "\n",
      "Perplexity:  -8.425864837317796\n",
      "\n",
      "Coherence Score:  0.3292574859991648\n"
     ]
    }
   ],
   "source": [
    "# Compute Perplexity\n",
    "print('\\nPerplexity: ', ldamodel.log_perplexity(corpus_dic))  # a measure of how good the model is. lower the better.\n",
    "\n",
    "# Compute Coherence Score\n",
    "coherence_model_lda = CoherenceModel(model=ldamodel, texts=corpus['tokenized_text'], dictionary=dictionary, coherence='c_v')\n",
    "coherence_lda = coherence_model_lda.get_coherence()\n",
    "print('\\nCoherence Score: ', coherence_lda)"
   ]
  },
  {
   "cell_type": "markdown",
   "metadata": {},
   "source": [
    "## Nouns"
   ]
  },
  {
   "cell_type": "code",
   "execution_count": 17,
   "metadata": {},
   "outputs": [],
   "source": [
    "is_noun = lambda pos: pos[:2] == 'NN'\n",
    "\n",
    "nouns = []\n",
    "for i in corpus.index:\n",
    "    nouns.append([word for (word, pos) in pos_tag(corpus.loc[i,'tokenized_text']) if is_noun(pos)])\n",
    "corpus['nouns'] = nouns"
   ]
  },
  {
   "cell_type": "code",
   "execution_count": 18,
   "metadata": {},
   "outputs": [
    {
     "data": {
      "text/html": [
       "<div>\n",
       "<style scoped>\n",
       "    .dataframe tbody tr th:only-of-type {\n",
       "        vertical-align: middle;\n",
       "    }\n",
       "\n",
       "    .dataframe tbody tr th {\n",
       "        vertical-align: top;\n",
       "    }\n",
       "\n",
       "    .dataframe thead th {\n",
       "        text-align: right;\n",
       "    }\n",
       "</style>\n",
       "<table border=\"1\" class=\"dataframe\">\n",
       "  <thead>\n",
       "    <tr style=\"text-align: right;\">\n",
       "      <th></th>\n",
       "      <th>Permalink</th>\n",
       "      <th>full_text</th>\n",
       "      <th>text</th>\n",
       "      <th>tokenized_text</th>\n",
       "      <th>nouns</th>\n",
       "    </tr>\n",
       "  </thead>\n",
       "  <tbody>\n",
       "    <tr>\n",
       "      <th>1</th>\n",
       "      <td>1462379490609461</td>\n",
       "      <td>I’ve never seen this much unrest in the states...</td>\n",
       "      <td>never seen much unrest states anyone else</td>\n",
       "      <td>[never, seen, much, unrest, states, anyone, else]</td>\n",
       "      <td>[states, anyone]</td>\n",
       "    </tr>\n",
       "    <tr>\n",
       "      <th>2</th>\n",
       "      <td>1462715223909221</td>\n",
       "      <td>ATTENTION BUSINESS OWNERS AND ALL THE MASKED P...</td>\n",
       "      <td>attention business owners masked people severi...</td>\n",
       "      <td>[attention, business, owners, masked, people, ...</td>\n",
       "      <td>[attention, business, owners, people, severity...</td>\n",
       "    </tr>\n",
       "    <tr>\n",
       "      <th>3</th>\n",
       "      <td>1461150450732365</td>\n",
       "      <td>This is whats wrong with attention seeking mil...</td>\n",
       "      <td>whats wrong attention seeking millenials young...</td>\n",
       "      <td>[whats, wrong, attention, seeking, millenials,...</td>\n",
       "      <td>[whats, attention, millenials, woman, geco, co...</td>\n",
       "    </tr>\n",
       "    <tr>\n",
       "      <th>4</th>\n",
       "      <td>1462158127298264</td>\n",
       "      <td>Upset Californian Conservative</td>\n",
       "      <td>upset californian conservative</td>\n",
       "      <td>[upset, californian, conservative]</td>\n",
       "      <td>[]</td>\n",
       "    </tr>\n",
       "    <tr>\n",
       "      <th>5</th>\n",
       "      <td>1462708023909941</td>\n",
       "      <td>Live Stream. CREW dragon launch.</td>\n",
       "      <td>live stream crew dragon launch</td>\n",
       "      <td>[live, stream, crew, dragon, launch]</td>\n",
       "      <td>[stream, crew, dragon, launch]</td>\n",
       "    </tr>\n",
       "  </tbody>\n",
       "</table>\n",
       "</div>"
      ],
      "text/plain": [
       "          Permalink                                          full_text  \\\n",
       "1  1462379490609461  I’ve never seen this much unrest in the states...   \n",
       "2  1462715223909221  ATTENTION BUSINESS OWNERS AND ALL THE MASKED P...   \n",
       "3  1461150450732365  This is whats wrong with attention seeking mil...   \n",
       "4  1462158127298264                     Upset Californian Conservative   \n",
       "5  1462708023909941                   Live Stream. CREW dragon launch.   \n",
       "\n",
       "                                                text  \\\n",
       "1          never seen much unrest states anyone else   \n",
       "2  attention business owners masked people severi...   \n",
       "3  whats wrong attention seeking millenials young...   \n",
       "4                     upset californian conservative   \n",
       "5                     live stream crew dragon launch   \n",
       "\n",
       "                                      tokenized_text  \\\n",
       "1  [never, seen, much, unrest, states, anyone, else]   \n",
       "2  [attention, business, owners, masked, people, ...   \n",
       "3  [whats, wrong, attention, seeking, millenials,...   \n",
       "4                 [upset, californian, conservative]   \n",
       "5               [live, stream, crew, dragon, launch]   \n",
       "\n",
       "                                               nouns  \n",
       "1                                   [states, anyone]  \n",
       "2  [attention, business, owners, people, severity...  \n",
       "3  [whats, attention, millenials, woman, geco, co...  \n",
       "4                                                 []  \n",
       "5                     [stream, crew, dragon, launch]  "
      ]
     },
     "execution_count": 18,
     "metadata": {},
     "output_type": "execute_result"
    }
   ],
   "source": [
    "corpus.head()"
   ]
  },
  {
   "cell_type": "code",
   "execution_count": 19,
   "metadata": {},
   "outputs": [
    {
     "data": {
      "text/plain": [
       "[(0,\n",
       "  '0.019*\"business\" + 0.015*\"mask\" + 0.013*\"law\" + 0.013*\"businesses\" + 0.012*\"people\" + 0.010*\"masks\" + 0.007*\"home\" + 0.007*\"see\" + 0.007*\"government\" + 0.007*\"media\"'),\n",
       " (1,\n",
       "  '0.010*\"governor\" + 0.010*\"abbott\" + 0.010*\"vote\" + 0.009*\"see\" + 0.009*\"people\" + 0.008*\"shit\" + 0.008*\"virus\" + 0.007*\"th\" + 0.007*\"thing\" + 0.007*\"court\"'),\n",
       " (2,\n",
       "  '0.033*\"people\" + 0.023*\"money\" + 0.012*\"way\" + 0.011*\"time\" + 0.010*\"state\" + 0.008*\"news\" + 0.008*\"see\" + 0.007*\"power\" + 0.007*\"church\" + 0.007*\"governors\"')]"
      ]
     },
     "execution_count": 19,
     "metadata": {},
     "output_type": "execute_result"
    }
   ],
   "source": [
    "dictionary = corpora.Dictionary(corpus['nouns'])\n",
    "\n",
    "corpus_dic = [dictionary.doc2bow(text) for text in corpus['nouns']]\n",
    "\n",
    "ldamodel = models.ldamodel.LdaModel(corpus_dic, num_topics=3, id2word = dictionary, passes=200, random_state = 42)\n",
    "\n",
    "ldamodel.print_topics()"
   ]
  },
  {
   "cell_type": "code",
   "execution_count": 20,
   "metadata": {},
   "outputs": [
    {
     "name": "stdout",
     "output_type": "stream",
     "text": [
      "\n",
      "Perplexity:  -8.053957113684797\n",
      "\n",
      "Coherence Score:  0.5231706909597464\n"
     ]
    }
   ],
   "source": [
    "# Compute Perplexity\n",
    "print('\\nPerplexity: ', ldamodel.log_perplexity(corpus_dic))  # a measure of how good the model is. lower the better.\n",
    "\n",
    "# Compute Coherence Score\n",
    "coherence_model_lda = CoherenceModel(model=ldamodel, texts=corpus['nouns'], dictionary=dictionary, coherence='c_v')\n",
    "coherence_lda = coherence_model_lda.get_coherence()\n",
    "print('\\nCoherence Score: ', coherence_lda)"
   ]
  },
  {
   "cell_type": "code",
   "execution_count": 21,
   "metadata": {},
   "outputs": [
    {
     "data": {
      "text/plain": [
       "[(0,\n",
       "  '0.023*\"law\" + 0.022*\"businesses\" + 0.022*\"business\" + 0.017*\"mask\" + 0.017*\"home\" + 0.015*\"people\" + 0.010*\"masks\" + 0.010*\"tv\" + 0.009*\"money\" + 0.009*\"face\"'),\n",
       " (1,\n",
       "  '0.018*\"abbott\" + 0.012*\"th\" + 0.012*\"court\" + 0.011*\"world\" + 0.010*\"bs\" + 0.009*\"needs\" + 0.009*\"need\" + 0.009*\"gov\" + 0.008*\"circuit\" + 0.007*\"governor\"'),\n",
       " (2,\n",
       "  '0.027*\"people\" + 0.016*\"vote\" + 0.011*\"power\" + 0.011*\"church\" + 0.011*\"governors\" + 0.011*\"see\" + 0.010*\"state\" + 0.009*\"news\" + 0.009*\"media\" + 0.009*\"watch\"'),\n",
       " (3,\n",
       "  '0.012*\"texas\" + 0.012*\"hell\" + 0.009*\"virus\" + 0.009*\"life\" + 0.009*\"guess\" + 0.008*\"money\" + 0.008*\"thank\" + 0.008*\"someone\" + 0.008*\"care\" + 0.007*\"freedom\"'),\n",
       " (4,\n",
       "  '0.037*\"people\" + 0.020*\"money\" + 0.015*\"thing\" + 0.013*\"shit\" + 0.012*\"see\" + 0.011*\"government\" + 0.011*\"democrats\" + 0.011*\"control\" + 0.011*\"way\" + 0.008*\"refuse\"')]"
      ]
     },
     "execution_count": 21,
     "metadata": {},
     "output_type": "execute_result"
    }
   ],
   "source": [
    "dictionary = corpora.Dictionary(corpus['nouns'])\n",
    "\n",
    "corpus_dic = [dictionary.doc2bow(text) for text in corpus['nouns']]\n",
    "\n",
    "ldamodel = models.ldamodel.LdaModel(corpus_dic, num_topics=5, id2word = dictionary, passes=200, random_state = 42)\n",
    "\n",
    "ldamodel.print_topics()"
   ]
  },
  {
   "cell_type": "code",
   "execution_count": 22,
   "metadata": {},
   "outputs": [
    {
     "name": "stdout",
     "output_type": "stream",
     "text": [
      "\n",
      "Perplexity:  -8.212555976012236\n",
      "\n",
      "Coherence Score:  0.5439348787011479\n"
     ]
    }
   ],
   "source": [
    "# Compute Perplexity\n",
    "print('\\nPerplexity: ', ldamodel.log_perplexity(corpus_dic))  # a measure of how good the model is. lower the better.\n",
    "\n",
    "# Compute Coherence Score\n",
    "coherence_model_lda = CoherenceModel(model=ldamodel, texts=corpus['nouns'], dictionary=dictionary, coherence='c_v')\n",
    "coherence_lda = coherence_model_lda.get_coherence()\n",
    "print('\\nCoherence Score: ', coherence_lda)\n"
   ]
  },
  {
   "cell_type": "markdown",
   "metadata": {},
   "source": [
    "## Nouns and Adjectives"
   ]
  },
  {
   "cell_type": "code",
   "execution_count": 23,
   "metadata": {},
   "outputs": [],
   "source": [
    "is_noun_adj = lambda pos: pos[:2] == 'NN' or pos[:2] == 'JJ'\n",
    "\n",
    "nouns_adj = []\n",
    "for i in corpus.index:\n",
    "    nouns_adj.append([word for (word, pos) in pos_tag(corpus.loc[i,'tokenized_text']) if is_noun_adj(pos)])\n",
    "corpus['nouns_adj'] = nouns_adj"
   ]
  },
  {
   "cell_type": "code",
   "execution_count": 24,
   "metadata": {},
   "outputs": [
    {
     "data": {
      "text/plain": [
       "[(0,\n",
       "  '0.014*\"see\" + 0.014*\"people\" + 0.013*\"mask\" + 0.012*\"business\" + 0.009*\"businesses\" + 0.007*\"masks\" + 0.007*\"media\" + 0.006*\"money\" + 0.006*\"right\" + 0.006*\"government\"'),\n",
       " (1,\n",
       "  '0.012*\"people\" + 0.011*\"law\" + 0.010*\"money\" + 0.007*\"th\" + 0.006*\"need\" + 0.006*\"way\" + 0.006*\"home\" + 0.005*\"state\" + 0.005*\"court\" + 0.005*\"time\"'),\n",
       " (2,\n",
       "  '0.049*\"normal\" + 0.037*\"new\" + 0.013*\"people\" + 0.008*\"way\" + 0.007*\"time\" + 0.007*\"democrats\" + 0.006*\"shit\" + 0.006*\"vote\" + 0.005*\"power\" + 0.005*\"virus\"')]"
      ]
     },
     "execution_count": 24,
     "metadata": {},
     "output_type": "execute_result"
    }
   ],
   "source": [
    "dictionary = corpora.Dictionary(corpus['nouns_adj'])\n",
    "\n",
    "corpus_dic = [dictionary.doc2bow(text) for text in corpus['nouns_adj']]\n",
    "\n",
    "ldamodel = models.ldamodel.LdaModel(corpus_dic, num_topics=3, id2word = dictionary, passes=200, random_state = 42)\n",
    "\n",
    "ldamodel.print_topics()"
   ]
  },
  {
   "cell_type": "code",
   "execution_count": 25,
   "metadata": {},
   "outputs": [
    {
     "name": "stdout",
     "output_type": "stream",
     "text": [
      "\n",
      "Perplexity:  -8.214190613943678\n",
      "\n",
      "Coherence Score:  0.47174469184566203\n"
     ]
    }
   ],
   "source": [
    "# Compute Perplexity\n",
    "print('\\nPerplexity: ', ldamodel.log_perplexity(corpus_dic))  # a measure of how good the model is. lower the better.\n",
    "\n",
    "# Compute Coherence Score\n",
    "coherence_model_lda = CoherenceModel(model=ldamodel, texts=corpus['nouns_adj'], dictionary=dictionary, coherence='c_v')\n",
    "coherence_lda = coherence_model_lda.get_coherence()\n",
    "print('\\nCoherence Score: ', coherence_lda)"
   ]
  },
  {
   "cell_type": "code",
   "execution_count": 26,
   "metadata": {},
   "outputs": [
    {
     "data": {
      "text/plain": [
       "[(0,\n",
       "  '0.021*\"mask\" + 0.016*\"people\" + 0.014*\"businesses\" + 0.014*\"see\" + 0.013*\"business\" + 0.007*\"stupid\" + 0.007*\"hell\" + 0.007*\"small\" + 0.007*\"much\" + 0.006*\"work\"'),\n",
       " (1,\n",
       "  '0.017*\"law\" + 0.016*\"money\" + 0.010*\"people\" + 0.009*\"home\" + 0.009*\"way\" + 0.009*\"business\" + 0.008*\"stay\" + 0.008*\"need\" + 0.007*\"stop\" + 0.007*\"masks\"'),\n",
       " (2,\n",
       "  '0.015*\"people\" + 0.013*\"bad\" + 0.008*\"church\" + 0.008*\"good\" + 0.007*\"lie\" + 0.006*\"watch\" + 0.006*\"looks\" + 0.006*\"god\" + 0.006*\"shit\" + 0.005*\"texas\"'),\n",
       " (3,\n",
       "  '0.012*\"democrats\" + 0.010*\"news\" + 0.009*\"governors\" + 0.009*\"media\" + 0.007*\"state\" + 0.007*\"bitch\" + 0.007*\"see\" + 0.006*\"liberal\" + 0.006*\"evil\" + 0.006*\"hate\"'),\n",
       " (4,\n",
       "  '0.063*\"normal\" + 0.048*\"new\" + 0.017*\"people\" + 0.010*\"abbott\" + 0.009*\"many\" + 0.009*\"vote\" + 0.008*\"old\" + 0.007*\"power\" + 0.007*\"governor\" + 0.007*\"way\"')]"
      ]
     },
     "execution_count": 26,
     "metadata": {},
     "output_type": "execute_result"
    }
   ],
   "source": [
    "dictionary = corpora.Dictionary(corpus['nouns_adj'])\n",
    "\n",
    "corpus_dic = [dictionary.doc2bow(text) for text in corpus['nouns_adj']]\n",
    "\n",
    "ldamodel = models.ldamodel.LdaModel(corpus_dic, num_topics=5, id2word = dictionary, passes=200, random_state = 42)\n",
    "\n",
    "ldamodel.print_topics()"
   ]
  },
  {
   "cell_type": "code",
   "execution_count": 27,
   "metadata": {},
   "outputs": [
    {
     "name": "stdout",
     "output_type": "stream",
     "text": [
      "\n",
      "Perplexity:  -8.371281717510834\n",
      "\n",
      "Coherence Score:  0.44868106998226454\n"
     ]
    }
   ],
   "source": [
    "#https://www.machinelearningplus.com/nlp/topic-modeling-gensim-python/\n",
    "# Compute Perplexity\n",
    "print('\\nPerplexity: ', ldamodel.log_perplexity(corpus_dic))  # a measure of how good the model is. lower the better.\n",
    "\n",
    "# Compute Coherence Score\n",
    "coherence_model_lda = CoherenceModel(model=ldamodel, texts=corpus['nouns_adj'], dictionary=dictionary, coherence='c_v')\n",
    "coherence_lda = coherence_model_lda.get_coherence()\n",
    "print('\\nCoherence Score: ', coherence_lda)"
   ]
  },
  {
   "cell_type": "markdown",
   "metadata": {},
   "source": [
    "## Tuning by Coherence Score"
   ]
  },
  {
   "cell_type": "markdown",
   "metadata": {},
   "source": [
    "As you can see from the graph below, with Random State set to 42, the optimal number of topics seems to be 14. (I will point out that if you change the random state the optimal topical number will fluctuate with it). "
   ]
  },
  {
   "cell_type": "code",
   "execution_count": 28,
   "metadata": {},
   "outputs": [
    {
     "name": "stdout",
     "output_type": "stream",
     "text": [
      "testing number of topics: 5\n",
      "testing number of topics: 6\n",
      "testing number of topics: 7\n",
      "testing number of topics: 8\n",
      "testing number of topics: 9\n",
      "testing number of topics: 10\n",
      "testing number of topics: 11\n",
      "testing number of topics: 12\n",
      "testing number of topics: 13\n",
      "testing number of topics: 14\n",
      "   num_topics     score\n",
      "0           5  0.551587\n",
      "1           6  0.591813\n",
      "2           7  0.588149\n",
      "3           8  0.602252\n",
      "4           9  0.586126\n",
      "5          10  0.586653\n",
      "6          11  0.606183\n",
      "7          12  0.598458\n",
      "8          13  0.610120\n",
      "9          14  0.613121\n"
     ]
    }
   ],
   "source": [
    "np.random.seed(42)\n",
    "\n",
    "dictionary = corpora.Dictionary(corpus['nouns'])\n",
    "\n",
    "corpus_dic = [dictionary.doc2bow(text) for text in corpus['nouns']]\n",
    "\n",
    "coherence_score = []\n",
    "\n",
    "for num in range(5, 15, 1):\n",
    "\n",
    "    ldamodel = models.ldamodel.LdaModel(corpus_dic, num_topics=num, id2word = dictionary, passes=10, random_state = 42)\n",
    "\n",
    "    coherence_model_lda = CoherenceModel(model=ldamodel, texts=corpus['nouns'], dictionary=dictionary, coherence='c_v')\n",
    "    coherence_lda = coherence_model_lda.get_coherence()\n",
    "    coherence = {}\n",
    "    coherence['num_topics'] = num\n",
    "    coherence['score'] = coherence_lda\n",
    "    coherence_score.append(coherence)\n",
    "    print(f'testing number of topics: {num}')\n",
    "    \n",
    "coherence_df = pd.DataFrame(coherence_score)\n",
    "print(coherence_df)"
   ]
  },
  {
   "cell_type": "code",
   "execution_count": 29,
   "metadata": {},
   "outputs": [
    {
     "data": {
      "image/png": "[encoded data removed]",
      "text/plain": [
       "<Figure size 1080x576 with 1 Axes>"
      ]
     },
     "metadata": {
      "needs_background": "light"
     },
     "output_type": "display_data"
    }
   ],
   "source": [
    "plt.figure(figsize = (15,8))\n",
    "plt.plot(coherence_df['num_topics'], coherence_df['score'])\n",
    "plt.title(\"Coherence Scores based on Num of Topics\", weight = 'bold', fontsize = 20)\n",
    "plt.xlabel('num of topics', weight = 'bold')\n",
    "plt.ylabel(\"Coherence Score\", weight = 'bold');"
   ]
  },
  {
   "cell_type": "markdown",
   "metadata": {},
   "source": [
    "## Model with Nouns and 14 Topics"
   ]
  },
  {
   "cell_type": "markdown",
   "metadata": {},
   "source": [
    "Based on the information gathered above I went ahead and ran the model with 14 topics. When graphed, the topics seemed to have been bunched together. There seemed to be 8 bunches. Thus, I also ran the model with 8 topcs to see if I can get better results."
   ]
  },
  {
   "cell_type": "code",
   "execution_count": 30,
   "metadata": {},
   "outputs": [
    {
     "data": {
      "text/plain": [
       "[(0,\n",
       "  '0.058*\"vote\" + 0.047*\"government\" + 0.033*\"tv\" + 0.027*\"face\" + 0.014*\"tell\" + 0.014*\"call\" + 0.012*\"yabba\" + 0.012*\"conditioning\" + 0.012*\"state\" + 0.011*\"words\"'),\n",
       " (1,\n",
       "  '0.052*\"governor\" + 0.049*\"abbott\" + 0.031*\"world\" + 0.029*\"needs\" + 0.024*\"gov\" + 0.024*\"stop\" + 0.022*\"numbers\" + 0.018*\"order\" + 0.016*\"bullshit\" + 0.013*\"article\"'),\n",
       " (2,\n",
       "  '0.028*\"news\" + 0.027*\"governors\" + 0.027*\"people\" + 0.021*\"watch\" + 0.020*\"freedom\" + 0.016*\"work\" + 0.015*\"media\" + 0.014*\"b\" + 0.014*\"something\" + 0.013*\"anyone\"'),\n",
       " (3,\n",
       "  '0.035*\"hell\" + 0.031*\"country\" + 0.026*\"problem\" + 0.025*\"god\" + 0.024*\"someone\" + 0.019*\"guess\" + 0.018*\"right\" + 0.018*\"reason\" + 0.014*\"fear\" + 0.013*\"today\"'),\n",
       " (4,\n",
       "  '0.030*\"texas\" + 0.029*\"office\" + 0.027*\"bs\" + 0.022*\"death\" + 0.022*\"refuse\" + 0.021*\"unemployment\" + 0.021*\"job\" + 0.020*\"people\" + 0.018*\"rate\" + 0.017*\"everyone\"'),\n",
       " (5,\n",
       "  '0.066*\"law\" + 0.038*\"power\" + 0.036*\"people\" + 0.033*\"see\" + 0.022*\"lol\" + 0.021*\"ass\" + 0.018*\"think\" + 0.015*\"contact\" + 0.013*\"property\" + 0.010*\"liberties\"'),\n",
       " (6,\n",
       "  '0.075*\"business\" + 0.062*\"mask\" + 0.046*\"people\" + 0.038*\"masks\" + 0.025*\"see\" + 0.023*\"man\" + 0.020*\"nothing\" + 0.018*\"police\" + 0.015*\"yes\" + 0.014*\"shop\"'),\n",
       " (7,\n",
       "  '0.031*\"attention\" + 0.028*\"get\" + 0.022*\"ads\" + 0.021*\"times\" + 0.021*\"care\" + 0.018*\"time\" + 0.016*\"privacy\" + 0.016*\"com\" + 0.016*\"https\" + 0.015*\"woman\"'),\n",
       " (8,\n",
       "  '0.041*\"church\" + 0.038*\"state\" + 0.038*\"shit\" + 0.028*\"bitch\" + 0.025*\"america\" + 0.021*\"looks\" + 0.020*\"anything\" + 0.016*\"beetlejuice\" + 0.014*\"fuck\" + 0.012*\"im\"'),\n",
       " (9,\n",
       "  '0.105*\"money\" + 0.082*\"people\" + 0.044*\"businesses\" + 0.031*\"rights\" + 0.027*\"waste\" + 0.019*\"hope\" + 0.016*\"brainwashing\" + 0.015*\"house\" + 0.013*\"lot\" + 0.012*\"term\"'),\n",
       " (10,\n",
       "  '0.043*\"thing\" + 0.042*\"home\" + 0.035*\"virus\" + 0.032*\"time\" + 0.027*\"democrats\" + 0.027*\"people\" + 0.018*\"see\" + 0.017*\"stay\" + 0.017*\"election\" + 0.015*\"idiot\"'),\n",
       " (11,\n",
       "  '0.028*\"control\" + 0.022*\"dont\" + 0.019*\"propaganda\" + 0.018*\"hate\" + 0.018*\"mine\" + 0.016*\"war\" + 0.016*\"question\" + 0.016*\"yeah\" + 0.015*\"years\" + 0.014*\"folks\"'),\n",
       " (12,\n",
       "  '0.086*\"way\" + 0.036*\"th\" + 0.035*\"court\" + 0.030*\"need\" + 0.029*\"media\" + 0.025*\"circuit\" + 0.016*\"head\" + 0.014*\"constitution\" + 0.013*\"system\" + 0.013*\"deaths\"'),\n",
       " (13,\n",
       "  '0.033*\"life\" + 0.028*\"day\" + 0.026*\"thank\" + 0.022*\"thats\" + 0.013*\"liberals\" + 0.013*\"soros\" + 0.012*\"support\" + 0.011*\"fight\" + 0.010*\"yup\" + 0.010*\"actions\"')]"
      ]
     },
     "execution_count": 30,
     "metadata": {},
     "output_type": "execute_result"
    }
   ],
   "source": [
    "dictionary = corpora.Dictionary(corpus['nouns'])\n",
    "corpus_dic = [dictionary.doc2bow(text) for text in corpus['nouns']]\n",
    "ldamodel = models.ldamodel.LdaModel(corpus_dic, num_topics=14, id2word = dictionary, passes=200, random_state = 42)\n",
    "ldamodel.print_topics()"
   ]
  },
  {
   "cell_type": "code",
   "execution_count": 31,
   "metadata": {},
   "outputs": [],
   "source": [
    "topics = []\n",
    "for i, row in enumerate(ldamodel[corpus_dic]):\n",
    "    one_line = []\n",
    "    for j, k in enumerate(row):\n",
    "        one_line.append(k[1])\n",
    "    topics.append(one_line)\n",
    "        \n",
    "gensim_topics_df = pd.DataFrame(topics)\n",
    "corpus['gensim_topics_14'] = np.argmax(gensim_topics_df.values, axis = 1)"
   ]
  },
  {
   "cell_type": "code",
   "execution_count": 32,
   "metadata": {},
   "outputs": [
    {
     "data": {
      "text/html": [
       "<div>\n",
       "<style scoped>\n",
       "    .dataframe tbody tr th:only-of-type {\n",
       "        vertical-align: middle;\n",
       "    }\n",
       "\n",
       "    .dataframe tbody tr th {\n",
       "        vertical-align: top;\n",
       "    }\n",
       "\n",
       "    .dataframe thead th {\n",
       "        text-align: right;\n",
       "    }\n",
       "</style>\n",
       "<table border=\"1\" class=\"dataframe\">\n",
       "  <thead>\n",
       "    <tr style=\"text-align: right;\">\n",
       "      <th></th>\n",
       "      <th>Permalink</th>\n",
       "      <th>full_text</th>\n",
       "      <th>text</th>\n",
       "      <th>tokenized_text</th>\n",
       "      <th>nouns</th>\n",
       "      <th>nouns_adj</th>\n",
       "      <th>gensim_topics_14</th>\n",
       "    </tr>\n",
       "  </thead>\n",
       "  <tbody>\n",
       "    <tr>\n",
       "      <th>1</th>\n",
       "      <td>1462379490609461</td>\n",
       "      <td>I’ve never seen this much unrest in the states...</td>\n",
       "      <td>never seen much unrest states anyone else</td>\n",
       "      <td>[never, seen, much, unrest, states, anyone, else]</td>\n",
       "      <td>[states, anyone]</td>\n",
       "      <td>[much, unrest, states, anyone]</td>\n",
       "      <td>2</td>\n",
       "    </tr>\n",
       "    <tr>\n",
       "      <th>2</th>\n",
       "      <td>1462715223909221</td>\n",
       "      <td>ATTENTION BUSINESS OWNERS AND ALL THE MASKED P...</td>\n",
       "      <td>attention business owners masked people severi...</td>\n",
       "      <td>[attention, business, owners, masked, people, ...</td>\n",
       "      <td>[attention, business, owners, people, severity...</td>\n",
       "      <td>[attention, business, owners, people, severity...</td>\n",
       "      <td>4</td>\n",
       "    </tr>\n",
       "    <tr>\n",
       "      <th>3</th>\n",
       "      <td>1461150450732365</td>\n",
       "      <td>This is whats wrong with attention seeking mil...</td>\n",
       "      <td>whats wrong attention seeking millenials young...</td>\n",
       "      <td>[whats, wrong, attention, seeking, millenials,...</td>\n",
       "      <td>[whats, attention, millenials, woman, geco, co...</td>\n",
       "      <td>[whats, wrong, attention, millenials, young, w...</td>\n",
       "      <td>4</td>\n",
       "    </tr>\n",
       "    <tr>\n",
       "      <th>4</th>\n",
       "      <td>1462158127298264</td>\n",
       "      <td>Upset Californian Conservative</td>\n",
       "      <td>upset californian conservative</td>\n",
       "      <td>[upset, californian, conservative]</td>\n",
       "      <td>[]</td>\n",
       "      <td>[upset, californian, conservative]</td>\n",
       "      <td>0</td>\n",
       "    </tr>\n",
       "    <tr>\n",
       "      <th>5</th>\n",
       "      <td>1462708023909941</td>\n",
       "      <td>Live Stream. CREW dragon launch.</td>\n",
       "      <td>live stream crew dragon launch</td>\n",
       "      <td>[live, stream, crew, dragon, launch]</td>\n",
       "      <td>[stream, crew, dragon, launch]</td>\n",
       "      <td>[live, stream, crew, dragon, launch]</td>\n",
       "      <td>2</td>\n",
       "    </tr>\n",
       "  </tbody>\n",
       "</table>\n",
       "</div>"
      ],
      "text/plain": [
       "          Permalink                                          full_text  \\\n",
       "1  1462379490609461  I’ve never seen this much unrest in the states...   \n",
       "2  1462715223909221  ATTENTION BUSINESS OWNERS AND ALL THE MASKED P...   \n",
       "3  1461150450732365  This is whats wrong with attention seeking mil...   \n",
       "4  1462158127298264                     Upset Californian Conservative   \n",
       "5  1462708023909941                   Live Stream. CREW dragon launch.   \n",
       "\n",
       "                                                text  \\\n",
       "1          never seen much unrest states anyone else   \n",
       "2  attention business owners masked people severi...   \n",
       "3  whats wrong attention seeking millenials young...   \n",
       "4                     upset californian conservative   \n",
       "5                     live stream crew dragon launch   \n",
       "\n",
       "                                      tokenized_text  \\\n",
       "1  [never, seen, much, unrest, states, anyone, else]   \n",
       "2  [attention, business, owners, masked, people, ...   \n",
       "3  [whats, wrong, attention, seeking, millenials,...   \n",
       "4                 [upset, californian, conservative]   \n",
       "5               [live, stream, crew, dragon, launch]   \n",
       "\n",
       "                                               nouns  \\\n",
       "1                                   [states, anyone]   \n",
       "2  [attention, business, owners, people, severity...   \n",
       "3  [whats, attention, millenials, woman, geco, co...   \n",
       "4                                                 []   \n",
       "5                     [stream, crew, dragon, launch]   \n",
       "\n",
       "                                           nouns_adj  gensim_topics_14  \n",
       "1                     [much, unrest, states, anyone]                 2  \n",
       "2  [attention, business, owners, people, severity...                 4  \n",
       "3  [whats, wrong, attention, millenials, young, w...                 4  \n",
       "4                 [upset, californian, conservative]                 0  \n",
       "5               [live, stream, crew, dragon, launch]                 2  "
      ]
     },
     "execution_count": 32,
     "metadata": {},
     "output_type": "execute_result"
    }
   ],
   "source": [
    "corpus.head()"
   ]
  },
  {
   "cell_type": "code",
   "execution_count": 33,
   "metadata": {},
   "outputs": [
    {
     "name": "stderr",
     "output_type": "stream",
     "text": [
      "/Users/yelenanevel/opt/anaconda3/lib/python3.7/site-packages/pyLDAvis/_prepare.py:257: FutureWarning: Sorting because non-concatenation axis is not aligned. A future version\n",
      "of pandas will change to not sort by default.\n",
      "\n",
      "To accept the future behavior, pass 'sort=False'.\n",
      "\n",
      "To retain the current behavior and silence the warning, pass 'sort=True'.\n",
      "\n",
      "  return pd.concat([default_term_info] + list(topic_dfs))\n"
     ]
    },
    {
     "data": {
      "text/html": [
       "\n",
       "<link rel=\"stylesheet\" type=\"text/css\" href=\"https://cdn.rawgit.com/bmabey/pyLDAvis/files/ldavis.v1.0.0.css\">\n",
       "\n",
       "\n",
       "<div id=\"ldavis_el568850968699683542662649\"></div>\n",
       "<script type=\"text/javascript\">\n",
       "\n",
       "var ldavis_el568850968699683542662649_data = {\"mdsDat\": {\"x\": [-0.19610155058359524, -0.09000544863570707, -0.09168475129302431, -0.05302998831032737, -0.09055870953819266, -0.1653218421441204, 0.03145340594851022, 0.11524331228815494, 0.13029641413746781, 0.062420098856689116, 0.0836359349755146, 0.10153400726936004, 0.08777430993828803, 0.07434480709098196], \"y\": [-0.08292169044993011, 0.13274257781248977, 0.08977918276578922, 0.11512289726450907, -0.026597137155406257, -0.17702248294347583, 0.12694461880570246, -0.04847512957868024, -0.12960376806206989, 0.0734434591463085, -0.023614781795142724, -0.051975563950664896, -0.049508903993571156, 0.05168672213414247], \"topics\": [1, 2, 3, 4, 5, 6, 7, 8, 9, 10, 11, 12, 13, 14], \"cluster\": [1, 1, 1, 1, 1, 1, 1, 1, 1, 1, 1, 1, 1, 1], \"Freq\": [10.263298034667969, 8.740641593933105, 8.736639022827148, 7.615224838256836, 7.37158203125, 7.052506446838379, 6.658981800079346, 6.656838893890381, 6.627732276916504, 6.433233737945557, 6.366590976715088, 6.088657855987549, 5.694927215576172, 5.693149566650391]}, \"tinfo\": {\"Category\": [\"Default\", \"Default\", \"Default\", \"Default\", \"Default\", \"Default\", \"Default\", \"Default\", \"Default\", \"Default\", \"Default\", \"Default\", \"Default\", \"Default\", \"Default\", \"Default\", \"Default\", \"Default\", \"Default\", \"Default\", \"Default\", \"Default\", \"Default\", \"Default\", \"Default\", \"Default\", \"Default\", \"Default\", \"Default\", \"Default\", \"Topic1\", \"Topic1\", \"Topic1\", \"Topic1\", \"Topic1\", \"Topic1\", \"Topic1\", \"Topic1\", \"Topic1\", \"Topic1\", \"Topic1\", \"Topic1\", \"Topic1\", \"Topic1\", \"Topic1\", \"Topic1\", \"Topic1\", \"Topic1\", \"Topic1\", \"Topic1\", \"Topic1\", \"Topic1\", \"Topic1\", \"Topic1\", \"Topic1\", \"Topic1\", \"Topic1\", \"Topic1\", \"Topic1\", \"Topic1\", \"Topic1\", \"Topic1\", \"Topic1\", \"Topic1\", \"Topic1\", \"Topic1\", \"Topic1\", \"Topic1\", \"Topic1\", \"Topic1\", \"Topic1\", \"Topic1\", \"Topic1\", \"Topic1\", \"Topic2\", \"Topic2\", \"Topic2\", \"Topic2\", \"Topic2\", \"Topic2\", \"Topic2\", \"Topic2\", \"Topic2\", \"Topic2\", \"Topic2\", \"Topic2\", \"Topic2\", \"Topic2\", \"Topic2\", \"Topic2\", \"Topic2\", \"Topic2\", \"Topic2\", \"Topic2\", \"Topic2\", \"Topic2\", \"Topic2\", \"Topic2\", \"Topic2\", \"Topic2\", \"Topic2\", \"Topic2\", \"Topic2\", \"Topic2\", \"Topic2\", \"Topic2\", \"Topic2\", \"Topic2\", \"Topic2\", \"Topic2\", \"Topic2\", \"Topic2\", \"Topic2\", \"Topic2\", \"Topic2\", \"Topic2\", \"Topic2\", \"Topic2\", \"Topic2\", \"Topic3\", \"Topic3\", \"Topic3\", \"Topic3\", \"Topic3\", \"Topic3\", \"Topic3\", \"Topic3\", \"Topic3\", \"Topic3\", \"Topic3\", \"Topic3\", \"Topic3\", \"Topic3\", \"Topic3\", \"Topic3\", \"Topic3\", \"Topic3\", \"Topic3\", \"Topic3\", \"Topic3\", \"Topic3\", \"Topic3\", \"Topic3\", \"Topic3\", \"Topic3\", \"Topic3\", \"Topic3\", \"Topic3\", \"Topic3\", \"Topic3\", \"Topic3\", \"Topic3\", \"Topic3\", \"Topic3\", \"Topic3\", \"Topic3\", \"Topic3\", \"Topic3\", \"Topic3\", \"Topic3\", \"Topic3\", \"Topic3\", \"Topic3\", \"Topic4\", \"Topic4\", \"Topic4\", \"Topic4\", \"Topic4\", \"Topic4\", \"Topic4\", \"Topic4\", \"Topic4\", \"Topic4\", \"Topic4\", \"Topic4\", \"Topic4\", \"Topic4\", \"Topic4\", \"Topic4\", \"Topic4\", \"Topic4\", \"Topic4\", \"Topic4\", \"Topic4\", \"Topic4\", \"Topic4\", \"Topic4\", \"Topic4\", \"Topic4\", \"Topic4\", \"Topic4\", \"Topic4\", \"Topic4\", \"Topic4\", \"Topic4\", \"Topic4\", \"Topic4\", \"Topic4\", \"Topic4\", \"Topic4\", \"Topic4\", \"Topic4\", \"Topic4\", \"Topic4\", \"Topic4\", \"Topic4\", \"Topic4\", \"Topic4\", \"Topic4\", \"Topic5\", \"Topic5\", \"Topic5\", \"Topic5\", \"Topic5\", \"Topic5\", \"Topic5\", \"Topic5\", \"Topic5\", \"Topic5\", \"Topic5\", \"Topic5\", \"Topic5\", \"Topic5\", \"Topic5\", \"Topic5\", \"Topic5\", \"Topic5\", \"Topic5\", \"Topic5\", \"Topic5\", \"Topic5\", \"Topic5\", \"Topic5\", \"Topic5\", \"Topic5\", \"Topic5\", \"Topic5\", \"Topic5\", \"Topic5\", \"Topic5\", \"Topic5\", \"Topic5\", \"Topic5\", \"Topic5\", \"Topic5\", \"Topic5\", \"Topic5\", \"Topic5\", \"Topic5\", \"Topic5\", \"Topic5\", \"Topic6\", \"Topic6\", \"Topic6\", \"Topic6\", \"Topic6\", \"Topic6\", \"Topic6\", \"Topic6\", \"Topic6\", \"Topic6\", \"Topic6\", \"Topic6\", \"Topic6\", \"Topic6\", \"Topic6\", \"Topic6\", \"Topic6\", \"Topic6\", \"Topic6\", \"Topic6\", \"Topic6\", \"Topic6\", \"Topic6\", \"Topic6\", \"Topic6\", \"Topic6\", \"Topic6\", \"Topic6\", \"Topic6\", \"Topic6\", \"Topic6\", \"Topic6\", \"Topic6\", \"Topic6\", \"Topic6\", \"Topic6\", \"Topic6\", \"Topic6\", \"Topic7\", \"Topic7\", \"Topic7\", \"Topic7\", \"Topic7\", \"Topic7\", \"Topic7\", \"Topic7\", \"Topic7\", \"Topic7\", \"Topic7\", \"Topic7\", \"Topic7\", \"Topic7\", \"Topic7\", \"Topic7\", \"Topic7\", \"Topic7\", \"Topic7\", \"Topic7\", \"Topic7\", \"Topic7\", \"Topic7\", \"Topic7\", \"Topic7\", \"Topic7\", \"Topic7\", \"Topic7\", \"Topic7\", \"Topic7\", \"Topic7\", \"Topic7\", \"Topic7\", \"Topic7\", \"Topic7\", \"Topic7\", \"Topic7\", \"Topic7\", \"Topic7\", \"Topic7\", \"Topic7\", \"Topic7\", \"Topic7\", \"Topic7\", \"Topic8\", \"Topic8\", \"Topic8\", \"Topic8\", \"Topic8\", \"Topic8\", \"Topic8\", \"Topic8\", \"Topic8\", \"Topic8\", \"Topic8\", \"Topic8\", \"Topic8\", \"Topic8\", \"Topic8\", \"Topic8\", \"Topic8\", \"Topic8\", \"Topic8\", \"Topic8\", \"Topic8\", \"Topic8\", \"Topic8\", \"Topic8\", \"Topic8\", \"Topic8\", \"Topic8\", \"Topic8\", \"Topic8\", \"Topic8\", \"Topic8\", \"Topic8\", \"Topic8\", \"Topic8\", \"Topic8\", \"Topic8\", \"Topic8\", \"Topic8\", \"Topic8\", \"Topic9\", \"Topic9\", \"Topic9\", \"Topic9\", \"Topic9\", \"Topic9\", \"Topic9\", \"Topic9\", \"Topic9\", \"Topic9\", \"Topic9\", \"Topic9\", \"Topic9\", \"Topic9\", \"Topic9\", \"Topic9\", \"Topic9\", \"Topic9\", \"Topic9\", \"Topic9\", \"Topic9\", \"Topic9\", \"Topic9\", \"Topic9\", \"Topic9\", \"Topic9\", \"Topic9\", \"Topic9\", \"Topic9\", \"Topic9\", \"Topic9\", \"Topic9\", \"Topic9\", \"Topic9\", \"Topic9\", \"Topic9\", \"Topic9\", \"Topic10\", \"Topic10\", \"Topic10\", \"Topic10\", \"Topic10\", \"Topic10\", \"Topic10\", \"Topic10\", \"Topic10\", \"Topic10\", \"Topic10\", \"Topic10\", \"Topic10\", \"Topic10\", \"Topic10\", \"Topic10\", \"Topic10\", \"Topic10\", \"Topic10\", \"Topic10\", \"Topic10\", \"Topic10\", \"Topic10\", \"Topic10\", \"Topic10\", \"Topic10\", \"Topic10\", \"Topic10\", \"Topic10\", \"Topic10\", \"Topic10\", \"Topic10\", \"Topic10\", \"Topic10\", \"Topic10\", \"Topic10\", \"Topic10\", \"Topic10\", \"Topic10\", \"Topic10\", \"Topic10\", \"Topic10\", \"Topic11\", \"Topic11\", \"Topic11\", \"Topic11\", \"Topic11\", \"Topic11\", \"Topic11\", \"Topic11\", \"Topic11\", \"Topic11\", \"Topic11\", \"Topic11\", \"Topic11\", \"Topic11\", \"Topic11\", \"Topic11\", \"Topic11\", \"Topic11\", \"Topic11\", \"Topic11\", \"Topic11\", \"Topic11\", \"Topic11\", \"Topic11\", \"Topic11\", \"Topic11\", \"Topic11\", \"Topic11\", \"Topic11\", \"Topic11\", \"Topic11\", \"Topic11\", \"Topic11\", \"Topic11\", \"Topic11\", \"Topic11\", \"Topic11\", \"Topic11\", \"Topic11\", \"Topic12\", \"Topic12\", \"Topic12\", \"Topic12\", \"Topic12\", \"Topic12\", \"Topic12\", \"Topic12\", \"Topic12\", \"Topic12\", \"Topic12\", \"Topic12\", \"Topic12\", \"Topic12\", \"Topic12\", \"Topic12\", \"Topic12\", \"Topic12\", \"Topic12\", \"Topic12\", \"Topic12\", \"Topic12\", \"Topic12\", \"Topic12\", \"Topic12\", \"Topic12\", \"Topic12\", \"Topic12\", \"Topic12\", \"Topic12\", \"Topic12\", \"Topic12\", \"Topic12\", \"Topic12\", \"Topic12\", \"Topic12\", \"Topic12\", \"Topic12\", \"Topic12\", \"Topic13\", \"Topic13\", \"Topic13\", \"Topic13\", \"Topic13\", \"Topic13\", \"Topic13\", \"Topic13\", \"Topic13\", \"Topic13\", \"Topic13\", \"Topic13\", \"Topic13\", \"Topic13\", \"Topic13\", \"Topic13\", \"Topic13\", \"Topic13\", \"Topic13\", \"Topic13\", \"Topic13\", \"Topic13\", \"Topic13\", \"Topic13\", \"Topic13\", \"Topic13\", \"Topic13\", \"Topic13\", \"Topic13\", \"Topic13\", \"Topic13\", \"Topic13\", \"Topic13\", \"Topic13\", \"Topic13\", \"Topic13\", \"Topic14\", \"Topic14\", \"Topic14\", \"Topic14\", \"Topic14\", \"Topic14\", \"Topic14\", \"Topic14\", \"Topic14\", \"Topic14\", \"Topic14\", \"Topic14\", \"Topic14\", \"Topic14\", \"Topic14\", \"Topic14\", \"Topic14\", \"Topic14\", \"Topic14\", \"Topic14\", \"Topic14\", \"Topic14\", \"Topic14\", \"Topic14\", \"Topic14\", \"Topic14\", \"Topic14\", \"Topic14\", \"Topic14\", \"Topic14\", \"Topic14\", \"Topic14\", \"Topic14\", \"Topic14\", \"Topic14\", \"Topic14\", \"Topic14\", \"Topic14\"], \"Freq\": [121.0, 126.0, 315.0, 99.0, 104.0, 81.0, 58.0, 56.0, 62.0, 72.0, 54.0, 59.0, 69.0, 60.0, 45.0, 63.0, 45.0, 54.0, 72.0, 93.0, 40.0, 145.0, 38.0, 37.0, 59.0, 38.0, 39.0, 42.0, 46.0, 46.0, 125.68502044677734, 103.95156860351562, 38.33711624145508, 24.68451499938965, 22.652374267578125, 22.280561447143555, 16.629297256469727, 16.163297653198242, 15.647789001464844, 15.541892051696777, 14.4369478225708, 13.991548538208008, 13.938733100891113, 10.569130897521973, 10.516597747802734, 9.481593132019043, 9.322492599487305, 8.431344985961914, 8.378183364868164, 8.32335376739502, 63.09428405761719, 6.594943046569824, 6.594595432281494, 6.541699409484863, 6.2393622398376465, 6.18550443649292, 6.0056633949279785, 5.79372501373291, 5.436037063598633, 5.258124828338623, 15.680530548095703, 30.512556076049805, 19.872678756713867, 8.348763465881348, 11.976012229919434, 33.32594299316406, 18.21677589416504, 77.37631225585938, 8.680418968200684, 40.96502685546875, 21.863819122314453, 11.490918159484863, 9.81568431854248, 9.157241821289062, 61.52781295776367, 59.11857604980469, 24.5346736907959, 23.970449447631836, 21.804065704345703, 21.590805053710938, 20.489282608032227, 14.193120002746582, 12.653509140014648, 11.080737113952637, 11.080657958984375, 10.196457862854004, 10.148597717285156, 10.100889205932617, 9.57032299041748, 9.426843643188477, 8.848480224609375, 8.479355812072754, 7.594758987426758, 7.452286243438721, 7.451817512512207, 6.9698100090026855, 6.826120376586914, 6.519937992095947, 16.22273826599121, 6.295721530914307, 6.199318885803223, 5.893904685974121, 5.893629550933838, 5.621484756469727, 15.013397216796875, 49.5551872253418, 38.986785888671875, 21.36996078491211, 21.04096031188965, 45.37129211425781, 14.67618465423584, 8.424666404724121, 9.598426818847656, 13.140732765197754, 37.98427963256836, 26.302967071533203, 12.996537208557129, 9.063425064086914, 9.405537605285645, 39.07840347290039, 20.287256240844727, 18.05343246459961, 17.406110763549805, 13.630840301513672, 13.360922813415527, 13.118049621582031, 12.561291694641113, 11.850404739379883, 11.729663848876953, 10.219717025756836, 9.828372955322266, 9.540948867797852, 9.193655967712402, 15.383675575256348, 8.606106758117676, 8.606106758117676, 8.560236930847168, 8.40771198272705, 7.774425506591797, 7.729474067687988, 17.83324432373047, 7.095975875854492, 7.0504679679870605, 7.050395965576172, 6.763322353363037, 29.27049446105957, 6.461857795715332, 6.372218608856201, 5.872526168823242, 40.137691497802734, 28.952045440673828, 13.051054954528809, 15.72767162322998, 16.725601196289062, 19.83388900756836, 18.506591796875, 23.17884063720703, 18.76021957397461, 21.841646194458008, 38.04140090942383, 10.420599937438965, 10.226173400878906, 9.993745803833008, 37.65751647949219, 35.91275405883789, 33.42887878417969, 27.280302047729492, 26.471376419067383, 19.659536361694336, 18.984861373901367, 13.693113327026367, 10.737945556640625, 9.478240966796875, 9.434024810791016, 9.090034484863281, 8.71470832824707, 8.550016403198242, 7.679198265075684, 7.58928918838501, 12.566119194030762, 5.745755195617676, 5.250189304351807, 5.009239673614502, 4.620643615722656, 4.620327472686768, 4.620261192321777, 4.576149940490723, 4.57594633102417, 4.575588703155518, 4.575197696685791, 26.932022094726562, 4.33477783203125, 3.991255760192871, 3.991255760192871, 17.28865623474121, 21.7438907623291, 19.643339157104492, 26.18386459350586, 13.732077598571777, 21.219974517822266, 16.972383499145508, 11.38581371307373, 14.25957202911377, 13.459561347961426, 24.422571182250977, 10.136045455932617, 10.271158218383789, 10.021758079528809, 9.78534984588623, 45.042232513427734, 79.39972686767578, 15.088081359863281, 12.517427444458008, 10.947521209716797, 10.754791259765625, 26.931541442871094, 9.493257522583008, 9.170822143554688, 8.89617919921875, 8.766168594360352, 8.28050708770752, 8.23192024230957, 8.18376636505127, 8.183652877807617, 7.457096576690674, 7.019265174865723, 6.921088218688965, 6.807474613189697, 6.517784118652344, 6.292076587677002, 6.2904181480407715, 6.2438154220581055, 6.242366790771484, 6.1955156326293945, 6.127691745758057, 10.206440925598145, 5.613109111785889, 5.401291847229004, 4.9343037605285645, 25.517881393432617, 21.560157775878906, 18.306001663208008, 11.23650074005127, 7.235708713531494, 11.005797386169434, 39.72520065307617, 10.372408866882324, 43.3563117980957, 7.004025459289551, 9.171555519104004, 7.115856647491455, 120.36833190917969, 31.11233901977539, 18.074108123779297, 17.410741806030273, 35.44204330444336, 13.353267669677734, 12.255534172058105, 11.44449520111084, 11.264466285705566, 11.100492477416992, 10.096628189086914, 9.998699188232422, 8.816076278686523, 8.69204330444336, 8.61063289642334, 8.37657642364502, 8.335780143737793, 7.853105068206787, 7.57867431640625, 7.263808250427246, 7.2635626792907715, 7.26339054107666, 6.547116756439209, 6.506446361541748, 21.540220260620117, 5.351495742797852, 4.966286659240723, 4.773932456970215, 4.773768424987793, 4.237686634063721, 50.26761245727539, 93.64601135253906, 15.409536361694336, 6.9040632247924805, 11.261574745178223, 7.263671875, 7.2287917137146, 6.928507328033447, 39.49821090698242, 37.94931411743164, 27.622154235839844, 17.72581672668457, 14.524544715881348, 13.983793258666992, 93.27852630615234, 12.824175834655762, 10.420257568359375, 10.330063819885254, 9.789190292358398, 9.323122024536133, 9.158300399780273, 7.609246253967285, 7.022824287414551, 6.3466267585754395, 5.849920272827148, 5.805091857910156, 5.3395161628723145, 5.218935012817383, 5.174067974090576, 4.842493057250977, 4.632623672485352, 4.587316036224365, 4.586912155151367, 4.586542129516602, 4.585673809051514, 4.3455400466918945, 4.001377105712891, 4.001377105712891, 32.39900588989258, 6.104800701141357, 14.265130043029785, 8.15042781829834, 10.133974075317383, 31.16102409362793, 14.97562026977539, 7.300657272338867, 9.609902381896973, 7.962796211242676, 10.068575859069824, 9.37204647064209, 8.393125534057617, 6.470939636230469, 44.449256896972656, 30.394737243652344, 23.30321502685547, 17.260526657104492, 15.479283332824707, 13.317216873168945, 12.942801475524902, 12.44653034210205, 12.44631290435791, 11.761908531188965, 9.928268432617188, 9.499984741210938, 9.469882011413574, 9.288004875183105, 8.436266899108887, 8.387208938598633, 8.289848327636719, 26.936330795288086, 7.602380275726318, 6.944840908050537, 6.602283477783203, 6.323978900909424, 6.274694919586182, 6.109906196594238, 5.684795379638672, 5.56904935836792, 5.3737030029296875, 5.046989917755127, 5.046884536743164, 4.998177528381348, 4.998166561126709, 40.69935989379883, 21.96144676208496, 11.908407211303711, 41.08283615112305, 6.012365818023682, 6.440342426300049, 6.582622528076172, 6.295528411865234, 56.018592834472656, 53.4068717956543, 33.05202865600586, 26.294921875, 26.13009262084961, 23.97900390625, 17.43079376220703, 14.051666259765625, 13.087407112121582, 12.065230369567871, 10.895297050476074, 10.894732475280762, 10.57516098022461, 9.211967468261719, 8.895838737487793, 8.673897743225098, 8.439586639404297, 7.861257553100586, 7.1430792808532715, 6.838993549346924, 31.076711654663086, 6.48173189163208, 6.398009300231934, 5.902804374694824, 5.282637596130371, 5.143374443054199, 5.060976982116699, 4.827415466308594, 4.786475658416748, 4.786442279815674, 9.535632133483887, 19.00538444519043, 7.377052307128906, 7.996609687805176, 10.014841079711914, 13.102090835571289, 6.876795291900635, 32.084075927734375, 22.72637367248535, 21.859216690063477, 16.943214416503906, 16.639286041259766, 16.146120071411133, 15.733292579650879, 11.96815013885498, 9.027024269104004, 8.78275203704834, 8.220412254333496, 8.219864845275879, 7.9886627197265625, 7.615246295928955, 7.615067958831787, 6.936872482299805, 6.692097187042236, 6.6914544105529785, 6.1296820640563965, 6.069887161254883, 5.609105587005615, 5.5243821144104, 5.421755790710449, 5.378322124481201, 5.3357062339782715, 13.169835090637207, 5.005197525024414, 5.005121231079102, 5.004036903381348, 4.9621076583862305, 29.859535217285156, 8.98435115814209, 22.29657554626465, 10.322914123535156, 16.319297790527344, 8.280237197875977, 7.467666149139404, 7.235506534576416, 19.133363723754883, 13.901697158813477, 9.047645568847656, 7.066564083099365, 36.68488693237305, 27.10268783569336, 25.868425369262695, 18.741458892822266, 18.31926155090332, 13.590792655944824, 13.093276977539062, 12.142440795898438, 10.200167655944824, 8.58968448638916, 8.544268608093262, 8.392661094665527, 8.240235328674316, 7.203192234039307, 7.172260284423828, 6.992576599121094, 6.70521879196167, 6.5396246910095215, 6.5394511222839355, 5.907233715057373, 5.86247444152832, 5.817150115966797, 5.7724714279174805, 5.575216293334961, 5.229925632476807, 5.229863166809082, 5.228795051574707, 5.185013294219971, 5.077354431152344, 4.642287254333496, 32.381874084472656, 19.362157821655273, 13.39599323272705, 8.592217445373535, 24.611989974975586, 6.494480609893799, 14.15571403503418, 6.577058792114258, 7.6797614097595215, 57.83010482788086, 32.49216079711914, 13.79245662689209, 12.002013206481934, 12.001734733581543, 11.377620697021484, 11.164898872375488, 10.039237022399902, 9.555038452148438, 9.007723808288574, 8.85462474822998, 8.659913063049316, 8.37025260925293, 8.216611862182617, 8.02229118347168, 7.822884559631348, 7.732308864593506, 7.686062335968018, 7.443051815032959, 6.98647928237915, 6.805318355560303, 6.547787666320801, 6.546849727630615, 6.348948955535889, 5.756721019744873, 5.6657795906066895, 5.272621154785156, 5.272491931915283, 5.272413730621338, 5.2720465660095215, 26.35405921936035, 46.12049102783203, 13.79353141784668, 10.983233451843262, 9.804849624633789, 8.13888168334961, 11.776089668273926, 7.4470696449279785, 7.746262550354004, 24.33156967163086, 20.722354888916016, 12.049373626708984, 11.871026992797852, 11.564349174499512, 10.551132202148438, 9.319197654724121, 9.187663078308105, 8.894025802612305, 8.790430068969727, 8.322789192199707, 8.32252311706543, 8.32186508178711, 8.321625709533691, 7.750279426574707, 7.382962703704834, 6.89849328994751, 6.2378926277160645, 6.046595573425293, 5.915004253387451, 5.753846645355225, 5.708881378173828, 5.6661481857299805, 9.31848430633545, 5.094089031219482, 5.093876838684082, 5.093374252319336, 4.901664733886719, 4.857966899871826, 4.521749019622803, 7.155919075012207, 30.68864631652832, 26.298114776611328, 8.286352157592773, 5.517568111419678, 5.518060684204102, 20.179161071777344, 16.887678146362305, 16.782142639160156, 14.858821868896484, 14.749201774597168, 12.519071578979492, 9.981968879699707, 9.675187110900879, 9.565608024597168, 8.475208282470703, 7.3214921951293945, 7.184001445770264, 7.1380085945129395, 7.120246887207031, 7.091573238372803, 6.891117572784424, 6.890718460083008, 6.492595672607422, 6.030464172363281, 5.938635349273682, 5.938119888305664, 5.736714839935303, 5.292924404144287, 5.091265678405762, 4.693115234375, 4.692981719970703, 4.491899490356445, 4.445679187774658, 4.354299068450928, 4.307939529418945, 18.073688507080078, 15.150659561157227, 25.879539489746094, 13.92686653137207, 8.56735897064209, 10.358473777770996, 6.2450761795043945, 9.57817268371582], \"Term\": [\"money\", \"business\", \"people\", \"way\", \"mask\", \"law\", \"vote\", \"governor\", \"thing\", \"businesses\", \"abbott\", \"home\", \"masks\", \"government\", \"church\", \"virus\", \"power\", \"shit\", \"state\", \"time\", \"th\", \"see\", \"court\", \"hell\", \"media\", \"texas\", \"governors\", \"country\", \"life\", \"news\", \"business\", \"mask\", \"man\", \"yes\", \"shop\", \"lie\", \"company\", \"owners\", \"lives\", \"store\", \"taxes\", \"california\", \"force\", \"plan\", \"drive\", \"signs\", \"amen\", \"rise\", \"car\", \"bye\", \"masks\", \"hoax\", \"michael\", \"issues\", \"promise\", \"drop\", \"june\", \"require\", \"ppe\", \"omg\", \"evil\", \"police\", \"choice\", \"officers\", \"john\", \"nothing\", \"use\", \"people\", \"sign\", \"see\", \"businesses\", \"lot\", \"someone\", \"something\", \"thing\", \"home\", \"stay\", \"election\", \"idiot\", \"michigan\", \"flu\", \"voters\", \"everybody\", \"shows\", \"etc\", \"arrest\", \"damn\", \"heard\", \"comply\", \"rest\", \"fraud\", \"music\", \"members\", \"months\", \"scare\", \"trace\", \"forget\", \"gonna\", \"point\", \"citizen\", \"future\", \"criminals\", \"pa\", \"credit\", \"move\", \"virus\", \"democrats\", \"everything\", \"trump\", \"time\", \"let\", \"party\", \"democrat\", \"covid\", \"people\", \"see\", \"shit\", \"idea\", \"order\", \"governors\", \"b\", \"wow\", \"brain\", \"f\", \"decisions\", \"county\", \"imagine\", \"start\", \"piece\", \"yesterday\", \"cost\", \"night\", \"judge\", \"orders\", \"gallegos\", \"christopher\", \"channels\", \"jail\", \"feet\", \"feels\", \"president\", \"dictators\", \"security\", \"works\", \"religion\", \"watch\", \"deserve\", \"houston\", \"cnn\", \"news\", \"freedom\", \"churches\", \"mayor\", \"look\", \"something\", \"states\", \"work\", \"anyone\", \"media\", \"people\", \"agenda\", \"day\", \"job\", \"texas\", \"office\", \"bs\", \"death\", \"unemployment\", \"politicians\", \"others\", \"family\", \"yep\", \"nonsense\", \"republicans\", \"opinion\", \"assholes\", \"shove\", \"millions\", \"make\", \"race\", \"percent\", \"prisoners\", \"joe\", \"feathers\", \"capitalism\", \"tasks\", \"estimates\", \"tree\", \"member\", \"rude\", \"refuse\", \"deal\", \"cabal\", \"rates\", \"place\", \"rate\", \"crap\", \"job\", \"course\", \"everyone\", \"change\", \"places\", \"work\", \"virus\", \"people\", \"times\", \"control\", \"democrats\", \"see\", \"power\", \"law\", \"property\", \"liberties\", \"tax\", \"shut\", \"lol\", \"line\", \"wasting\", \"cvs\", \"die\", \"sorry\", \"well\", \"friend\", \"love\", \"ha\", \"curve\", \"play\", \"balls\", \"page\", \"useless\", \"safety\", \"socialist\", \"stops\", \"services\", \"socialism\", \"k\", \"jackass\", \"hey\", \"outlets\", \"ass\", \"think\", \"contact\", \"city\", \"eyes\", \"ones\", \"see\", \"part\", \"people\", \"circus\", \"need\", \"freedom\", \"money\", \"waste\", \"brainwashing\", \"house\", \"rights\", \"term\", \"truth\", \"accept\", \"mail\", \"keep\", \"issue\", \"amendment\", \"space\", \"trip\", \"name\", \"cancer\", \"pocket\", \"homes\", \"link\", \"krista\", \"books\", \"movies\", \"somebody\", \"ballots\", \"hope\", \"republican\", \"moron\", \"stick\", \"schools\", \"chris\", \"businesses\", \"people\", \"lot\", \"jobs\", \"economy\", \"education\", \"years\", \"nothing\", \"th\", \"court\", \"circuit\", \"head\", \"system\", \"nope\", \"way\", \"pay\", \"level\", \"families\", \"tyranny\", \"difference\", \"period\", \"word\", \"living\", \"msm\", \"remember\", \"neighbors\", \"appeals\", \"morning\", \"mans\", \"joke\", \"dtftc\", \"supporters\", \"interest\", \"bush\", \"baseball\", \"bat\", \"facilities\", \"protections\", \"need\", \"communist\", \"deaths\", \"cases\", \"rules\", \"media\", \"constitution\", \"guys\", \"everything\", \"fear\", \"nothing\", \"time\", \"see\", \"anything\", \"church\", \"bitch\", \"looks\", \"beetlejuice\", \"fuck\", \"im\", \"abnormal\", \"juice\", \"witch\", \"guy\", \"tactics\", \"crazy\", \"jesus\", \"list\", \"shame\", \"gates\", \"kill\", \"america\", \"bull\", \"beetle\", \"matter\", \"focus\", \"building\", \"wake\", \"pandemic\", \"devil\", \"florida\", \"requests\", \"definition\", \"donations\", \"measures\", \"shit\", \"anything\", \"service\", \"state\", \"wear\", \"murder\", \"cops\", \"constitution\", \"governor\", \"abbott\", \"world\", \"gov\", \"stop\", \"numbers\", \"bullshit\", \"article\", \"n\", \"wtf\", \"ties\", \"ways\", \"voting\", \"youtu\", \"agree\", \"please\", \"rope\", \"operation\", \"impeach\", \"feel\", \"needs\", \"trust\", \"disease\", \"come\", \"ad\", \"denise\", \"want\", \"language\", \"results\", \"greg\", \"sheep\", \"order\", \"test\", \"americans\", \"https\", \"state\", \"states\", \"attention\", \"ads\", \"care\", \"privacy\", \"com\", \"woman\", \"phrase\", \"thanks\", \"fact\", \"oh\", \"information\", \"channel\", \"ok\", \"listening\", \"mute\", \"facebook\", \"cares\", \"message\", \"hmmm\", \"barr\", \"grade\", \"betsy\", \"youtube\", \"lady\", \"baby\", \"cdc\", \"fb\", \"rino\", \"videos\", \"fatality\", \"get\", \"coronavirus\", \"times\", \"judges\", \"https\", \"www\", \"health\", \"e\", \"time\", \"see\", \"change\", \"anyone\", \"hell\", \"problem\", \"god\", \"right\", \"reason\", \"today\", \"sense\", \"weekend\", \"take\", \"dictatorship\", \"tx\", \"pos\", \"beach\", \"benefits\", \"lemmings\", \"event\", \"weeks\", \"patriots\", \"brains\", \"college\", \"china\", \"scott\", \"dollar\", \"put\", \"believe\", \"stupid\", \"fill\", \"christi\", \"dems\", \"lack\", \"country\", \"guess\", \"mind\", \"nation\", \"someone\", \"newsom\", \"fear\", \"end\", \"riots\", \"vote\", \"tv\", \"call\", \"yabba\", \"conditioning\", \"words\", \"hitler\", \"cuomo\", \"help\", \"dr\", \"november\", \"version\", \"c\", \"biden\", \"dabba\", \"class\", \"suit\", \"crisis\", \"body\", \"number\", \"eat\", \"mess\", \"leadership\", \"summer\", \"tyrant\", \"dumb\", \"ride\", \"hmm\", \"give\", \"demorats\", \"face\", \"government\", \"tell\", \"kids\", \"show\", \"person\", \"state\", \"phone\", \"life\", \"thank\", \"thats\", \"liberals\", \"soros\", \"support\", \"fight\", \"yup\", \"eye\", \"organization\", \"officials\", \"brother\", \"individuals\", \"liberty\", \"game\", \"texan\", \"libtards\", \"lawsuits\", \"friends\", \"george\", \"decision\", \"non\", \"basis\", \"talks\", \"actions\", \"butt\", \"correct\", \"girl\", \"lock\", \"james\", \"independence\", \"case\", \"life\", \"day\", \"wait\", \"customers\", \"dictator\", \"dont\", \"hate\", \"mine\", \"question\", \"yeah\", \"folks\", \"wonder\", \"commie\", \"idiots\", \"understand\", \"break\", \"karen\", \"king\", \"chicago\", \"sounds\", \"screw\", \"enforcement\", \"symptoms\", \"sheeple\", \"station\", \"victims\", \"fauci\", \"fund\", \"door\", \"medications\", \"shits\", \"fans\", \"anybody\", \"fpu\", \"rodney\", \"propaganda\", \"war\", \"control\", \"years\", \"vaccine\", \"cops\", \"ya\", \"time\"], \"Total\": [121.0, 126.0, 315.0, 99.0, 104.0, 81.0, 58.0, 56.0, 62.0, 72.0, 54.0, 59.0, 69.0, 60.0, 45.0, 63.0, 45.0, 54.0, 72.0, 93.0, 40.0, 145.0, 38.0, 37.0, 59.0, 38.0, 39.0, 42.0, 46.0, 46.0, 126.4981918334961, 104.76473999023438, 39.150291442871094, 25.497690200805664, 23.46554946899414, 23.093734741210938, 17.442472457885742, 16.976472854614258, 16.460962295532227, 16.35506248474121, 15.250123977661133, 14.80472183227539, 14.751904487609863, 11.382304191589355, 11.329771041870117, 10.294766426086426, 10.135663986206055, 9.244516372680664, 9.19135570526123, 9.136529922485352, 69.75166320800781, 7.408116817474365, 7.407770156860352, 7.354873180389404, 7.052536487579346, 6.9986796379089355, 6.818838596343994, 6.606899261474609, 6.249215602874756, 6.071298122406006, 18.29749870300293, 38.41658020019531, 24.678340911865234, 9.818115234375, 14.701136589050293, 51.01677322387695, 25.81362533569336, 315.3244934082031, 11.507501602172852, 145.68772888183594, 72.8875503540039, 27.656570434570312, 41.21553039550781, 31.066822052001953, 62.34831237792969, 59.9390754699707, 25.35517120361328, 24.79094886779785, 22.62456703186035, 22.411306381225586, 21.309782028198242, 15.013620376586914, 13.474007606506348, 11.90123462677002, 11.901156425476074, 11.01695728302002, 10.969095230102539, 10.92138671875, 10.390819549560547, 10.247340202331543, 9.668976783752441, 9.299854278564453, 8.41525936126709, 8.272784233093262, 8.272315979003906, 7.790308952331543, 7.646618843078613, 7.340436935424805, 18.299144744873047, 7.116219997406006, 7.0198187828063965, 6.71440315246582, 6.7141289710998535, 6.441984176635742, 17.401504516601562, 63.77302932739258, 53.605712890625, 31.73798370361328, 33.985355377197266, 93.24022674560547, 22.21472930908203, 10.668147087097168, 14.252209663391113, 29.151960372924805, 315.3244934082031, 145.68772888183594, 54.44844055175781, 13.331757545471191, 29.174219131469727, 39.90289306640625, 21.111743927001953, 18.87792205810547, 18.23059844970703, 14.455327987670898, 14.185410499572754, 13.94253921508789, 13.385777473449707, 12.674893379211426, 12.55415153503418, 11.04420280456543, 10.652859687805176, 10.365435600280762, 10.018145561218262, 16.809921264648438, 9.430593490600586, 9.430593490600586, 9.384724617004395, 9.232200622558594, 8.598913192749023, 8.553963661193848, 19.849693298339844, 7.920464515686035, 7.8749589920043945, 7.8748860359191895, 7.5878119468688965, 32.91999053955078, 7.286347389221191, 7.1967082023620605, 6.697017669677734, 46.57207107543945, 36.82530212402344, 15.777016639709473, 19.715402603149414, 21.86915397644043, 31.066822052001953, 29.407501220703125, 43.227725982666016, 33.332672119140625, 59.78690719604492, 315.3244934082031, 16.398120880126953, 38.932987213134766, 36.939884185791016, 38.48241424560547, 36.73765182495117, 34.253780364990234, 28.105199813842773, 27.29627227783203, 20.484432220458984, 19.809757232666016, 14.518011093139648, 11.562840461730957, 10.30313777923584, 10.258919715881348, 9.914929389953613, 9.539604187011719, 9.374911308288574, 8.504094123840332, 8.41418743133545, 13.964445114135742, 6.570652961730957, 6.075087070465088, 5.834137916564941, 5.4455413818359375, 5.445226192474365, 5.445160388946533, 5.401047706604004, 5.400844097137451, 5.400487422943115, 5.400097370147705, 31.82648468017578, 5.1596760749816895, 4.816153526306152, 4.816153526306152, 22.012290954589844, 28.613340377807617, 26.3568058013916, 36.939884185791016, 18.170644760131836, 30.415945053100586, 30.36661720275879, 18.444284439086914, 43.227725982666016, 63.77302932739258, 315.3244934082031, 33.19770050048828, 43.14556884765625, 53.605712890625, 145.68772888183594, 45.86225891113281, 81.59549713134766, 15.908108711242676, 13.337451934814453, 11.767548561096191, 11.574817657470703, 29.20455551147461, 10.313282012939453, 9.99084758758545, 9.716203689575195, 9.58619499206543, 9.100531578063965, 9.051946640014648, 9.003791809082031, 9.003679275512695, 8.277122497558594, 7.839292049407959, 7.741119384765625, 7.627501487731934, 7.337812423706055, 7.1121039390563965, 7.11044979095459, 7.0638427734375, 7.062397003173828, 7.015542507171631, 6.947720527648926, 11.63187026977539, 6.433135986328125, 6.221319675445557, 5.754330635070801, 32.34743881225586, 28.845897674560547, 24.435190200805664, 15.867074012756348, 8.752755165100098, 17.294214248657227, 145.68772888183594, 17.446516036987305, 315.3244934082031, 9.740323066711426, 42.32821273803711, 36.82530212402344, 121.19839477539062, 31.942394256591797, 18.904163360595703, 18.240798950195312, 37.608489990234375, 14.183321952819824, 13.085587501525879, 12.274548530578613, 12.094520568847656, 11.930546760559082, 10.926682472229004, 10.828754425048828, 9.646129608154297, 9.522100448608398, 9.440688133239746, 9.206633567810059, 9.165836334228516, 8.683161735534668, 8.408729553222656, 8.093863487243652, 8.093618392944336, 8.093446731567383, 7.377172946929932, 7.3365020751953125, 24.859169006347656, 6.181551456451416, 5.796342372894287, 5.603988170623779, 5.603824615478516, 5.067742347717285, 72.8875503540039, 315.3244934082031, 27.656570434570312, 9.554915428161621, 23.546634674072266, 12.041060447692871, 21.921907424926758, 51.01677322387695, 40.32294845581055, 38.774051666259766, 28.4468936920166, 18.550559997558594, 15.349284172058105, 14.808530807495117, 99.08199310302734, 13.648914337158203, 11.244996070861816, 11.154804229736328, 10.613927841186523, 10.14786148071289, 9.983037948608398, 8.43398380279541, 7.84756326675415, 7.171366214752197, 6.674659729003906, 6.629831314086914, 6.164255142211914, 6.043673992156982, 5.998806953430176, 5.667232036590576, 5.457362174987793, 5.412055492401123, 5.411653995513916, 5.411283493041992, 5.4104180335998535, 5.170280456542969, 4.82611608505249, 4.82611608505249, 42.32821273803711, 7.6041364669799805, 20.05742073059082, 10.735703468322754, 14.418508529663086, 59.78690719604492, 37.18590545654297, 15.404759407043457, 31.73798370361328, 22.8807430267334, 51.01677322387695, 93.24022674560547, 145.68772888183594, 29.189170837402344, 45.26841354370117, 31.213895797729492, 24.122373580932617, 18.079683303833008, 16.298439025878906, 14.13637638092041, 13.761958122253418, 13.265686988830566, 13.265469551086426, 12.581067085266113, 10.747426986694336, 10.319141387939453, 10.289039611816406, 10.107166290283203, 9.255425453186035, 9.206367492675781, 9.10900592803955, 29.608386993408203, 8.421537399291992, 7.763998508453369, 7.42144250869751, 7.143138408660889, 7.093855381011963, 6.929065227508545, 6.503955841064453, 6.38820743560791, 6.192861080169678, 5.866147994995117, 5.8660430908203125, 5.817335605621338, 5.817324638366699, 54.44844055175781, 29.189170837402344, 15.825235366821289, 72.28411102294922, 8.676604270935059, 15.197805404663086, 25.382434844970703, 37.18590545654297, 56.848506927490234, 54.23678207397461, 33.88193893432617, 27.12483024597168, 26.96000099182129, 24.808914184570312, 18.260700225830078, 14.881574630737305, 13.917315483093262, 12.89513874053955, 11.725204467773438, 11.724641799926758, 11.405069351196289, 10.041875839233398, 9.725746154785156, 9.503806114196777, 9.269495964050293, 8.691165924072266, 7.972987651824951, 7.66890287399292, 34.93488311767578, 7.311640739440918, 7.227924346923828, 6.732712745666504, 6.112546443939209, 5.973283767700195, 5.8908867835998535, 5.657324314117432, 5.616384029388428, 5.6163506507873535, 11.762503623962402, 29.174219131469727, 10.434211730957031, 11.8192138671875, 27.104225158691406, 72.28411102294922, 29.407501220703125, 32.911373138427734, 23.553667068481445, 22.686511993408203, 17.770511627197266, 17.466581344604492, 16.97341537475586, 16.560585021972656, 12.79544448852539, 9.854318618774414, 9.61004638671875, 9.047707557678223, 9.047160148620605, 8.815957069396973, 8.44253921508789, 8.442361831665039, 7.764166831970215, 7.5193915367126465, 7.518750190734863, 6.956976890563965, 6.897181987762451, 6.436403274536133, 6.3516764640808105, 6.249050140380859, 6.205617427825928, 6.163000583648682, 15.302852630615234, 5.832491874694824, 5.832415580749512, 5.831334114074707, 5.789402008056641, 35.335750579833984, 11.041402816772461, 33.19770050048828, 14.565933227539062, 27.104225158691406, 11.75156307220459, 10.441814422607422, 10.972127914428711, 93.24022674560547, 145.68772888183594, 30.36661720275879, 33.332672119140625, 37.50949478149414, 27.927297592163086, 26.693035125732422, 19.566068649291992, 19.143871307373047, 14.415401458740234, 13.917884826660156, 12.967049598693848, 11.024775505065918, 9.414292335510254, 9.368877410888672, 9.217268943786621, 9.06484317779541, 8.027800559997559, 7.99686861038208, 7.817185401916504, 7.529828071594238, 7.364233493804932, 7.364060401916504, 6.731842041015625, 6.687082290649414, 6.641758441925049, 6.597079753875732, 6.399824619293213, 6.0545334815979, 6.054471015930176, 6.053405284881592, 6.0096211433410645, 5.901962757110596, 5.46689510345459, 42.304176330566406, 27.060152053833008, 18.15514373779297, 10.856289863586426, 41.21553039550781, 7.911097049713135, 22.8807430267334, 8.11587142944336, 15.59849739074707, 58.654205322265625, 33.316261291503906, 14.616555213928223, 12.82611083984375, 12.82583236694336, 12.201719284057617, 11.988997459411621, 10.863335609436035, 10.37913703918457, 9.831823348999023, 9.678722381591797, 9.484010696411133, 9.194351196289062, 9.04071044921875, 8.846388816833496, 8.646984100341797, 8.556407928466797, 8.510163307189941, 8.26715087890625, 7.8105788230896, 7.629417419433594, 7.371886253356934, 7.370951175689697, 7.1730475425720215, 6.580819606781006, 6.4898786544799805, 6.096719264984131, 6.096590042114258, 6.096512317657471, 6.0961456298828125, 30.677703857421875, 60.270912170410156, 19.849308013916016, 16.3507137298584, 14.64579963684082, 20.00641441345215, 72.28411102294922, 15.476356506347656, 46.31949996948242, 25.15780258178711, 21.548587799072266, 12.875606536865234, 12.697258949279785, 12.390582084655762, 11.377365112304688, 10.145429611206055, 10.013895034790039, 9.720260620117188, 9.616662979125977, 9.14902114868164, 9.14875602722168, 9.148099899291992, 9.147860527038574, 8.57651138305664, 8.209195137023926, 7.724725723266602, 7.064126491546631, 6.872828006744385, 6.741237163543701, 6.580079078674316, 6.535117149353027, 6.492380619049072, 10.778580665588379, 5.920320987701416, 5.920109272003174, 5.919607639312744, 5.727897644042969, 5.684199810028076, 5.347980976104736, 8.606627464294434, 46.31949996948242, 38.932987213134766, 17.12156867980957, 8.044295310974121, 8.235215187072754, 21.002470016479492, 17.71098518371582, 17.605449676513672, 15.682127952575684, 15.572508811950684, 13.342378616333008, 10.805275917053223, 10.498494148254395, 10.388915061950684, 9.298515319824219, 8.14479923248291, 8.007308006286621, 7.961315155029297, 7.943553447723389, 7.914881706237793, 7.714423656463623, 7.714025974273682, 7.315901756286621, 6.853769779205322, 6.761941432952881, 6.761427402496338, 6.560022354125977, 6.116230487823486, 5.914572715759277, 5.516421318054199, 5.5162882804870605, 5.3152055740356445, 5.268985748291016, 5.177604675292969, 5.131246566772461, 23.410634994506836, 21.074186325073242, 43.14556884765625, 21.921907424926758, 12.713041305541992, 25.382434844970703, 11.408405303955078, 93.24022674560547], \"loglift\": [30.0, 29.0, 28.0, 27.0, 26.0, 25.0, 24.0, 23.0, 22.0, 21.0, 20.0, 19.0, 18.0, 17.0, 16.0, 15.0, 14.0, 13.0, 12.0, 11.0, 10.0, 9.0, 8.0, 7.0, 6.0, 5.0, 4.0, 3.0, 2.0, 1.0, 2.2701001167297363, 2.2688000202178955, 2.2555999755859375, 2.2441999912261963, 2.241300106048584, 2.2407000064849854, 2.2288999557495117, 2.2274999618530273, 2.2258999347686768, 2.225600004196167, 2.2218000888824463, 2.220099925994873, 2.219899892807007, 2.202500104904175, 2.2021000385284424, 2.1942999362945557, 2.193000078201294, 2.184499979019165, 2.184000015258789, 2.1833999156951904, 2.176300048828125, 2.1603000164031982, 2.1603000164031982, 2.15939998626709, 2.154099941253662, 2.15310001373291, 2.149600028991699, 2.1452999114990234, 2.137200117111206, 2.1328001022338867, 2.122299909591675, 2.0462000370025635, 2.059999942779541, 2.114500045776367, 2.0715999603271484, 1.8508000373840332, 1.9279999732971191, 0.8716999888420105, 1.9946999549865723, 1.0077999830245972, 1.0724999904632568, 1.398300051689148, 0.8417999744415283, 1.0549999475479126, 2.4238998889923096, 2.4233999252319336, 2.4042999744415283, 2.4035000801086426, 2.4001998901367188, 2.399899959564209, 2.397900104522705, 2.38100004196167, 2.3743999004364014, 2.365799903869629, 2.365799903869629, 2.359800100326538, 2.3594000339508057, 2.359100103378296, 2.3548998832702637, 2.3536999225616455, 2.3485000133514404, 2.3447999954223633, 2.3345999717712402, 2.33270001411438, 2.33270001411438, 2.325900077819824, 2.323699951171875, 2.318700075149536, 2.316699981689453, 2.31469988822937, 2.3129000663757324, 2.3069000244140625, 2.30679988861084, 2.3008999824523926, 2.289599895477295, 2.1849000453948975, 2.118799924850464, 2.0416998863220215, 1.9577000141143799, 1.7168999910354614, 2.022700071334839, 2.2011001110076904, 2.0418999195098877, 1.6404000520706177, 0.3208000063896179, 0.7253999710083008, 1.0046000480651855, 2.051300048828125, 1.3051999807357788, 2.416800022125244, 2.3977999687194824, 2.3929998874664307, 2.391400098800659, 2.3789000511169434, 2.3777999877929688, 2.376699924468994, 2.3740999698638916, 2.3703999519348145, 2.3696999549865723, 2.360100030899048, 2.357100009918213, 2.35479998588562, 2.351799964904785, 2.3489999771118164, 2.3461999893188477, 2.3461999893188477, 2.3457000255584717, 2.344099998474121, 2.3368000984191895, 2.3362998962402344, 2.3304998874664307, 2.327699899673462, 2.3271000385284424, 2.3269999027252197, 2.3225998878479004, 2.3201000690460205, 2.3176000118255615, 2.315999984741211, 2.306299924850464, 2.2890000343322754, 2.1970999240875244, 2.247999906539917, 2.211699962615967, 2.1695001125335693, 1.9888999462127686, 1.9744999408721924, 1.8143999576568604, 1.8628000020980835, 1.4306999444961548, 0.32269999384880066, 1.9843000173568726, 1.1008000373840332, 1.1303000450134277, 2.5534000396728516, 2.552299976348877, 2.550600051879883, 2.5452001094818115, 2.544300079345703, 2.533900022506714, 2.5325000286102295, 2.5164999961853027, 2.500999927520752, 2.4916000366210938, 2.4911999702453613, 2.4881999492645264, 2.484600067138672, 2.4828999042510986, 2.4730000495910645, 2.4718000888824463, 2.4695000648498535, 2.4409000873565674, 2.4291000366210938, 2.422600030899048, 2.410799980163574, 2.4107000827789307, 2.4107000827789307, 2.4093000888824463, 2.4093000888824463, 2.4093000888824463, 2.4093000888824463, 2.4079999923706055, 2.4007999897003174, 2.387200117111206, 2.387200117111206, 2.3334999084472656, 2.30049991607666, 2.2809998989105225, 2.2309000492095947, 2.2948999404907227, 2.2149999141693115, 1.993299961090088, 2.092600107192993, 1.465999960899353, 1.0194000005722046, 0.016899999231100082, 1.3885999917984009, 1.139799952507019, 0.8981000185012817, -0.12559999525547028, 2.5894999504089355, 2.5803000926971436, 2.5546000003814697, 2.544100046157837, 2.5353000164031982, 2.53410005569458, 2.5264999866485596, 2.5246999263763428, 2.521899938583374, 2.519399881362915, 2.5181000232696533, 2.5130999088287354, 2.5125999450683594, 2.51200008392334, 2.51200008392334, 2.503200054168701, 2.496999979019165, 2.4955999851226807, 2.493799924850464, 2.489000082015991, 2.484999895095825, 2.484999895095825, 2.484100103378296, 2.484100103378296, 2.4832000732421875, 2.4818999767303467, 2.476799964904785, 2.4711999893188477, 2.466200113296509, 2.4537999629974365, 2.3703999519348145, 2.3164000511169434, 2.318700075149536, 2.262500047683716, 2.4172000885009766, 2.155600070953369, 1.3080999851226807, 2.0875000953674316, 0.6233999729156494, 2.2776999473571777, 1.0781999826431274, 0.963699996471405, 2.64490008354187, 2.625499963760376, 2.6068999767303467, 2.6052000522613525, 2.5924999713897705, 2.5915000438690186, 2.5862998962402344, 2.5817999839782715, 2.580699920654297, 2.579699993133545, 2.5727999210357666, 2.572000026702881, 2.561800003051758, 2.5606000423431396, 2.559799909591675, 2.557300090789795, 2.5569000244140625, 2.551300048828125, 2.5478999614715576, 2.543600082397461, 2.543600082397461, 2.543600082397461, 2.532399892807007, 2.5316998958587646, 2.508500099182129, 2.5076000690460205, 2.4972000122070312, 2.491499900817871, 2.491499900817871, 2.472899913787842, 2.2802000045776367, 1.4377000331878662, 2.0669000148773193, 2.3268001079559326, 1.914199948310852, 2.146399974822998, 1.5424000024795532, 0.6553000211715698, 2.688499927520752, 2.687700033187866, 2.679800033569336, 2.6637001037597656, 2.6540000438690186, 2.651900053024292, 2.6487998962402344, 2.646899938583374, 2.632999897003174, 2.6324000358581543, 2.6282999515533447, 2.6243999004364014, 2.622999906539917, 2.606300115585327, 2.5982000827789307, 2.5869998931884766, 2.5773000717163086, 2.5764000415802, 2.5655999183654785, 2.5625, 2.561300039291382, 2.5518999099731445, 2.5453999042510986, 2.5439000129699707, 2.5439000129699707, 2.543800115585327, 2.543800115585327, 2.535399913787842, 2.5218000411987305, 2.5218000411987305, 2.4419000148773193, 2.4895999431610107, 2.3684000968933105, 2.4337000846862793, 2.356600046157837, 2.0576000213623047, 1.7997000217437744, 1.962499976158142, 1.5145000219345093, 1.6536999940872192, 1.0865000486373901, 0.41179999709129333, -0.14480000734329224, 1.2027000188827515, 2.6912999153137207, 2.6828999519348145, 2.674999952316284, 2.6631999015808105, 2.6579999923706055, 2.6498000621795654, 2.648200035095215, 2.6458001136779785, 2.6458001136779785, 2.642199993133545, 2.630199909210205, 2.626800060272217, 2.6266000270843506, 2.625, 2.6168999671936035, 2.616300106048584, 2.615299940109253, 2.6149001121520996, 2.6071999073028564, 2.5980000495910645, 2.592600107192993, 2.5876998901367188, 2.5868000984191895, 2.583699941635132, 2.574899911880493, 2.5722999572753906, 2.5676000118255615, 2.5590999126434326, 2.5590999126434326, 2.557800054550171, 2.557800054550171, 2.4184999465942383, 2.424999952316284, 2.4251999855041504, 2.1445000171661377, 2.3427000045776367, 1.8509999513626099, 1.3598999977111816, 0.9333999752998352, 2.699199914932251, 2.698499917984009, 2.6891000270843506, 2.682800054550171, 2.6826000213623047, 2.6798999309539795, 2.6673998832702637, 2.6565001010894775, 2.652400016784668, 2.64739990234375, 2.640500068664551, 2.640500068664551, 2.638400077819824, 2.6275999546051025, 2.6247000694274902, 2.622499942779541, 2.6201000213623047, 2.6135001182556152, 2.6040000915527344, 2.599400043487549, 2.59689998626709, 2.593400001525879, 2.591900110244751, 2.58240008354187, 2.568000078201294, 2.564300060272217, 2.5620999336242676, 2.555299997329712, 2.553999900817871, 2.553999900817871, 2.503999948501587, 2.2853000164031982, 2.3671998977661133, 2.323199987411499, 1.7182999849319458, 1.006100058555603, 1.2608000040054321, 2.7181999683380127, 2.707900047302246, 2.7065000534057617, 2.696000099182129, 2.695199966430664, 2.693700075149536, 2.6923999786376953, 2.6768999099731445, 2.6559998989105225, 2.653700113296509, 2.6477999687194824, 2.6477999687194824, 2.64520001411438, 2.6405999660491943, 2.6405999660491943, 2.63100004196167, 2.6270999908447266, 2.6270999908447266, 2.6171000003814697, 2.6159000396728516, 2.606100082397461, 2.604099988937378, 2.6017000675201416, 2.600600004196167, 2.599600076675415, 2.593600034713745, 2.5906999111175537, 2.5906999111175537, 2.5906999111175537, 2.5894999504089355, 2.5752999782562256, 2.5374999046325684, 2.345599889755249, 2.399399995803833, 2.2363998889923096, 2.3935999870300293, 2.4084999561309814, 2.3273000717163086, 1.1598999500274658, 0.39419999718666077, 1.5328999757766724, 1.1924999952316284, 2.7318999767303467, 2.724100112915039, 2.7227001190185547, 2.7109999656677246, 2.710099935531616, 2.695199966430664, 2.693000078201294, 2.6884000301361084, 2.6763999462127686, 2.662400007247925, 2.6619999408721924, 2.660399913787842, 2.6586999893188477, 2.645699977874756, 2.6452999114990234, 2.6426000595092773, 2.6380999088287354, 2.6354000568389893, 2.6352999210357666, 2.6233999729156494, 2.622499942779541, 2.621500015258789, 2.6205999851226807, 2.6161999702453613, 2.6077001094818115, 2.6077001094818115, 2.6077001094818115, 2.6064999103546143, 2.603600025177002, 2.59060001373291, 2.486799955368042, 2.4193999767303467, 2.4500999450683594, 2.52020001411438, 2.2385001182556152, 2.55679988861084, 2.273900032043457, 2.5439000129699707, 2.0455000400543213, 2.784600019454956, 2.773699998855591, 2.7407000064849854, 2.732300043106079, 2.732300043106079, 2.728800058364868, 2.7274999618530273, 2.719899892807007, 2.7160000801086426, 2.711199998855591, 2.7098000049591064, 2.7077999114990234, 2.7047998905181885, 2.703200101852417, 2.7009999752044678, 2.6986000537872314, 2.697499990463257, 2.696899890899658, 2.693700075149536, 2.6872000694274902, 2.6844000816345215, 2.6802000999450684, 2.6802000999450684, 2.6767001152038574, 2.6649999618530273, 2.662899971008301, 2.6535000801086426, 2.6535000801086426, 2.6535000801086426, 2.6535000801086426, 2.6468000411987305, 2.5311999320983887, 2.434799909591675, 2.4007999897003174, 2.3975000381469727, 1.8992999792099, 0.9842000007629395, 2.067199945449829, 1.0104000568389893, 2.832200050354004, 2.8264999389648438, 2.799299955368042, 2.79830002784729, 2.796600103378296, 2.7901999950408936, 2.780600070953369, 2.7795000076293945, 2.7767999172210693, 2.7757999897003174, 2.770900011062622, 2.770900011062622, 2.770900011062622, 2.770900011062622, 2.7643001079559326, 2.759500026702881, 2.752500057220459, 2.7411999702453613, 2.737499952316284, 2.734800100326538, 2.7314000129699707, 2.7304000854492188, 2.7295000553131104, 2.7200000286102295, 2.7153000831604004, 2.7153000831604004, 2.7153000831604004, 2.7098000049591064, 2.7084999084472656, 2.6977999210357666, 2.680999994277954, 2.453900098800659, 2.4732000827789307, 2.139899969100952, 2.488600015640259, 2.4651999473571777, 2.825900077819824, 2.8183000087738037, 2.818000078201294, 2.812000036239624, 2.8115999698638916, 2.8022000789642334, 2.7867000102996826, 2.7841999530792236, 2.7832999229431152, 2.773200035095215, 2.7592999935150146, 2.7574000358581543, 2.756700038909912, 2.756500005722046, 2.7560999393463135, 2.753000020980835, 2.753000020980835, 2.746500015258789, 2.7379000186920166, 2.7360999584198, 2.7360999584198, 2.731800079345703, 2.721299886703491, 2.7160000801086426, 2.7042999267578125, 2.7042999267578125, 2.6975998878479004, 2.696000099182129, 2.692699909210205, 2.690999984741211, 2.6071999073028564, 2.535900115966797, 2.35479998588562, 2.4121999740600586, 2.4711999893188477, 1.9696999788284302, 2.2632999420166016, 0.5902000069618225], \"logprob\": [30.0, 29.0, 28.0, 27.0, 26.0, 25.0, 24.0, 23.0, 22.0, 21.0, 20.0, 19.0, 18.0, 17.0, 16.0, 15.0, 14.0, 13.0, 12.0, 11.0, 10.0, 9.0, 8.0, 7.0, 6.0, 5.0, 4.0, 3.0, 2.0, 1.0, -2.5878000259399414, -2.7776999473571777, -3.7751998901367188, -4.215400218963623, -4.301300048828125, -4.31790018081665, -4.610400199890137, -4.638800144195557, -4.671299934387207, -4.677999973297119, -4.751800060272217, -4.783100128173828, -4.786900043487549, -5.063600063323975, -5.068600177764893, -5.1722002029418945, -5.189199924468994, -5.289599895477295, -5.296000003814697, -5.302499771118164, -3.2769999504089355, -5.535299777984619, -5.535299777984619, -5.543399810791016, -5.590700149536133, -5.599400043487549, -5.628900051116943, -5.66480016708374, -5.728499889373779, -5.7617998123168945, -4.6691999435424805, -4.003399848937988, -4.432199954986572, -5.299499988555908, -4.938700199127197, -3.9151999950408936, -4.519199848175049, -3.0729000568389893, -5.260499954223633, -3.708899974822998, -4.3368000984191895, -4.980000019073486, -5.137599945068359, -5.206999778747559, -3.1414999961853027, -3.18149995803833, -4.0609002113342285, -4.084199905395508, -4.178899765014648, -4.188700199127197, -4.241099834442139, -4.6082000732421875, -4.723100185394287, -4.855800151824951, -4.855800151824951, -4.939000129699707, -4.943699836730957, -4.948400020599365, -5.002299785614014, -5.017399787902832, -5.0808000564575195, -5.1234002113342285, -5.233500003814697, -5.252500057220459, -5.252500057220459, -5.319399833679199, -5.340199947357178, -5.386099815368652, -4.474599838256836, -5.42110013961792, -5.436600208282471, -5.487100124359131, -5.487100124359131, -5.53439998626709, -4.55210018157959, -3.3578999042510986, -3.5978000164031982, -4.198999881744385, -4.2144999504089355, -3.4460999965667725, -4.57480001449585, -5.129799842834473, -4.9994001388549805, -4.685299873352051, -3.623800039291382, -3.991300106048584, -4.696300029754639, -5.056700229644775, -5.019700050354004, -3.5950000286102295, -4.250500202178955, -4.367199897766113, -4.40369987487793, -4.648200035095215, -4.6682000160217285, -4.686500072479248, -4.729899883270264, -4.7881999015808105, -4.798399925231934, -4.936200141906738, -4.975299835205078, -5.004899978637695, -5.041999816894531, -4.527200222015381, -5.108099937438965, -5.108099937438965, -5.113399982452393, -5.131400108337402, -5.209700107574463, -5.2154998779296875, -4.379499912261963, -5.301000118255615, -5.307400226593018, -5.307499885559082, -5.348999977111816, -3.884000062942505, -5.394599914550781, -5.408599853515625, -5.490300178527832, -3.56820011138916, -3.89490008354187, -4.691699981689453, -4.505099773406982, -4.443600177764893, -4.273099899291992, -4.342400074005127, -4.117300033569336, -4.328800201416016, -4.176700115203857, -3.6219000816345215, -4.916800022125244, -4.9355998039245605, -4.958600044250488, -3.4946000576019287, -3.542099952697754, -3.6136999130249023, -3.816999912261963, -3.847100019454956, -4.144599914550781, -4.179500102996826, -4.50629997253418, -4.7494001388549805, -4.874199867248535, -4.878799915313721, -4.915999889373779, -4.958099842071533, -4.977200031280518, -5.08459997177124, -5.096399784088135, -4.592199802398682, -5.37470006942749, -5.464900016784668, -5.511899948120117, -5.592599868774414, -5.592700004577637, -5.592700004577637, -5.60230016708374, -5.60230016708374, -5.602399826049805, -5.602499961853027, -3.8297998905181885, -5.656499862670898, -5.739099979400635, -5.739099979400635, -4.273099899291992, -4.043799877166748, -4.145400047302246, -3.8580000400543213, -4.503399848937988, -4.06820011138916, -4.291600227355957, -4.690800189971924, -4.465700149536133, -4.523499965667725, -3.9277000427246094, -4.80709981918335, -4.793799877166748, -4.818399906158447, -4.842299938201904, -3.2829999923706055, -2.716099977493286, -4.376699924468994, -4.563499927520752, -4.697500228881836, -4.7153000831604, -3.797300100326538, -4.840099811553955, -4.874599933624268, -4.90500020980835, -4.9197001457214355, -4.9766998291015625, -4.982600212097168, -4.988500118255615, -4.988500118255615, -5.081500053405762, -5.142000198364258, -5.156099796295166, -5.172599792480469, -5.216100215911865, -5.251399993896484, -5.2515997886657715, -5.259099960327148, -5.259300231933594, -5.2667999267578125, -5.2778000831604, -4.767600059509277, -5.365499973297119, -5.4039998054504395, -5.4944000244140625, -3.851300001144409, -4.019800186157227, -4.1834001541137695, -4.671500205993652, -5.111599922180176, -4.692200183868408, -3.4086999893188477, -4.751500129699707, -3.321199893951416, -5.144199848175049, -4.874499797821045, -5.128300189971924, -2.2558000087738037, -3.608799934387207, -4.151899814605713, -4.189300060272217, -3.4784998893737793, -4.454599857330322, -4.54040002822876, -4.60890007019043, -4.62470006942749, -4.639400005340576, -4.7342000007629395, -4.743899822235107, -4.869800090789795, -4.883999824523926, -4.893400192260742, -4.921000003814697, -4.92579984664917, -4.985499858856201, -5.021100044250488, -5.063499927520752, -5.063499927520752, -5.063499927520752, -5.167399883270264, -5.173600196838379, -3.9765000343322754, -5.36899995803833, -5.443699836730957, -5.4832000732421875, -5.48330020904541, -5.602399826049805, -3.128999948501587, -2.5069000720977783, -4.311399936676025, -5.114299774169922, -4.625, -5.063499927520752, -5.068299770355225, -5.110799789428711, -3.312700033187866, -3.3526999950408936, -3.6703999042510986, -4.113999843597412, -4.3130998611450195, -4.351099967956543, -2.453399896621704, -4.437600135803223, -4.645199775695801, -4.653900146484375, -4.707699775695801, -4.756499767303467, -4.7743000984191895, -4.95959997177124, -5.03980016708374, -5.14109992980957, -5.222599983215332, -5.230199813842773, -5.313799858093262, -5.336699962615967, -5.345300197601318, -5.411499977111816, -5.455900192260742, -5.465700149536133, -5.465799808502197, -5.46589994430542, -5.466000080108643, -5.519800186157227, -5.60230016708374, -5.60230016708374, -3.5109000205993652, -5.179900169372559, -4.331200122833252, -4.890900135040283, -4.673099994659424, -3.549799919128418, -4.282599925994873, -5.000999927520752, -4.726200103759766, -4.9141998291015625, -4.679599761962891, -4.751200199127197, -4.861599922180176, -5.121699810028076, -3.1942999362945557, -3.574399948120117, -3.840100049972534, -4.140200138092041, -4.249199867248535, -4.399600028991699, -4.428100109100342, -4.467199802398682, -4.467199802398682, -4.523799896240234, -4.693299770355225, -4.737400054931641, -4.740499973297119, -4.759900093078613, -4.856100082397461, -4.8618998527526855, -4.873600006103516, -3.695199966430664, -4.96019983291626, -5.0507001876831055, -5.101200103759766, -5.1442999839782715, -5.152100086212158, -5.178699970245361, -5.250899791717529, -5.271399974822998, -5.30709981918335, -5.369900226593018, -5.369900226593018, -5.3796000480651855, -5.3796000480651855, -3.282399892807007, -3.899399995803833, -4.51140022277832, -3.273099899291992, -5.194799900054932, -5.126100063323975, -5.1041998863220215, -5.148799896240234, -2.9586000442504883, -3.0062999725341797, -3.4862000942230225, -3.714900016784668, -3.7211999893188477, -3.8071000576019287, -4.125999927520752, -4.3414998054504395, -4.412600040435791, -4.493899822235107, -4.595900058746338, -4.5960001945495605, -4.625800132751465, -4.763800144195557, -4.798699855804443, -4.823999881744385, -4.85129976272583, -4.922299861907959, -5.018099784851074, -5.061600208282471, -3.547800064086914, -5.115300178527832, -5.128300189971924, -5.208799839019775, -5.319799900054932, -5.34660005569458, -5.36269998550415, -5.409999847412109, -5.418499946594238, -5.418499946594238, -4.7291998863220215, -4.039599895477295, -4.985899925231934, -4.905300140380859, -4.680200099945068, -4.411499977111816, -5.056099891662598, -3.4860999584198, -3.8310000896453857, -3.8698999881744385, -4.124599933624268, -4.1427001953125, -4.172800064086914, -4.198699951171875, -4.4721999168396, -4.754300117492676, -4.781700134277344, -4.847899913787842, -4.847899913787842, -4.876500129699707, -4.924300193786621, -4.9243998527526855, -5.017600059509277, -5.053599834442139, -5.053699970245361, -5.141300201416016, -5.151100158691406, -5.230100154876709, -5.245299816131592, -5.264100074768066, -5.27209997177124, -5.280099868774414, -4.3765997886657715, -5.343999862670898, -5.343999862670898, -5.344200134277344, -5.352700233459473, -3.558000087738037, -4.758999824523926, -3.850100040435791, -4.620100021362305, -4.162099838256836, -4.84060001373291, -4.943900108337402, -4.975500106811523, -4.0030999183654785, -4.322500228881836, -4.751999855041504, -4.999100208282471, -3.3417000770568848, -3.644399881362915, -3.6910998821258545, -4.013299942016602, -4.036099910736084, -4.334700107574463, -4.372000217437744, -4.447400093078613, -4.621699810028076, -4.793499946594238, -4.798799991607666, -4.816699981689453, -4.835000038146973, -4.969600200653076, -4.973899841308594, -4.999199867248535, -5.041200160980225, -5.066199779510498, -5.066199779510498, -5.167900085449219, -5.17549991607666, -5.183300018310547, -5.190999984741211, -5.2256999015808105, -5.289700031280518, -5.289700031280518, -5.289899826049805, -5.298299789428711, -5.319300174713135, -5.408899784088135, -3.4665000438690186, -3.980799913406372, -4.349100112915039, -4.7932000160217285, -3.740799903869629, -5.0731000900268555, -4.294000148773193, -5.060500144958496, -4.9054999351501465, -2.841900110244751, -3.4184000492095947, -4.275300025939941, -4.414400100708008, -4.414400100708008, -4.467800140380859, -4.486700057983398, -4.592899799346924, -4.642399787902832, -4.701399803161621, -4.718500137329102, -4.740699768066406, -4.774799823760986, -4.793300151824951, -4.817200183868408, -4.842400074005127, -4.854000091552734, -4.860000133514404, -4.892199993133545, -4.95550012588501, -4.9816999435424805, -5.020299911499023, -5.020500183105469, -5.051199913024902, -5.149099826812744, -5.164999961853027, -5.2368998527526855, -5.2368998527526855, -5.236999988555908, -5.236999988555908, -3.6277999877929688, -3.06820011138916, -4.275199890136719, -4.5030999183654785, -4.616600036621094, -4.802800178527832, -4.4334001541137695, -4.891600131988525, -4.852200031280518, -3.6407999992370605, -3.8013999462127686, -4.343599796295166, -4.358500003814697, -4.384699821472168, -4.476399898529053, -4.600500106811523, -4.614699840545654, -4.647200107574463, -4.658899784088135, -4.713600158691406, -4.713600158691406, -4.713699817657471, -4.713699817657471, -4.784900188446045, -4.833399772644043, -4.901299953460693, -5.0019001960754395, -5.033100128173828, -5.055099964141846, -5.082699775695801, -5.09060001373291, -5.098100185394287, -4.600599765777588, -5.204500198364258, -5.204500198364258, -5.204599857330322, -5.243000030517578, -5.251999855041504, -5.323699951171875, -4.86460018157959, -3.4086999893188477, -3.5631000995635986, -4.7179999351501465, -5.12470006942749, -5.124599933624268, -3.8276000022888184, -4.00570011138916, -4.01200008392334, -4.133699893951416, -4.14109992980957, -4.304999828338623, -4.531499862670898, -4.562699794769287, -4.574100017547607, -4.695099830627441, -4.8414998054504395, -4.860400199890137, -4.866799831390381, -4.86929988861084, -4.8734002113342285, -4.9019999504089355, -4.902100086212158, -4.961599826812744, -5.0355000495910645, -5.05079984664917, -5.050899982452393, -5.085400104522705, -5.165900230407715, -5.204699993133545, -5.286200046539307, -5.286200046539307, -5.329999923706055, -5.3403000831604, -5.361100196838379, -5.371799945831299, -3.9377999305725098, -4.114200115203857, -3.5787999629974365, -4.198500156402588, -4.684299945831299, -4.494500160217285, -5.000500202178955, -4.572800159454346]}, \"token.table\": {\"Topic\": [9, 8, 6, 3, 13, 9, 10, 3, 7, 9, 1, 6, 8, 10, 9, 13, 14, 1, 3, 10, 7, 8, 7, 2, 9, 5, 9, 4, 10, 3, 10, 6, 5, 10, 7, 13, 7, 11, 8, 8, 11, 11, 10, 12, 8, 12, 6, 3, 11, 6, 14, 13, 4, 8, 8, 9, 7, 1, 1, 6, 13, 1, 12, 4, 1, 12, 6, 4, 1, 10, 10, 3, 13, 7, 13, 9, 10, 1, 4, 10, 10, 3, 14, 11, 1, 12, 6, 11, 3, 8, 3, 7, 7, 5, 8, 2, 4, 5, 7, 12, 3, 11, 10, 9, 14, 4, 7, 1, 2, 12, 3, 4, 7, 8, 5, 6, 4, 10, 14, 3, 8, 11, 13, 14, 10, 12, 13, 3, 2, 11, 3, 4, 7, 7, 1, 2, 4, 7, 11, 3, 4, 8, 2, 2, 12, 12, 5, 6, 11, 13, 5, 12, 2, 3, 7, 13, 4, 4, 7, 9, 13, 3, 8, 2, 5, 2, 4, 7, 12, 11, 9, 3, 8, 13, 14, 3, 11, 5, 7, 9, 11, 8, 14, 14, 12, 1, 1, 7, 12, 1, 10, 12, 2, 3, 6, 8, 6, 11, 2, 7, 11, 14, 4, 2, 11, 2, 1, 4, 2, 7, 1, 7, 13, 5, 8, 3, 8, 12, 10, 7, 10, 7, 4, 14, 10, 14, 10, 7, 11, 4, 9, 3, 3, 13, 11, 8, 2, 8, 14, 1, 2, 14, 2, 3, 5, 5, 13, 8, 14, 2, 3, 13, 8, 13, 9, 10, 13, 12, 11, 2, 9, 3, 4, 12, 9, 3, 10, 9, 6, 10, 11, 8, 1, 7, 5, 14, 7, 6, 10, 2, 11, 12, 5, 12, 12, 10, 1, 2, 6, 6, 13, 6, 3, 9, 10, 2, 8, 2, 14, 8, 3, 9, 13, 13, 10, 7, 6, 1, 5, 3, 13, 8, 3, 4, 6, 7, 4, 1, 6, 7, 3, 4, 8, 10, 8, 1, 5, 12, 14, 6, 3, 12, 8, 14, 6, 11, 10, 9, 5, 9, 13, 12, 11, 2, 4, 11, 7, 13, 5, 13, 13, 1, 4, 12, 13, 5, 6, 8, 10, 1, 7, 13, 3, 5, 3, 8, 8, 1, 6, 5, 6, 4, 1, 7, 1, 1, 5, 8, 3, 4, 8, 3, 4, 7, 14, 4, 2, 12, 10, 1, 2, 4, 10, 11, 14, 6, 2, 7, 6, 1, 2, 6, 7, 1, 5, 6, 8, 10, 13, 2, 10, 9, 6, 11, 12, 5, 7, 4, 9, 7, 3, 5, 11, 12, 3, 13, 4, 7, 1, 6, 7, 12, 12, 9, 4, 1, 14, 13, 10, 10, 1, 2, 3, 5, 9, 4, 2, 9, 3, 6, 13, 4, 5, 1, 2, 5, 8, 5, 9, 2, 3, 11, 7, 1, 2, 3, 4, 5, 6, 4, 7, 1, 4, 12, 2, 12, 10, 3, 4, 5, 1, 4, 1, 5, 9, 6, 2, 13, 1, 3, 7, 4, 11, 5, 1, 3, 4, 4, 10, 11, 1, 4, 14, 5, 7, 11, 14, 4, 13, 4, 10, 4, 11, 4, 10, 3, 7, 6, 4, 8, 1, 2, 9, 12, 11, 6, 9, 10, 10, 11, 14, 1, 14, 9, 4, 7, 10, 5, 2, 6, 11, 14, 3, 1, 2, 4, 5, 7, 10, 13, 14, 11, 8, 12, 5, 8, 5, 9, 14, 2, 8, 14, 1, 4, 10, 12, 2, 5, 1, 8, 1, 5, 5, 6, 1, 10, 11, 1, 3, 12, 13, 5, 14, 6, 3, 4, 8, 9, 12, 3, 9, 11, 14, 2, 6, 9, 5, 1, 11, 12, 12, 13, 7, 14, 7, 8, 11, 13, 4, 5, 1, 4, 12, 6, 6, 9, 13, 4, 7, 13, 10, 13, 2, 5, 12, 9, 2, 3, 7, 10, 14, 4, 10, 11, 2, 4, 6, 2, 3, 6, 9, 6, 12, 11, 7, 12, 14, 4, 1, 3, 9, 5, 2, 14, 12, 14, 10, 2, 4, 12, 2, 9, 1, 13, 8, 9, 2, 7, 14, 6, 5, 3, 10, 7, 14, 9, 8, 14, 11, 11, 5, 8, 10, 14, 7, 12, 3, 4, 11, 3, 9, 3, 9, 9, 10, 10, 14, 12, 14, 6, 14, 4, 1, 3, 9, 10, 13], \"Freq\": [0.9771966338157654, 0.9446330070495605, 0.896163284778595, 0.0927765965461731, 0.8349893689155579, 0.817989706993103, 0.9764933586120605, 0.6098259687423706, 0.3049129843711853, 0.9253788590431213, 0.8879536390304565, 0.923467218875885, 0.9119037985801697, 0.06754843145608902, 0.676863968372345, 0.25382399559020996, 0.7591593861579895, 0.21000416576862335, 0.57001131772995, 0.21000416576862335, 0.20555567741394043, 0.7537041902542114, 0.8111280202865601, 0.9076916575431824, 0.9407606720924377, 0.803773045539856, 0.1854860931634903, 0.9434353709220886, 0.9723082780838013, 0.9473400115966797, 0.8112931251525879, 0.954133152961731, 0.9177317023277283, 0.8699204921722412, 0.9241430163383484, 0.9181166887283325, 0.7736524343490601, 0.8825304508209229, 0.901597261428833, 0.9402819275856018, 0.8258274793624878, 0.8719698190689087, 0.9446324706077576, 0.8848862051963806, 0.9611104130744934, 0.8467245697975159, 0.8648789525032043, 0.9324982166290283, 0.9505625367164612, 0.9521712064743042, 0.8594441413879395, 0.8744105100631714, 0.9633973240852356, 0.8458024263381958, 0.949945330619812, 0.930961012840271, 0.9239951968193054, 0.9960616827011108, 0.3018348217010498, 0.685988187789917, 0.8445488214492798, 0.8756059408187866, 0.8700994849205017, 0.8305383324623108, 0.9456442594528198, 0.9578180313110352, 0.868938684463501, 0.9182354807853699, 0.8703830242156982, 0.9697391986846924, 0.9309263825416565, 0.11618953198194504, 0.8133267164230347, 0.7451770901679993, 0.18629427254199982, 0.06534729152917862, 0.8495148420333862, 0.13172359764575958, 0.5598253011703491, 0.29637807607650757, 0.8842553496360779, 0.9590052366256714, 0.8812177181243896, 0.8972523212432861, 0.8104272484779358, 0.16208544373512268, 0.789306104183197, 0.8319991827011108, 0.9543407559394836, 0.9719801545143127, 0.8239834308624268, 0.12676668167114258, 0.9842902421951294, 0.7186620235443115, 0.20533199608325958, 0.8431442379951477, 0.18907077610492706, 0.6932595372200012, 0.06302358955144882, 0.925178050994873, 0.8959211707115173, 0.8912864923477173, 0.9732872247695923, 0.8911712169647217, 0.952517569065094, 0.13150736689567566, 0.789044201374054, 0.9746324419975281, 0.9623879790306091, 0.9356117844581604, 0.18824335932731628, 0.21513527631759644, 0.4033786356449127, 0.16135145723819733, 0.7366425395011902, 0.20462292432785034, 0.2317735105752945, 0.13906410336494446, 0.6026111245155334, 0.15758930146694183, 0.2757812738418579, 0.15758930146694183, 0.03939732536673546, 0.3939732313156128, 0.8151138424873352, 0.09056819975376129, 0.8445789813995361, 0.9387151002883911, 0.21274495124816895, 0.7564265131950378, 0.9323983192443848, 0.7704734802246094, 0.22013528645038605, 0.9800368547439575, 0.17151504755020142, 0.4459391236305237, 0.06860601902008057, 0.17151504755020142, 0.13721203804016113, 0.22764518857002258, 0.7588173151016235, 0.8721655607223511, 0.9313900470733643, 0.8936014175415039, 0.9400524497032166, 0.9205275774002075, 0.8929377794265747, 0.12431170046329498, 0.12431170046329498, 0.7458701729774475, 0.9262877106666565, 0.9043238162994385, 0.9116522073745728, 0.25685158371925354, 0.05137031897902489, 0.6678141355514526, 0.7752424478530884, 0.9606763124465942, 0.6979960203170776, 0.2492842972278595, 0.8900443315505981, 0.9164345264434814, 0.8523633480072021, 0.7016456127166748, 0.2806582450866699, 0.7275344133377075, 0.18654727935791016, 0.07461891323328018, 0.8201903700828552, 0.8471757769584656, 0.8370605111122131, 0.8234578371047974, 0.9392306208610535, 0.7285783886909485, 0.24285946786403656, 0.8837865591049194, 0.9559932351112366, 0.9388501048088074, 0.8868863582611084, 0.8301138281822205, 0.9094933271408081, 0.859499990940094, 0.9522689580917358, 0.8453695774078369, 0.9153947830200195, 0.970893383026123, 0.857304573059082, 0.9161935448646545, 0.924516499042511, 0.2734200656414032, 0.6379801630973816, 0.9175012707710266, 0.16987565159797668, 0.2548134922981262, 0.4671580493450165, 0.08493782579898834, 0.5813441276550293, 0.3321966528892517, 0.9680952429771423, 0.12321535497903824, 0.8625075221061707, 0.9074379801750183, 0.9257463216781616, 0.9242799282073975, 0.8954629898071289, 0.9648205637931824, 0.26301994919776917, 0.6904273629188538, 0.6616677641868591, 0.31507986783981323, 0.8744364380836487, 0.10930455476045609, 0.8987511992454529, 0.7997481822967529, 0.11424973607063293, 0.9685010313987732, 0.13038785755634308, 0.8475210666656494, 0.9015777707099915, 0.8288238048553467, 0.9133051633834839, 0.8964747190475464, 0.9643194079399109, 0.7525579333305359, 0.8636470437049866, 0.9146310091018677, 0.8572665452957153, 0.34963899850845337, 0.6118682622909546, 0.918182373046875, 0.9127772450447083, 0.9352389574050903, 0.930350124835968, 0.9668319225311279, 0.8259813785552979, 0.807381272315979, 0.9385361075401306, 0.8399669528007507, 0.9743390083312988, 0.9490299820899963, 0.9154372811317444, 0.7725580334663391, 0.9308120608329773, 0.7875020503997803, 0.19008669257164001, 0.888514518737793, 0.8493618965148926, 0.9203335642814636, 0.8174970149993896, 0.8547229170799255, 0.9543407559394836, 0.8745214343070984, 0.8689637780189514, 0.8730030655860901, 0.14149975776672363, 0.8489985466003418, 0.8446505665779114, 0.820141077041626, 0.9740368723869324, 0.9536216855049133, 0.9585313200950623, 0.132734015583992, 0.0995505079627037, 0.7632205486297607, 0.9850742220878601, 0.9773727655410767, 0.932197630405426, 0.8902577757835388, 0.22172825038433075, 0.03695470839738846, 0.7021394371986389, 0.9538141489028931, 0.4544050097465515, 0.4544050097465515, 0.8457045555114746, 0.9598562717437744, 0.9703211188316345, 0.19153758883476257, 0.6703815460205078, 0.9156346321105957, 0.9864169359207153, 0.9634712338447571, 0.8036879897117615, 0.9175078868865967, 0.8201305866241455, 0.8624435663223267, 0.9449095129966736, 0.9843328595161438, 0.9213234186172485, 0.8849853277206421, 0.1206798180937767, 0.9319767355918884, 0.833714485168457, 0.3689461648464203, 0.5903138518333435, 0.6750797629356384, 0.3000354468822479, 0.9723942875862122, 0.9625644087791443, 0.9196133017539978, 0.9711800217628479, 0.8779644966125488, 0.934932291507721, 0.8744358420372009, 0.8842018842697144, 0.9239319562911987, 0.9151908755302429, 0.9517499208450317, 0.932671070098877, 0.8665322661399841, 0.8796312808990479, 0.8747172355651855, 0.2707101106643677, 0.703846275806427, 0.7326072454452515, 0.20931634306907654, 0.8570246696472168, 0.8162634372711182, 0.13604390621185303, 0.8822649121284485, 0.8983698487281799, 0.06865334510803223, 0.13730669021606445, 0.6865334510803223, 0.9045894145965576, 0.8799152374267578, 0.8597069978713989, 0.08597069978713989, 0.8742014169692993, 0.9220030307769775, 0.3057970404624939, 0.6727535128593445, 0.8782517313957214, 0.8792517185211182, 0.8648527264595032, 0.914595901966095, 0.8057215809822083, 0.8838100433349609, 0.9681906700134277, 0.012255578301846981, 0.9061810374259949, 0.9496738910675049, 0.875342607498169, 0.675227701663971, 0.13504552841186523, 0.1800607144832611, 0.8892844319343567, 0.9319949150085449, 0.9746989011764526, 0.8744985461235046, 0.8527023792266846, 0.9526393413543701, 0.1511242538690567, 0.17271342873573303, 0.669264554977417, 0.8726611137390137, 0.9513922333717346, 0.890457272529602, 0.9475821852684021, 0.9719966650009155, 0.8919966220855713, 0.8729206323623657, 0.06848246604204178, 0.9245132803916931, 0.7773506045341492, 0.18290601670742035, 0.9534716606140137, 0.39773550629615784, 0.542366623878479, 0.888525664806366, 0.9095027446746826, 0.9507750868797302, 0.9706185460090637, 0.8334990739822388, 0.9927003979682922, 0.9032042622566223, 0.08601945638656616, 0.9432128667831421, 0.8115482330322266, 0.15216529369354248, 0.8595016002655029, 0.36797353625297546, 0.10035642236471176, 0.5185081958770752, 0.9063847064971924, 0.9258423447608948, 0.9506540298461914, 0.9495534300804138, 0.9310057759284973, 0.9449537396430969, 0.9816473722457886, 0.9407233595848083, 0.22032323479652405, 0.7160505056381226, 0.9656100869178772, 0.9901121258735657, 0.8461480140686035, 0.8273113369941711, 0.8626129627227783, 0.1149325892329216, 0.8619944453239441, 0.8648972511291504, 0.8366606831550598, 0.197396919131279, 0.06579897552728653, 0.13159795105457306, 0.394793838262558, 0.13159795105457306, 0.06579897552728653, 0.8602285385131836, 0.9476021528244019, 0.9340881705284119, 0.953320324420929, 0.8290125131607056, 0.18422499299049377, 0.21262414753437042, 0.7559969425201416, 0.0858740508556366, 0.8873652219772339, 0.9050003886222839, 0.8588838577270508, 0.12883257865905762, 0.7584283351898193, 0.12640471756458282, 0.9647448062896729, 0.9118431210517883, 0.8735203146934509, 0.9454010128974915, 0.6468460559844971, 0.13720977306365967, 0.19601397216320038, 0.9298747777938843, 0.8962203860282898, 0.967394232749939, 0.9799211025238037, 0.8148203492164612, 0.10185254365205765, 0.9358755946159363, 0.9365199208259583, 0.9074454307556152, 0.8235471248626709, 0.23129121959209442, 0.057822804898023605, 0.6360508799552917, 0.9204748868942261, 0.9077220559120178, 0.3084915578365326, 0.6512599587440491, 0.8923301696777344, 0.059488680213689804, 0.9259011149406433, 0.9591233134269714, 0.8689107894897461, 0.9424808025360107, 0.8936378955841064, 0.9539628028869629, 0.9225155115127563, 0.5731803178787231, 0.3439081907272339, 0.7498959302902222, 0.09373699128627777, 0.9505401849746704, 0.9524567127227783, 0.24419289827346802, 0.1205107793211937, 0.1205107793211937, 0.07611206918954849, 0.13636745512485504, 0.2981055974960327, 0.9131512641906738, 0.9015291929244995, 0.2999038100242615, 0.2499198466539383, 0.3998717665672302, 0.45230284333229065, 0.45230284333229065, 0.9661494493484497, 0.9558591246604919, 0.7722958326339722, 0.1817166656255722, 0.3253040313720703, 0.5963907241821289, 0.9664124250411987, 0.9042620062828064, 0.9469889998435974, 0.8728063106536865, 0.8743578195571899, 0.05464736372232437, 0.8069432377815247, 0.15618255734443665, 0.02603042684495449, 0.9763512015342712, 0.8679360747337341, 0.9811989665031433, 0.8001003861427307, 0.9068149924278259, 0.05037861317396164, 0.8230334520339966, 0.9566410183906555, 0.9667960405349731, 0.8507577180862427, 0.21357814967632294, 0.7688813209533691, 0.9429153800010681, 0.8288238048553467, 0.9375256896018982, 0.9565028548240662, 0.9309356808662415, 0.07161043584346771, 0.7688721418380737, 0.20969240367412567, 0.8305383324623108, 0.9402486681938171, 0.8483500480651855, 0.12568148970603943, 0.9225320816040039, 0.8989222049713135, 0.8088584542274475, 0.877285361289978, 0.8523480892181396, 0.9081416130065918, 0.8782767057418823, 0.8902525305747986, 0.8201131820678711, 0.9710688591003418, 0.9306409358978271, 0.026589740067720413, 0.8572777509689331, 0.19232621788978577, 0.5128698945045471, 0.25643494725227356, 0.8653779029846191, 0.7795376777648926, 0.863045871257782, 0.9259092211723328, 0.6935530304908752, 0.2774212062358856, 0.8438284993171692, 0.8461959362030029, 0.8922477960586548, 0.9033752083778381, 0.9073911905288696, 0.8888935446739197, 0.2814238369464874, 0.1784638911485672, 0.06863996386528015, 0.2745598554611206, 0.05491196736693382, 0.09609594196081161, 0.013727991841733456, 0.034319981932640076, 0.9340499639511108, 0.7582825422286987, 0.18957063555717468, 0.8552439212799072, 0.8643578886985779, 0.0850159153342247, 0.8501591682434082, 0.8754306435585022, 0.23875798285007477, 0.7530059814453125, 0.906406581401825, 0.9801602959632874, 0.9600090980529785, 0.2731158435344696, 0.6827896237373352, 0.9242738485336304, 0.9503389596939087, 0.7820985317230225, 0.17379967868328094, 0.8742306232452393, 0.8635926246643066, 0.8493960499763489, 0.948872983455658, 0.24262699484825134, 0.14557619392871857, 0.6065674424171448, 0.28969812393188477, 0.64377361536026, 0.03218868002295494, 0.945085883140564, 0.8790695071220398, 0.8844099044799805, 0.9330167174339294, 0.9467535018920898, 0.08300579339265823, 0.5672062635421753, 0.1798458844423294, 0.16601158678531647, 0.6460936665534973, 0.23803450167179108, 0.10201478749513626, 0.8873191475868225, 0.9859921336174011, 0.8922217488288879, 0.9643916487693787, 0.8495699167251587, 0.9782903790473938, 0.8258360028266907, 0.934971809387207, 0.836464524269104, 0.9684774875640869, 0.923863410949707, 0.8201313018798828, 0.9772442579269409, 0.9304552674293518, 0.9070479273796082, 0.9241602420806885, 0.9182466268539429, 0.9347741603851318, 0.9180253148078918, 0.2518979609012604, 0.7053142786026001, 0.9165694713592529, 0.19167715311050415, 0.6708700656890869, 0.9327802062034607, 0.9874640107154846, 0.9671911597251892, 0.953978419303894, 0.9378337860107422, 0.9745418429374695, 0.994413435459137, 0.7626734375953674, 0.24266882240772247, 0.9381499290466309, 0.4826243221759796, 0.09652486443519592, 0.09652486443519592, 0.20377470552921295, 0.10724984854459763, 0.3012256920337677, 0.6626964807510376, 0.9711834788322449, 0.8985522985458374, 0.9257811903953552, 0.9451696276664734, 0.6179131865501404, 0.2648199498653412, 0.0882733166217804, 0.8206092715263367, 0.9170394539833069, 0.960491955280304, 0.9606273770332336, 0.9421582818031311, 0.9117405414581299, 0.8603523969650269, 0.9525110125541687, 0.6973061561584473, 0.23243539035320282, 0.03873923048377037, 0.8436322212219238, 0.2359781563282013, 0.7079344391822815, 0.9489656090736389, 0.8873865604400635, 0.8574367165565491, 0.7840304970741272, 0.20384792983531952, 0.9888464212417603, 0.9324865937232971, 0.964483380317688, 0.4672469198703766, 0.4672469198703766, 0.8659176826477051, 0.8487686514854431, 0.18980567157268524, 0.04745141789317131, 0.7117712497711182, 0.9704970717430115, 0.9008244872093201, 0.8809236884117126, 0.09113004058599472, 0.9386165738105774, 0.05046325549483299, 0.938194990158081, 0.691514790058136, 0.23050493001937866, 0.9254225492477417, 0.9296361207962036, 0.8837878108024597, 0.9046042561531067, 0.9426506161689758, 0.9254738092422485, 0.9485434293746948, 0.9015123248100281, 0.5320659279823303, 0.32386621832847595, 0.11566650867462158, 0.8889017701148987, 0.9739702343940735, 0.9534947872161865, 0.9305832386016846, 0.25528520345687866, 0.6807605028152466, 0.3506186902523041, 0.5259280204772949, 0.935591459274292, 0.9632359147071838, 0.3193152844905853, 0.6386305689811707, 0.9513233304023743, 0.980480968952179, 0.9054524302482605, 0.8962469100952148, 0.8001216053962708, 0.8870989680290222], \"Term\": [\"abbott\", \"abnormal\", \"accept\", \"actions\", \"actions\", \"ad\", \"ads\", \"agenda\", \"agenda\", \"agree\", \"amen\", \"amendment\", \"america\", \"america\", \"americans\", \"americans\", \"anybody\", \"anyone\", \"anyone\", \"anyone\", \"anything\", \"anything\", \"appeals\", \"arrest\", \"article\", \"ass\", \"ass\", \"assholes\", \"attention\", \"b\", \"baby\", \"ballots\", \"balls\", \"barr\", \"baseball\", \"basis\", \"bat\", \"beach\", \"beetle\", \"beetlejuice\", \"believe\", \"benefits\", \"betsy\", \"biden\", \"bitch\", \"body\", \"books\", \"brain\", \"brains\", \"brainwashing\", \"break\", \"brother\", \"bs\", \"building\", \"bull\", \"bullshit\", \"bush\", \"business\", \"businesses\", \"businesses\", \"butt\", \"bye\", \"c\", \"cabal\", \"california\", \"call\", \"cancer\", \"capitalism\", \"car\", \"care\", \"cares\", \"case\", \"case\", \"cases\", \"cases\", \"cdc\", \"cdc\", \"change\", \"change\", \"change\", \"channel\", \"channels\", \"chicago\", \"china\", \"choice\", \"choice\", \"chris\", \"christi\", \"christopher\", \"church\", \"churches\", \"churches\", \"circuit\", \"circus\", \"circus\", \"citizen\", \"city\", \"city\", \"city\", \"class\", \"cnn\", \"college\", \"com\", \"come\", \"commie\", \"communist\", \"communist\", \"company\", \"comply\", \"conditioning\", \"constitution\", \"constitution\", \"constitution\", \"constitution\", \"contact\", \"contact\", \"control\", \"control\", \"control\", \"cops\", \"cops\", \"cops\", \"cops\", \"cops\", \"coronavirus\", \"coronavirus\", \"correct\", \"cost\", \"country\", \"country\", \"county\", \"course\", \"course\", \"court\", \"covid\", \"covid\", \"covid\", \"covid\", \"covid\", \"crap\", \"crap\", \"crazy\", \"credit\", \"criminals\", \"crisis\", \"cuomo\", \"curve\", \"customers\", \"customers\", \"customers\", \"cvs\", \"dabba\", \"damn\", \"day\", \"day\", \"day\", \"deal\", \"death\", \"deaths\", \"deaths\", \"decision\", \"decisions\", \"definition\", \"democrat\", \"democrat\", \"democrats\", \"democrats\", \"democrats\", \"demorats\", \"dems\", \"denise\", \"deserve\", \"devil\", \"dictator\", \"dictator\", \"dictators\", \"dictatorship\", \"die\", \"difference\", \"disease\", \"dollar\", \"donations\", \"dont\", \"door\", \"dr\", \"drive\", \"drop\", \"dtftc\", \"dumb\", \"e\", \"e\", \"eat\", \"economy\", \"economy\", \"economy\", \"economy\", \"education\", \"education\", \"election\", \"end\", \"end\", \"enforcement\", \"estimates\", \"etc\", \"event\", \"everybody\", \"everyone\", \"everyone\", \"everything\", \"everything\", \"evil\", \"evil\", \"eye\", \"eyes\", \"eyes\", \"f\", \"face\", \"face\", \"facebook\", \"facilities\", \"fact\", \"families\", \"family\", \"fans\", \"fatality\", \"fauci\", \"fb\", \"fear\", \"fear\", \"feathers\", \"feel\", \"feels\", \"feet\", \"fight\", \"fill\", \"florida\", \"flu\", \"focus\", \"folks\", \"force\", \"forget\", \"fpu\", \"fraud\", \"freedom\", \"freedom\", \"friend\", \"friends\", \"fuck\", \"fund\", \"future\", \"gallegos\", \"game\", \"gates\", \"george\", \"get\", \"get\", \"girl\", \"give\", \"god\", \"gonna\", \"gov\", \"government\", \"government\", \"government\", \"governor\", \"governors\", \"grade\", \"greg\", \"guess\", \"guess\", \"guess\", \"guy\", \"guys\", \"guys\", \"ha\", \"hate\", \"head\", \"health\", \"health\", \"heard\", \"hell\", \"help\", \"hey\", \"hitler\", \"hmm\", \"hmmm\", \"hoax\", \"home\", \"homes\", \"hope\", \"hope\", \"house\", \"houston\", \"https\", \"https\", \"idea\", \"idea\", \"idiot\", \"idiots\", \"im\", \"imagine\", \"impeach\", \"independence\", \"individuals\", \"information\", \"interest\", \"issue\", \"issues\", \"jackass\", \"jail\", \"james\", \"jesus\", \"job\", \"job\", \"jobs\", \"jobs\", \"joe\", \"john\", \"john\", \"joke\", \"judge\", \"judges\", \"judges\", \"judges\", \"juice\", \"june\", \"k\", \"k\", \"karen\", \"keep\", \"kids\", \"kids\", \"kill\", \"king\", \"krista\", \"lack\", \"lady\", \"language\", \"law\", \"law\", \"lawsuits\", \"leadership\", \"lemmings\", \"let\", \"let\", \"let\", \"level\", \"liberals\", \"liberties\", \"liberty\", \"libtards\", \"lie\", \"life\", \"life\", \"life\", \"line\", \"link\", \"list\", \"listening\", \"lives\", \"living\", \"lock\", \"lol\", \"lol\", \"look\", \"look\", \"looks\", \"lot\", \"lot\", \"love\", \"mail\", \"make\", \"man\", \"mans\", \"mask\", \"masks\", \"masks\", \"matter\", \"mayor\", \"mayor\", \"measures\", \"media\", \"media\", \"media\", \"medications\", \"member\", \"members\", \"mess\", \"message\", \"michael\", \"michigan\", \"millions\", \"mind\", \"mind\", \"mine\", \"money\", \"months\", \"morning\", \"moron\", \"move\", \"move\", \"movies\", \"msm\", \"murder\", \"murder\", \"murder\", \"murder\", \"murder\", \"murder\", \"music\", \"mute\", \"n\", \"name\", \"nation\", \"nation\", \"need\", \"need\", \"needs\", \"needs\", \"neighbors\", \"news\", \"news\", \"newsom\", \"newsom\", \"night\", \"non\", \"nonsense\", \"nope\", \"nothing\", \"nothing\", \"nothing\", \"november\", \"number\", \"numbers\", \"office\", \"officers\", \"officers\", \"officials\", \"oh\", \"ok\", \"omg\", \"ones\", \"ones\", \"ones\", \"operation\", \"opinion\", \"order\", \"order\", \"orders\", \"orders\", \"organization\", \"others\", \"outlets\", \"owners\", \"pa\", \"page\", \"pandemic\", \"part\", \"part\", \"party\", \"party\", \"patriots\", \"pay\", \"people\", \"people\", \"people\", \"people\", \"people\", \"people\", \"percent\", \"period\", \"person\", \"person\", \"person\", \"phone\", \"phone\", \"phrase\", \"piece\", \"place\", \"place\", \"places\", \"places\", \"plan\", \"play\", \"please\", \"pocket\", \"point\", \"point\", \"police\", \"police\", \"police\", \"politicians\", \"pos\", \"power\", \"ppe\", \"president\", \"president\", \"prisoners\", \"privacy\", \"problem\", \"promise\", \"propaganda\", \"propaganda\", \"property\", \"protections\", \"put\", \"question\", \"race\", \"race\", \"rate\", \"rate\", \"rates\", \"reason\", \"refuse\", \"refuse\", \"religion\", \"remember\", \"republican\", \"republicans\", \"requests\", \"require\", \"rest\", \"results\", \"ride\", \"right\", \"rights\", \"rights\", \"rino\", \"riots\", \"riots\", \"riots\", \"rise\", \"rodney\", \"rope\", \"rude\", \"rules\", \"rules\", \"safety\", \"scare\", \"schools\", \"scott\", \"screw\", \"security\", \"see\", \"see\", \"see\", \"see\", \"see\", \"see\", \"see\", \"see\", \"sense\", \"service\", \"service\", \"services\", \"shame\", \"sheep\", \"sheep\", \"sheeple\", \"shit\", \"shit\", \"shits\", \"shop\", \"shove\", \"show\", \"show\", \"shows\", \"shut\", \"sign\", \"sign\", \"signs\", \"socialism\", \"socialist\", \"somebody\", \"someone\", \"someone\", \"someone\", \"something\", \"something\", \"something\", \"soros\", \"sorry\", \"sounds\", \"space\", \"start\", \"state\", \"state\", \"state\", \"state\", \"states\", \"states\", \"states\", \"station\", \"stay\", \"stick\", \"stop\", \"stops\", \"store\", \"stupid\", \"suit\", \"summer\", \"support\", \"supporters\", \"symptoms\", \"system\", \"tactics\", \"take\", \"talks\", \"tasks\", \"tax\", \"taxes\", \"tell\", \"tell\", \"term\", \"test\", \"test\", \"texan\", \"texas\", \"th\", \"thank\", \"thanks\", \"thats\", \"thing\", \"think\", \"think\", \"ties\", \"time\", \"time\", \"time\", \"time\", \"time\", \"times\", \"times\", \"today\", \"trace\", \"tree\", \"trip\", \"trump\", \"trump\", \"trump\", \"trust\", \"truth\", \"tv\", \"tx\", \"tyranny\", \"tyrant\", \"understand\", \"unemployment\", \"use\", \"use\", \"use\", \"useless\", \"vaccine\", \"vaccine\", \"version\", \"victims\", \"videos\", \"virus\", \"virus\", \"vote\", \"voters\", \"voting\", \"wait\", \"wait\", \"wake\", \"want\", \"war\", \"war\", \"war\", \"waste\", \"wasting\", \"watch\", \"watch\", \"way\", \"way\", \"ways\", \"wear\", \"wear\", \"weekend\", \"weeks\", \"well\", \"witch\", \"woman\", \"wonder\", \"word\", \"words\", \"work\", \"work\", \"work\", \"works\", \"world\", \"wow\", \"wtf\", \"www\", \"www\", \"ya\", \"ya\", \"yabba\", \"yeah\", \"years\", \"years\", \"yep\", \"yes\", \"yesterday\", \"youtu\", \"youtube\", \"yup\"]}, \"R\": 30, \"lambda.step\": 0.01, \"plot.opts\": {\"xlab\": \"PC1\", \"ylab\": \"PC2\"}, \"topic.order\": [7, 11, 3, 5, 6, 10, 13, 9, 2, 8, 4, 1, 14, 12]};\n",
       "\n",
       "function LDAvis_load_lib(url, callback){\n",
       "  var s = document.createElement('script');\n",
       "  s.src = url;\n",
       "  s.async = true;\n",
       "  s.onreadystatechange = s.onload = callback;\n",
       "  s.onerror = function(){console.warn(\"failed to load library \" + url);};\n",
       "  document.getElementsByTagName(\"head\")[0].appendChild(s);\n",
       "}\n",
       "\n",
       "if(typeof(LDAvis) !== \"undefined\"){\n",
       "   // already loaded: just create the visualization\n",
       "   !function(LDAvis){\n",
       "       new LDAvis(\"#\" + \"ldavis_el568850968699683542662649\", ldavis_el568850968699683542662649_data);\n",
       "   }(LDAvis);\n",
       "}else if(typeof define === \"function\" && define.amd){\n",
       "   // require.js is available: use it to load d3/LDAvis\n",
       "   require.config({paths: {d3: \"https://cdnjs.cloudflare.com/ajax/libs/d3/3.5.5/d3.min\"}});\n",
       "   require([\"d3\"], function(d3){\n",
       "      window.d3 = d3;\n",
       "      LDAvis_load_lib(\"https://cdn.rawgit.com/bmabey/pyLDAvis/files/ldavis.v1.0.0.js\", function(){\n",
       "        new LDAvis(\"#\" + \"ldavis_el568850968699683542662649\", ldavis_el568850968699683542662649_data);\n",
       "      });\n",
       "    });\n",
       "}else{\n",
       "    // require.js not available: dynamically load d3 & LDAvis\n",
       "    LDAvis_load_lib(\"https://cdnjs.cloudflare.com/ajax/libs/d3/3.5.5/d3.min.js\", function(){\n",
       "         LDAvis_load_lib(\"https://cdn.rawgit.com/bmabey/pyLDAvis/files/ldavis.v1.0.0.js\", function(){\n",
       "                 new LDAvis(\"#\" + \"ldavis_el568850968699683542662649\", ldavis_el568850968699683542662649_data);\n",
       "            })\n",
       "         });\n",
       "}\n",
       "</script>"
      ],
      "text/plain": [
       "PreparedData(topic_coordinates=              x         y  topics  cluster       Freq\n",
       "topic                                                \n",
       "6     -0.196102 -0.082922       1        1  10.263298\n",
       "10    -0.090005  0.132743       2        1   8.740642\n",
       "2     -0.091685  0.089779       3        1   8.736639\n",
       "4     -0.053030  0.115123       4        1   7.615225\n",
       "5     -0.090559 -0.026597       5        1   7.371582\n",
       "9     -0.165322 -0.177022       6        1   7.052506\n",
       "12     0.031453  0.126945       7        1   6.658982\n",
       "8      0.115243 -0.048475       8        1   6.656839\n",
       "1      0.130296 -0.129604       9        1   6.627732\n",
       "7      0.062420  0.073443      10        1   6.433234\n",
       "3      0.083636 -0.023615      11        1   6.366591\n",
       "0      0.101534 -0.051976      12        1   6.088658\n",
       "13     0.087774 -0.049509      13        1   5.694927\n",
       "11     0.074345  0.051687      14        1   5.693150, topic_info=     Category        Freq      Term       Total  loglift  logprob\n",
       "82    Default  121.000000     money  121.000000  30.0000  30.0000\n",
       "3     Default  126.000000  business  126.000000  29.0000  29.0000\n",
       "8     Default  315.000000    people  315.000000  28.0000  28.0000\n",
       "75    Default   99.000000       way   99.000000  27.0000  27.0000\n",
       "113   Default  104.000000      mask  104.000000  26.0000  26.0000\n",
       "...       ...         ...       ...         ...      ...      ...\n",
       "417   Topic14   13.926867     years   21.921907   2.4122  -4.1985\n",
       "1166  Topic14    8.567359   vaccine   12.713041   2.4712  -4.6843\n",
       "449   Topic14   10.358474      cops   25.382435   1.9697  -4.4945\n",
       "667   Topic14    6.245076        ya   11.408405   2.2633  -5.0005\n",
       "105   Topic14    9.578173      time   93.240227   0.5902  -4.5728\n",
       "\n",
       "[603 rows x 6 columns], token_table=      Topic      Freq       Term\n",
       "term                            \n",
       "1677      9  0.977197     abbott\n",
       "4363      8  0.944633   abnormal\n",
       "3857      6  0.896163     accept\n",
       "56        3  0.092777    actions\n",
       "56       13  0.834989    actions\n",
       "...     ...       ...        ...\n",
       "269       1  0.980481        yes\n",
       "258       3  0.905452  yesterday\n",
       "748       9  0.896247      youtu\n",
       "53       10  0.800122    youtube\n",
       "1703     13  0.887099        yup\n",
       "\n",
       "[707 rows x 3 columns], R=30, lambda_step=0.01, plot_opts={'xlab': 'PC1', 'ylab': 'PC2'}, topic_order=[7, 11, 3, 5, 6, 10, 13, 9, 2, 8, 4, 1, 14, 12])"
      ]
     },
     "execution_count": 33,
     "metadata": {},
     "output_type": "execute_result"
    }
   ],
   "source": [
    "pyLDAvis.enable_notebook()\n",
    "vis = pyLDAvis.gensim.prepare(ldamodel, corpus_dic, dictionary)\n",
    "vis"
   ]
  },
  {
   "cell_type": "markdown",
   "metadata": {},
   "source": [
    "## Model with Nouns and 8 parameters"
   ]
  },
  {
   "cell_type": "code",
   "execution_count": 34,
   "metadata": {},
   "outputs": [
    {
     "data": {
      "text/plain": [
       "[(0,\n",
       "  '0.037*\"law\" + 0.020*\"media\" + 0.018*\"government\" + 0.018*\"home\" + 0.016*\"control\" + 0.013*\"people\" + 0.011*\"stay\" + 0.010*\"country\" + 0.010*\"michigan\" + 0.008*\"face\"'),\n",
       " (1,\n",
       "  '0.019*\"bs\" + 0.018*\"needs\" + 0.016*\"need\" + 0.015*\"world\" + 0.013*\"democrats\" + 0.011*\"unemployment\" + 0.011*\"idiot\" + 0.011*\"politicians\" + 0.011*\"order\" + 0.009*\"use\"'),\n",
       " (2,\n",
       "  '0.017*\"abbott\" + 0.017*\"governors\" + 0.014*\"people\" + 0.012*\"money\" + 0.012*\"lot\" + 0.011*\"shit\" + 0.011*\"gov\" + 0.011*\"states\" + 0.010*\"news\" + 0.010*\"job\"'),\n",
       " (3,\n",
       "  '0.031*\"way\" + 0.023*\"governor\" + 0.018*\"hell\" + 0.017*\"freedom\" + 0.014*\"life\" + 0.014*\"texas\" + 0.013*\"ass\" + 0.012*\"thank\" + 0.012*\"america\" + 0.011*\"someone\"'),\n",
       " (4,\n",
       "  '0.038*\"people\" + 0.029*\"money\" + 0.019*\"church\" + 0.017*\"state\" + 0.015*\"refuse\" + 0.014*\"rights\" + 0.013*\"mask\" + 0.012*\"office\" + 0.012*\"waste\" + 0.011*\"times\"'),\n",
       " (5,\n",
       "  '0.050*\"people\" + 0.023*\"see\" + 0.022*\"vote\" + 0.016*\"virus\" + 0.014*\"time\" + 0.014*\"power\" + 0.013*\"tv\" + 0.010*\"money\" + 0.008*\"businesses\" + 0.007*\"flu\"'),\n",
       " (6,\n",
       "  '0.044*\"business\" + 0.023*\"masks\" + 0.018*\"nothing\" + 0.018*\"businesses\" + 0.018*\"people\" + 0.014*\"man\" + 0.010*\"yes\" + 0.010*\"look\" + 0.009*\"see\" + 0.009*\"shop\"'),\n",
       " (7,\n",
       "  '0.019*\"th\" + 0.019*\"court\" + 0.014*\"rate\" + 0.013*\"circuit\" + 0.013*\"anything\" + 0.012*\"https\" + 0.011*\"care\" + 0.011*\"attention\" + 0.010*\"everything\" + 0.010*\"day\"')]"
      ]
     },
     "execution_count": 34,
     "metadata": {},
     "output_type": "execute_result"
    }
   ],
   "source": [
    "dictionary = corpora.Dictionary(corpus['nouns'])\n",
    "corpus_dic = [dictionary.doc2bow(text) for text in corpus['nouns']]\n",
    "ldamodel = models.ldamodel.LdaModel(corpus_dic, num_topics=8, id2word = dictionary, passes=200, random_state = 42)\n",
    "ldamodel.print_topics()"
   ]
  },
  {
   "cell_type": "code",
   "execution_count": 35,
   "metadata": {},
   "outputs": [
    {
     "name": "stderr",
     "output_type": "stream",
     "text": [
      "/Users/yelenanevel/opt/anaconda3/lib/python3.7/site-packages/pyLDAvis/_prepare.py:257: FutureWarning: Sorting because non-concatenation axis is not aligned. A future version\n",
      "of pandas will change to not sort by default.\n",
      "\n",
      "To accept the future behavior, pass 'sort=False'.\n",
      "\n",
      "To retain the current behavior and silence the warning, pass 'sort=True'.\n",
      "\n",
      "  return pd.concat([default_term_info] + list(topic_dfs))\n"
     ]
    },
    {
     "data": {
      "text/html": [
       "\n",
       "<link rel=\"stylesheet\" type=\"text/css\" href=\"https://cdn.rawgit.com/bmabey/pyLDAvis/files/ldavis.v1.0.0.css\">\n",
       "\n",
       "\n",
       "<div id=\"ldavis_el568852940050722570714160\"></div>\n",
       "<script type=\"text/javascript\">\n",
       "\n",
       "var ldavis_el568852940050722570714160_data = {\"mdsDat\": {\"x\": [0.169088292781304, 0.07576423814690325, 0.08393721612674133, 0.01964978527576247, 0.0528443108030787, -0.1274260783841577, -0.1928799095763214, -0.08097785517331038], \"y\": [0.02029263265885488, -0.03228294716932064, -0.049200749599498605, 0.022855917893159192, 0.003769944846388908, 0.24836253359951604, -0.15040921795419712, -0.06338811427490273], \"topics\": [1, 2, 3, 4, 5, 6, 7, 8], \"cluster\": [1, 1, 1, 1, 1, 1, 1, 1], \"Freq\": [14.300921440124512, 13.989175796508789, 13.260672569274902, 13.193485260009766, 12.42624568939209, 12.312643051147461, 10.53347110748291, 9.983380317687988]}, \"tinfo\": {\"Category\": [\"Default\", \"Default\", \"Default\", \"Default\", \"Default\", \"Default\", \"Default\", \"Default\", \"Default\", \"Default\", \"Default\", \"Default\", \"Default\", \"Default\", \"Default\", \"Default\", \"Default\", \"Default\", \"Default\", \"Default\", \"Default\", \"Default\", \"Default\", \"Default\", \"Default\", \"Default\", \"Default\", \"Default\", \"Default\", \"Default\", \"Topic1\", \"Topic1\", \"Topic1\", \"Topic1\", \"Topic1\", \"Topic1\", \"Topic1\", \"Topic1\", \"Topic1\", \"Topic1\", \"Topic1\", \"Topic1\", \"Topic1\", \"Topic1\", \"Topic1\", \"Topic1\", \"Topic1\", \"Topic1\", \"Topic1\", \"Topic1\", \"Topic1\", \"Topic1\", \"Topic1\", \"Topic1\", \"Topic1\", \"Topic1\", \"Topic1\", \"Topic1\", \"Topic1\", \"Topic1\", \"Topic1\", \"Topic1\", \"Topic1\", \"Topic1\", \"Topic1\", \"Topic1\", \"Topic1\", \"Topic1\", \"Topic1\", \"Topic1\", \"Topic1\", \"Topic1\", \"Topic1\", \"Topic1\", \"Topic1\", \"Topic1\", \"Topic1\", \"Topic1\", \"Topic2\", \"Topic2\", \"Topic2\", \"Topic2\", \"Topic2\", \"Topic2\", \"Topic2\", \"Topic2\", \"Topic2\", \"Topic2\", \"Topic2\", \"Topic2\", \"Topic2\", \"Topic2\", \"Topic2\", \"Topic2\", \"Topic2\", \"Topic2\", \"Topic2\", \"Topic2\", \"Topic2\", \"Topic2\", \"Topic2\", \"Topic2\", \"Topic2\", \"Topic2\", \"Topic2\", \"Topic2\", \"Topic2\", \"Topic2\", \"Topic2\", \"Topic2\", \"Topic2\", \"Topic2\", \"Topic2\", \"Topic2\", \"Topic2\", \"Topic2\", \"Topic2\", \"Topic2\", \"Topic2\", \"Topic2\", \"Topic2\", \"Topic2\", \"Topic2\", \"Topic2\", \"Topic3\", \"Topic3\", \"Topic3\", \"Topic3\", \"Topic3\", \"Topic3\", \"Topic3\", \"Topic3\", \"Topic3\", \"Topic3\", \"Topic3\", \"Topic3\", \"Topic3\", \"Topic3\", \"Topic3\", \"Topic3\", \"Topic3\", \"Topic3\", \"Topic3\", \"Topic3\", \"Topic3\", \"Topic3\", \"Topic3\", \"Topic3\", \"Topic3\", \"Topic3\", \"Topic3\", \"Topic3\", \"Topic3\", \"Topic3\", \"Topic3\", \"Topic3\", \"Topic3\", \"Topic3\", \"Topic3\", \"Topic3\", \"Topic3\", \"Topic3\", \"Topic3\", \"Topic3\", \"Topic3\", \"Topic3\", \"Topic3\", \"Topic3\", \"Topic3\", \"Topic3\", \"Topic3\", \"Topic3\", \"Topic3\", \"Topic4\", \"Topic4\", \"Topic4\", \"Topic4\", \"Topic4\", \"Topic4\", \"Topic4\", \"Topic4\", \"Topic4\", \"Topic4\", \"Topic4\", \"Topic4\", \"Topic4\", \"Topic4\", \"Topic4\", \"Topic4\", \"Topic4\", \"Topic4\", \"Topic4\", \"Topic4\", \"Topic4\", \"Topic4\", \"Topic4\", \"Topic4\", \"Topic4\", \"Topic4\", \"Topic4\", \"Topic4\", \"Topic4\", \"Topic4\", \"Topic4\", \"Topic4\", \"Topic4\", \"Topic4\", \"Topic4\", \"Topic4\", \"Topic4\", \"Topic4\", \"Topic4\", \"Topic4\", \"Topic4\", \"Topic4\", \"Topic4\", \"Topic4\", \"Topic4\", \"Topic4\", \"Topic4\", \"Topic4\", \"Topic4\", \"Topic4\", \"Topic4\", \"Topic5\", \"Topic5\", \"Topic5\", \"Topic5\", \"Topic5\", \"Topic5\", \"Topic5\", \"Topic5\", \"Topic5\", \"Topic5\", \"Topic5\", \"Topic5\", \"Topic5\", \"Topic5\", \"Topic5\", \"Topic5\", \"Topic5\", \"Topic5\", \"Topic5\", \"Topic5\", \"Topic5\", \"Topic5\", \"Topic5\", \"Topic5\", \"Topic5\", \"Topic5\", \"Topic5\", \"Topic5\", \"Topic5\", \"Topic5\", \"Topic5\", \"Topic5\", \"Topic5\", \"Topic5\", \"Topic5\", \"Topic5\", \"Topic5\", \"Topic5\", \"Topic5\", \"Topic5\", \"Topic5\", \"Topic5\", \"Topic5\", \"Topic5\", \"Topic5\", \"Topic5\", \"Topic5\", \"Topic6\", \"Topic6\", \"Topic6\", \"Topic6\", \"Topic6\", \"Topic6\", \"Topic6\", \"Topic6\", \"Topic6\", \"Topic6\", \"Topic6\", \"Topic6\", \"Topic6\", \"Topic6\", \"Topic6\", \"Topic6\", \"Topic6\", \"Topic6\", \"Topic6\", \"Topic6\", \"Topic6\", \"Topic6\", \"Topic6\", \"Topic6\", \"Topic6\", \"Topic6\", \"Topic6\", \"Topic6\", \"Topic6\", \"Topic6\", \"Topic6\", \"Topic6\", \"Topic6\", \"Topic6\", \"Topic6\", \"Topic6\", \"Topic6\", \"Topic6\", \"Topic6\", \"Topic6\", \"Topic6\", \"Topic6\", \"Topic6\", \"Topic6\", \"Topic6\", \"Topic6\", \"Topic6\", \"Topic6\", \"Topic6\", \"Topic6\", \"Topic7\", \"Topic7\", \"Topic7\", \"Topic7\", \"Topic7\", \"Topic7\", \"Topic7\", \"Topic7\", \"Topic7\", \"Topic7\", \"Topic7\", \"Topic7\", \"Topic7\", \"Topic7\", \"Topic7\", \"Topic7\", \"Topic7\", \"Topic7\", \"Topic7\", \"Topic7\", \"Topic7\", \"Topic7\", \"Topic7\", \"Topic7\", \"Topic7\", \"Topic7\", \"Topic7\", \"Topic7\", \"Topic7\", \"Topic7\", \"Topic7\", \"Topic7\", \"Topic7\", \"Topic7\", \"Topic7\", \"Topic7\", \"Topic7\", \"Topic7\", \"Topic7\", \"Topic7\", \"Topic7\", \"Topic7\", \"Topic7\", \"Topic7\", \"Topic7\", \"Topic7\", \"Topic7\", \"Topic7\", \"Topic7\", \"Topic8\", \"Topic8\", \"Topic8\", \"Topic8\", \"Topic8\", \"Topic8\", \"Topic8\", \"Topic8\", \"Topic8\", \"Topic8\", \"Topic8\", \"Topic8\", \"Topic8\", \"Topic8\", \"Topic8\", \"Topic8\", \"Topic8\", \"Topic8\", \"Topic8\", \"Topic8\", \"Topic8\", \"Topic8\", \"Topic8\", \"Topic8\", \"Topic8\", \"Topic8\", \"Topic8\", \"Topic8\", \"Topic8\", \"Topic8\", \"Topic8\", \"Topic8\", \"Topic8\", \"Topic8\", \"Topic8\", \"Topic8\", \"Topic8\", \"Topic8\", \"Topic8\", \"Topic8\", \"Topic8\", \"Topic8\", \"Topic8\", \"Topic8\", \"Topic8\", \"Topic8\", \"Topic8\"], \"Freq\": [110.0, 295.0, 75.0, 87.0, 52.0, 61.0, 59.0, 127.0, 42.0, 39.0, 37.0, 53.0, 48.0, 54.0, 32.0, 37.0, 74.0, 55.0, 58.0, 31.0, 35.0, 30.0, 43.0, 38.0, 32.0, 56.0, 40.0, 68.0, 84.0, 34.0, 51.990726470947266, 29.229719161987305, 17.45334815979004, 14.93055248260498, 13.999724388122559, 13.877678871154785, 12.772894859313965, 12.649866104125977, 11.217533111572266, 10.823586463928223, 10.603705406188965, 10.465995788574219, 10.262103080749512, 9.689393043518066, 9.457769393920898, 9.416187286376953, 9.279640197753906, 9.277789115905762, 9.116113662719727, 8.923492431640625, 8.666193008422852, 8.624893188476562, 8.544045448303223, 8.353008270263672, 8.31196403503418, 7.780702114105225, 7.780582427978516, 7.547818183898926, 7.248586177825928, 7.179360389709473, 32.13019943237305, 36.577613830566406, 15.469366073608398, 11.627730369567871, 116.10093688964844, 53.624176025390625, 15.435139656066895, 14.777973175048828, 33.01815414428711, 16.742921829223633, 13.136670112609863, 9.921172142028809, 17.32086181640625, 19.08319854736328, 22.704315185546875, 16.363950729370117, 12.060906410217285, 11.997858047485352, 21.91073989868164, 21.700525283813477, 20.111072540283203, 16.355087280273438, 15.830384254455566, 15.374001502990723, 14.363969802856445, 14.113588333129883, 13.81360912322998, 13.184000015258789, 13.183494567871094, 12.83543586730957, 12.52033805847168, 10.16668701171875, 9.677978515625, 9.615415573120117, 9.457042694091797, 9.36281681060791, 9.045639991760254, 8.606066703796387, 8.385161399841309, 8.116630554199219, 8.11634635925293, 7.514871120452881, 7.468838691711426, 7.356374740600586, 7.167867183685303, 7.027048110961914, 6.900174140930176, 100.07041931152344, 31.02632713317871, 53.462135314941406, 42.12582015991211, 18.982736587524414, 40.142581939697266, 10.29352855682373, 18.654598236083984, 12.037385940551758, 39.95026397705078, 13.5270357131958, 19.374725341796875, 20.313140869140625, 12.417956352233887, 11.669099807739258, 11.585806846618652, 11.833260536193848, 41.44709014892578, 31.751327514648438, 19.97297477722168, 19.360822677612305, 14.464680671691895, 14.236370086669922, 12.387134552001953, 11.63990306854248, 9.735427856445312, 9.64492130279541, 9.29301929473877, 9.003739356994629, 8.912991523742676, 8.74532699584961, 8.74532699584961, 8.5432710647583, 8.499619483947754, 7.859716415405273, 7.218856334686279, 7.12756872177124, 6.574294567108154, 6.515585899353027, 6.028684139251709, 5.938117980957031, 5.937513828277588, 5.936036586761475, 5.892337799072266, 5.6470489501953125, 5.388581275939941, 5.342918395996094, 31.039608001708984, 15.783852577209473, 25.925413131713867, 21.13814353942871, 26.445608139038086, 23.355812072753906, 61.749786376953125, 36.3776741027832, 22.232053756713867, 10.909591674804688, 82.14137268066406, 14.028459548950195, 27.447166442871094, 18.64568519592285, 10.812623977661133, 13.96201229095459, 10.887863159179688, 10.750750541687012, 10.5914945602417, 36.459739685058594, 24.815248489379883, 20.05561065673828, 16.86726951599121, 16.573686599731445, 14.866379737854004, 13.985071182250977, 12.494423866271973, 11.086480140686035, 10.97293758392334, 10.257835388183594, 9.749761581420898, 9.56704044342041, 9.202361106872559, 8.933561325073242, 8.850194931030273, 8.765578269958496, 8.609230041503906, 8.608869552612305, 17.72318458557129, 8.021049499511719, 8.020588874816895, 7.4730401039123535, 7.287806510925293, 6.613987922668457, 6.6139817237854, 6.571916103363037, 6.065345764160156, 5.981293201446533, 5.964264869689941, 24.167531967163086, 17.877788543701172, 23.86606788635254, 36.77190399169922, 10.668641090393066, 17.938310623168945, 18.725929260253906, 19.885528564453125, 21.581539154052734, 19.580453872680664, 16.31934356689453, 24.39151954650879, 21.79132080078125, 11.325231552124023, 25.08094596862793, 30.04551887512207, 11.758151054382324, 15.739397048950195, 13.45415210723877, 13.929380416870117, 11.695749282836914, 73.8770523071289, 22.98946762084961, 20.23681640625, 16.501976013183594, 14.445590019226074, 14.024930000305176, 12.254194259643555, 11.083632469177246, 10.841922760009766, 9.447556495666504, 9.191325187683105, 8.95140266418457, 8.726375579833984, 8.60491943359375, 8.321101188659668, 8.321015357971191, 7.778842926025391, 7.778799057006836, 7.733795166015625, 7.689422130584717, 7.600288391113281, 7.404026985168457, 7.359207630157471, 7.104435443878174, 7.103691577911377, 7.060183525085449, 6.773910999298096, 6.773707389831543, 6.564376354217529, 6.519498825073242, 33.270347595214844, 39.68415451049805, 11.404948234558105, 35.54922866821289, 37.26126480102539, 14.448593139648438, 10.121465682983398, 20.831787109375, 16.547958374023438, 8.405472755432129, 26.988983154296875, 10.078451156616211, 14.315475463867188, 10.972541809082031, 12.95682144165039, 12.257316589355469, 10.203372955322266, 38.64302062988281, 37.12937545776367, 27.506807327270508, 27.03791046142578, 26.00623321533203, 22.31876564025879, 19.353364944458008, 18.61809730529785, 17.365602493286133, 16.076128005981445, 14.856090545654297, 12.2399320602417, 12.109295845031738, 11.654444694519043, 11.561142921447754, 10.227922439575195, 9.860762596130371, 9.816823959350586, 9.036375045776367, 8.845053672790527, 8.139782905578613, 7.480733871459961, 7.113461017608643, 6.994408130645752, 6.905364513397217, 6.819711685180664, 6.422901153564453, 6.2897772789001465, 6.230368614196777, 6.098806858062744, 24.73662567138672, 15.37605094909668, 9.32975959777832, 20.6331787109375, 10.17280101776123, 13.09579849243164, 11.212751388549805, 18.760936737060547, 21.40943717956543, 12.058003425598145, 20.47037124633789, 10.8473539352417, 14.243768692016602, 13.179998397827148, 12.810153007507324, 18.870439529418945, 20.387897491455078, 14.276904106140137, 13.177611351013184, 13.488053321838379, 30.388700485229492, 29.37914276123047, 20.705591201782227, 15.620795249938965, 14.522622108459473, 13.72488784790039, 9.88758659362793, 9.823643684387207, 8.963356018066406, 8.851520538330078, 8.601428985595703, 7.8793206214904785, 7.356086254119873, 7.144805908203125, 7.144157409667969, 7.1434149742126465, 7.107945919036865, 7.1075119972229, 6.982037544250488, 6.855391979217529, 6.621955394744873, 6.346600532531738, 5.972616195678711, 5.971907138824463, 5.858084678649902, 5.823512554168701, 5.3000288009643555, 4.92557430267334, 4.888664245605469, 4.851097106933594, 20.187320709228516, 21.915565490722656, 16.41935157775879, 38.89282989501953, 23.913084030151367, 52.81690979003906, 17.51764488220215, 16.643875122070312, 24.570186614990234, 19.017131805419922, 14.574483871459961, 17.841930389404297, 12.496808052062988, 11.311973571777344, 12.310973167419434, 7.943143367767334, 7.71698522567749, 7.9447712898254395, 8.501521110534668, 31.619468688964844, 13.487456321716309, 12.977785110473633, 12.834250450134277, 11.236860275268555, 11.06403923034668, 10.907502174377441, 9.18281078338623, 8.99665641784668, 17.92807960510254, 8.912261009216309, 8.629887580871582, 8.119826316833496, 8.077713966369629, 18.313825607299805, 7.525137901306152, 7.069476127624512, 6.702434539794922, 6.618356227874756, 6.618218421936035, 5.552206516265869, 5.327974319458008, 5.115869045257568, 5.003272533416748, 4.961220741271973, 4.917520523071289, 4.816803455352783, 4.408689022064209, 4.408405780792236, 4.4082841873168945, 29.552982330322266, 24.883907318115234, 26.125709533691406, 18.3880672454834, 12.949872016906738, 14.296741485595703, 17.86935806274414, 21.19921112060547, 12.52955436706543, 13.470535278320312, 13.222577095031738, 13.656210899353027, 7.63506555557251, 10.991540908813477, 9.203322410583496, 8.794625282287598, 8.265257835388184], \"Term\": [\"business\", \"people\", \"law\", \"way\", \"vote\", \"masks\", \"media\", \"money\", \"church\", \"th\", \"court\", \"governor\", \"nothing\", \"abbott\", \"bs\", \"governors\", \"businesses\", \"home\", \"government\", \"hell\", \"needs\", \"freedom\", \"control\", \"need\", \"refuse\", \"virus\", \"rights\", \"state\", \"time\", \"world\", \"vote\", \"tv\", \"flu\", \"mine\", \"move\", \"wait\", \"property\", \"show\", \"mail\", \"yabba\", \"liberties\", \"vaccine\", \"words\", \"year\", \"etc\", \"try\", \"yesterday\", \"take\", \"shut\", \"cost\", \"trip\", \"please\", \"jobs\", \"cancer\", \"organization\", \"wasting\", \"list\", \"cvs\", \"dabba\", \"amen\", \"power\", \"virus\", \"place\", \"question\", \"people\", \"see\", \"contact\", \"election\", \"time\", \"change\", \"let\", \"weekend\", \"abbott\", \"businesses\", \"money\", \"mask\", \"need\", \"shit\", \"yes\", \"look\", \"shop\", \"agenda\", \"evil\", \"term\", \"owners\", \"truth\", \"store\", \"imagine\", \"accept\", \"taxes\", \"education\", \"space\", \"sign\", \"tactics\", \"comply\", \"drive\", \"shove\", \"die\", \"mute\", \"officer\", \"officers\", \"rise\", \"car\", \"chicago\", \"communist\", \"violence\", \"patriots\", \"business\", \"man\", \"masks\", \"nothing\", \"choice\", \"businesses\", \"john\", \"police\", \"person\", \"people\", \"face\", \"mask\", \"see\", \"hope\", \"change\", \"democrats\", \"way\", \"church\", \"refuse\", \"war\", \"others\", \"fuck\", \"nope\", \"soros\", \"juice\", \"arrest\", \"republicans\", \"opinion\", \"line\", \"assholes\", \"gallegos\", \"christopher\", \"jail\", \"ok\", \"feels\", \"dictators\", \"message\", \"play\", \"beetle\", \"citizen\", \"scott\", \"talks\", \"focus\", \"percent\", \"issues\", \"prisoners\", \"stick\", \"rights\", \"mayor\", \"waste\", \"bitch\", \"office\", \"times\", \"money\", \"state\", \"constitution\", \"call\", \"people\", \"propaganda\", \"mask\", \"time\", \"reason\", \"see\", \"thing\", \"democrats\", \"shit\", \"governors\", \"lot\", \"looks\", \"wow\", \"privacy\", \"beetlejuice\", \"churches\", \"decisions\", \"start\", \"piece\", \"age\", \"shows\", \"actions\", \"tyranny\", \"night\", \"fact\", \"difference\", \"judge\", \"oh\", \"deaths\", \"liberty\", \"individuals\", \"texan\", \"feet\", \"works\", \"security\", \"bull\", \"deserve\", \"houston\", \"balls\", \"gov\", \"thats\", \"states\", \"abbott\", \"county\", \"crap\", \"something\", \"anyone\", \"job\", \"watch\", \"lol\", \"shit\", \"news\", \"course\", \"money\", \"people\", \"b\", \"state\", \"government\", \"way\", \"see\", \"law\", \"stay\", \"michigan\", \"point\", \"yeah\", \"service\", \"im\", \"hitler\", \"fight\", \"eye\", \"period\", \"plan\", \"jesus\", \"version\", \"understand\", \"c\", \"class\", \"shame\", \"sorry\", \"suit\", \"libtards\", \"body\", \"wear\", \"lawsuits\", \"newsom\", \"streets\", \"enforcement\", \"eat\", \"nazi\", \"mess\", \"control\", \"media\", \"lives\", \"home\", \"government\", \"house\", \"folks\", \"country\", \"face\", \"cuomo\", \"people\", \"tell\", \"businesses\", \"everyone\", \"mask\", \"state\", \"money\", \"th\", \"court\", \"rate\", \"circuit\", \"anything\", \"care\", \"brainwashing\", \"bullshit\", \"head\", \"phrase\", \"cdc\", \"thanks\", \"liberals\", \"abnormal\", \"americans\", \"level\", \"youtu\", \"e\", \"rope\", \"officials\", \"fraud\", \"word\", \"facebook\", \"members\", \"living\", \"sounds\", \"trace\", \"hmmm\", \"barr\", \"george\", \"https\", \"com\", \"coronavirus\", \"everything\", \"support\", \"woman\", \"murder\", \"death\", \"attention\", \"article\", \"day\", \"rules\", \"numbers\", \"fear\", \"years\", \"media\", \"time\", \"news\", \"virus\", \"see\", \"hell\", \"freedom\", \"thank\", \"lie\", \"mind\", \"hate\", \"conditioning\", \"california\", \"yep\", \"ya\", \"families\", \"heard\", \"rest\", \"channel\", \"information\", \"operation\", \"tx\", \"channels\", \"pos\", \"beach\", \"listening\", \"kill\", \"lemmings\", \"break\", \"bye\", \"cares\", \"msm\", \"sheeple\", \"china\", \"neighbors\", \"america\", \"ass\", \"ads\", \"governor\", \"texas\", \"way\", \"guess\", \"god\", \"life\", \"someone\", \"get\", \"thing\", \"stop\", \"problem\", \"time\", \"riots\", \"places\", \"cops\", \"see\", \"bs\", \"n\", \"family\", \"f\", \"ties\", \"sheep\", \"voting\", \"agree\", \"damn\", \"politicians\", \"name\", \"pocket\", \"dictatorship\", \"brother\", \"idiot\", \"books\", \"feel\", \"trust\", \"king\", \"months\", \"grade\", \"denise\", \"group\", \"terms\", \"results\", \"raise\", \"june\", \"tracks\", \"tracers\", \"tasks\", \"needs\", \"world\", \"need\", \"unemployment\", \"right\", \"use\", \"order\", \"democrats\", \"think\", \"trump\", \"work\", \"home\", \"pay\", \"mask\", \"rights\", \"thing\", \"get\"], \"Total\": [110.0, 295.0, 75.0, 87.0, 52.0, 61.0, 59.0, 127.0, 42.0, 39.0, 37.0, 53.0, 48.0, 54.0, 32.0, 37.0, 74.0, 55.0, 58.0, 31.0, 35.0, 30.0, 43.0, 38.0, 32.0, 56.0, 40.0, 68.0, 84.0, 34.0, 52.72755813598633, 29.966629028320312, 18.190080642700195, 15.667095184326172, 14.736734390258789, 14.614655494689941, 13.509808540344238, 13.387099266052246, 11.95424747467041, 11.560141563415527, 11.340513229370117, 11.202787399291992, 10.999053955078125, 10.426283836364746, 10.194682121276855, 10.15340805053711, 10.016400337219238, 10.015296936035156, 9.853110313415527, 9.661331176757812, 9.402902603149414, 9.361838340759277, 9.28077507019043, 9.089813232421875, 9.048857688903809, 8.517231941223145, 8.517205238342285, 8.284710884094238, 7.985142230987549, 7.915904998779297, 39.05080795288086, 56.89192199707031, 20.159215927124023, 14.210698127746582, 295.5273742675781, 128.1962127685547, 21.65719223022461, 21.3217716217041, 84.79163360595703, 29.034507751464844, 19.640769958496094, 11.88708209991455, 54.727561950683594, 74.05457305908203, 127.66703796386719, 87.4338150024414, 38.820770263671875, 47.50481033325195, 22.631969451904297, 22.421850204467773, 20.832246780395508, 17.07654571533203, 16.551618576049805, 16.095294952392578, 15.085152626037598, 14.834945678710938, 14.534788131713867, 13.90505313873291, 13.904624938964844, 13.556751251220703, 13.241715431213379, 10.887906074523926, 10.399079322814941, 10.336917877197266, 10.178156852722168, 10.08399772644043, 9.767659187316895, 9.32718563079834, 9.106295585632324, 8.837920188903809, 8.837721824645996, 8.236376762390137, 8.19002628326416, 8.077592849731445, 7.889126300811768, 7.748162269592285, 7.621382236480713, 110.5530776977539, 34.51754379272461, 61.2468147277832, 48.48209762573242, 22.324445724487305, 74.05457305908203, 13.292534828186035, 34.04116439819336, 19.42621421813965, 295.5273742675781, 30.687294006347656, 87.4338150024414, 128.1962127685547, 26.551597595214844, 29.034507751464844, 49.997596740722656, 87.45675659179688, 42.17220687866211, 32.47654342651367, 20.698123931884766, 20.08598518371582, 15.189579963684082, 14.961494445800781, 13.11268424987793, 12.364808082580566, 10.460464477539062, 10.369775772094727, 10.018658638000488, 9.728812217712402, 9.638006210327148, 9.470242500305176, 9.470242500305176, 9.269251823425293, 9.224763870239258, 8.584624290466309, 7.943859577178955, 7.852681636810303, 7.300848007202148, 7.240482330322266, 6.753716468811035, 6.663000583648682, 6.662605285644531, 6.661649227142334, 6.617307186126709, 6.372078895568848, 6.1134843826293945, 6.067790508270264, 40.86532211303711, 19.644542694091797, 34.61090087890625, 28.318647384643555, 36.965965270996094, 34.22227478027344, 127.66703796386719, 68.60667419433594, 36.40229415893555, 14.577762603759766, 295.5273742675781, 22.389625549316406, 87.4338150024414, 84.79163360595703, 19.196653366088867, 128.1962127685547, 54.17273712158203, 49.997596740722656, 47.50481033325195, 37.193626403808594, 25.549253463745117, 20.789323806762695, 17.600889205932617, 17.30738639831543, 15.600005149841309, 14.718718528747559, 13.228032112121582, 11.820363998413086, 11.707087516784668, 10.99145793914795, 10.48398494720459, 10.3007173538208, 9.93593978881836, 9.667558670043945, 9.584007263183594, 9.499688148498535, 9.343901634216309, 9.343761444091797, 19.241147994995117, 8.754783630371094, 8.754430770874023, 8.206522941589355, 8.021692276000977, 7.347662448883057, 7.347683429718018, 7.305675506591797, 6.798962116241455, 6.715015411376953, 6.6982741355896, 27.621074676513672, 20.777801513671875, 28.310026168823242, 54.727561950683594, 13.13659381866455, 25.199417114257812, 28.396265029907227, 31.40264129638672, 35.20106887817383, 31.921783447265625, 25.104177474975586, 47.50481033325195, 44.13349151611328, 17.459367752075195, 127.66703796386719, 295.5273742675781, 20.375516891479492, 68.60667419433594, 58.87868881225586, 87.45675659179688, 128.1962127685547, 75.92003631591797, 23.7163143157959, 20.963607788085938, 17.228918075561523, 15.17247200012207, 14.751962661743164, 12.981304168701172, 11.810446739196777, 11.568904876708984, 10.174275398254395, 9.918517112731934, 9.678154945373535, 9.453468322753906, 9.332319259643555, 9.047807693481445, 9.047757148742676, 8.506001472473145, 8.506068229675293, 8.461106300354004, 8.416635513305664, 8.327277183532715, 8.13098430633545, 8.086160659790039, 7.831295013427734, 7.830794334411621, 7.786901473999023, 7.500747203826904, 7.500596523284912, 7.290987491607666, 7.246159553527832, 43.201263427734375, 59.17495346069336, 14.049884796142578, 55.52046203613281, 58.87868881225586, 19.360645294189453, 12.859302520751953, 39.91835403442383, 30.687294006347656, 10.598508834838867, 295.5273742675781, 19.0125675201416, 74.05457305908203, 28.89459991455078, 87.4338150024414, 68.60667419433594, 127.66703796386719, 39.372230529785156, 37.858585357666016, 28.235973358154297, 27.766937255859375, 26.735506057739258, 23.04804039001465, 20.08233070373535, 19.34718894958496, 18.095491409301758, 16.805438995361328, 15.585256576538086, 12.969240188598633, 12.838316917419434, 12.38339614868164, 12.290925025939941, 10.957196235656738, 10.589900970458984, 10.546013832092285, 9.766178131103516, 9.57461166381836, 8.86960506439209, 8.209968566894531, 7.8426194190979, 7.724035263061523, 7.6354899406433105, 7.549078464508057, 7.151927947998047, 7.019460201263428, 6.959475040435791, 6.8279619216918945, 27.92177963256836, 17.849634170532227, 11.14201545715332, 29.065937042236328, 12.407912254333496, 17.12407112121582, 14.21493911743164, 27.808040618896484, 33.221946716308594, 15.860366821289062, 38.07855224609375, 14.091236114501953, 25.8411922454834, 21.887685775756836, 21.08232879638672, 59.17495346069336, 84.79163360595703, 44.13349151611328, 56.89192199707031, 128.1962127685547, 31.134063720703125, 30.124561309814453, 21.450969696044922, 16.36627769470215, 15.268104553222656, 14.470269203186035, 10.632782936096191, 10.569220542907715, 9.708742141723633, 9.597047805786133, 9.347575187683105, 8.624786376953125, 8.101469039916992, 7.890124320983887, 7.889828681945801, 7.889406204223633, 7.853099822998047, 7.852860927581787, 7.727189540863037, 7.60087251663208, 7.3670454025268555, 7.091975688934326, 6.717795372009277, 6.717409610748291, 6.6045002937316895, 6.568840026855469, 6.045346736907959, 5.670813083648682, 5.633871078491211, 5.596499443054199, 23.32016372680664, 26.608415603637695, 20.849899291992188, 53.28289794921875, 33.746612548828125, 87.45675659179688, 24.2367000579834, 22.83928680419922, 40.99944305419922, 36.07377624511719, 33.849124908447266, 54.17273712158203, 26.37053108215332, 24.974931716918945, 84.79163360595703, 14.069962501525879, 15.617240905761719, 22.534421920776367, 128.1962127685547, 32.35249710083008, 14.220816612243652, 13.710908889770508, 13.567581176757812, 11.969621658325195, 11.796902656555176, 11.640604972839355, 9.91555404663086, 9.72973918914795, 19.3985652923584, 9.645310401916504, 9.362829208374023, 8.852663040161133, 8.810486793518066, 20.070117950439453, 8.258009910583496, 7.8025736808776855, 7.435448169708252, 7.351191997528076, 7.351140022277832, 6.286450386047363, 6.060883045196533, 5.849048137664795, 5.736034393310547, 5.693974494934082, 5.650805950164795, 5.550027847290039, 5.141448974609375, 5.141200065612793, 5.141223430633545, 35.96928405761719, 34.39570999145508, 38.820770263671875, 26.293262481689453, 17.831071853637695, 21.693359375, 29.437213897705078, 49.997596740722656, 26.075313568115234, 30.878070831298828, 40.40924835205078, 55.52046203613281, 12.84449577331543, 87.4338150024414, 40.86532211303711, 54.17273712158203, 33.849124908447266], \"loglift\": [30.0, 29.0, 28.0, 27.0, 26.0, 25.0, 24.0, 23.0, 22.0, 21.0, 20.0, 19.0, 18.0, 17.0, 16.0, 15.0, 14.0, 13.0, 12.0, 11.0, 10.0, 9.0, 8.0, 7.0, 6.0, 5.0, 4.0, 3.0, 2.0, 1.0, 1.930799961090088, 1.9198999404907227, 1.903499960899353, 1.8967000246047974, 1.8934999704360962, 1.8931000232696533, 1.888800024986267, 1.888200044631958, 1.8811999559402466, 1.878999948501587, 1.8776999711990356, 1.8767999410629272, 1.875499963760376, 1.871500015258789, 1.8697999715805054, 1.8695000410079956, 1.868399977684021, 1.868399977684021, 1.8671000003814697, 1.865399956703186, 1.8632999658584595, 1.8629000186920166, 1.8621000051498413, 1.8602999448776245, 1.8598999977111816, 1.8544000387191772, 1.8544000387191772, 1.851699948310852, 1.848099946975708, 1.8472000360488892, 1.7497999668121338, 1.503100037574768, 1.6799999475479126, 1.7441999912261963, 1.0104999542236328, 1.0733000040054321, 1.6061999797821045, 1.5782999992370605, 1.0017000436782837, 1.3942999839782715, 1.5426000356674194, 1.7640999555587769, 0.7943999767303467, 0.5889000296592712, 0.21799999475479126, 0.26899999380111694, 0.7759000062942505, 0.5687000155448914, 1.934499979019165, 1.9342000484466553, 1.9316999912261963, 1.923699975013733, 1.9222999811172485, 1.9210000038146973, 1.9178999662399292, 1.9170000553131104, 1.9160000085830688, 1.913599967956543, 1.913599967956543, 1.9121999740600586, 1.9108999967575073, 1.8983999490737915, 1.8949999809265137, 1.8945000171661377, 1.893399953842163, 1.892699956893921, 1.8901000022888184, 1.8863999843597412, 1.8844000101089478, 1.881700038909912, 1.881700038909912, 1.8752000331878662, 1.8746999502182007, 1.8733999729156494, 1.871000051498413, 1.8691999912261963, 1.8674999475479126, 1.867300033569336, 1.8602999448776245, 1.830899953842163, 1.8264000415802002, 1.8047000169754028, 1.3545000553131104, 1.7111999988555908, 1.365399956703186, 1.4882999658584595, -0.03420000150799751, 1.1476999521255493, 0.46000000834465027, 0.12460000067949295, 1.2069000005722046, 1.055299997329712, 0.5047000050544739, -0.0333000011742115, 2.003000020980835, 1.9977999925613403, 1.9846999645233154, 1.9836000204086304, 1.971500039100647, 1.9707000255584717, 1.9634000062942505, 1.9600000381469727, 1.9485000371932983, 1.9479000568389893, 1.945199966430664, 1.9428999423980713, 1.942199945449829, 1.9407000541687012, 1.9407000541687012, 1.9387999773025513, 1.9385000467300415, 1.9321000576019287, 1.9247000217437744, 1.9234999418258667, 1.9155000448226929, 1.9148999452590942, 1.9068000316619873, 1.9052000045776367, 1.9050999879837036, 1.9049999713897705, 1.9042999744415283, 1.8996000289916992, 1.8941999673843384, 1.8931000232696533, 1.745300054550171, 1.8015999794006348, 1.7314000129699707, 1.7279000282287598, 1.6855000257492065, 1.6382999420166016, 1.2940000295639038, 1.3859000205993652, 1.5273000001907349, 1.7304999828338623, 0.7400000095367432, 1.552899956703186, 0.8616999983787537, 0.5058000087738037, 1.4463000297546387, -0.19689999520778656, 0.415800005197525, 0.48339998722076416, 0.519599974155426, 2.005500078201294, 1.9962999820709229, 1.9895000457763672, 1.9829000234603882, 1.982100009918213, 1.9773000478744507, 1.9743000268936157, 1.968400001525879, 1.961300015449524, 1.9607000350952148, 1.9564000368118286, 1.9528000354766846, 1.9515999555587769, 1.948699951171875, 1.9464999437332153, 1.9457999467849731, 1.9450000524520874, 1.943600058555603, 1.94350004196167, 1.9433000087738037, 1.9378999471664429, 1.9378999471664429, 1.9318000078201294, 1.9294999837875366, 1.920300006866455, 1.920199990272522, 1.919600009918213, 1.9112999439239502, 1.9097000360488892, 1.9093999862670898, 1.8918999433517456, 1.875100016593933, 1.854699969291687, 1.6277999877929688, 1.8173999786376953, 1.6856000423431396, 1.6090999841690063, 1.56850004196167, 1.5362000465393066, 1.5367000102996826, 1.5947999954223633, 1.3588999509811401, 1.319700002670288, 1.5925999879837036, 0.39809998869895935, -0.2606000006198883, 1.4757000207901, 0.5532000064849854, 0.5493000149726868, 0.1882999986410141, -0.36890000104904175, 2.0580999851226807, 2.0541999340057373, 2.050100088119507, 2.04229998588562, 2.03629994392395, 2.0348000526428223, 2.0276999473571777, 2.0218000411987305, 2.0204999446868896, 2.0113000869750977, 2.009200096130371, 2.0072999000549316, 2.0053000450134277, 2.004199981689453, 2.0016000270843506, 2.0016000270843506, 1.996000051498413, 1.996000051498413, 1.9954999685287476, 1.9950000047683716, 1.99399995803833, 1.9917000532150269, 1.9911999702453613, 1.9880000352859497, 1.9879000186920166, 1.9874000549316406, 1.9833999872207642, 1.9833999872207642, 1.9803999662399292, 1.979699969291687, 1.8242000341415405, 1.6857999563217163, 1.8767999410629272, 1.6395000219345093, 1.6277999877929688, 1.7927000522613525, 1.8459999561309814, 1.434999942779541, 1.4678000211715698, 1.8535000085830688, -0.30799999833106995, 1.450700044631958, 0.44190001487731934, 1.1171000003814697, 0.1761000007390976, 0.36309999227523804, -0.44130000472068787, 2.0757999420166016, 2.0750999450683594, 2.0683999061584473, 2.0678999423980713, 2.0669000148773193, 2.0624001026153564, 2.0576000213623047, 2.0560998916625977, 2.0534000396728516, 2.0501999855041504, 2.046600103378296, 2.0367000102996826, 2.036099910736084, 2.033900022506714, 2.0332999229431152, 2.025700092315674, 2.023200035095215, 2.022900104522705, 2.016900062561035, 2.0153000354766846, 2.008699893951416, 2.001499891281128, 1.996999979019165, 1.995300054550171, 1.99399995803833, 1.992900013923645, 1.9869999885559082, 1.9847999811172485, 1.9838999509811401, 1.981600046157837, 1.9733999967575073, 1.9453999996185303, 1.9170000553131104, 1.7518999576568604, 1.895900011062622, 1.826300024986267, 1.857300043106079, 1.7009999752044678, 1.6552000045776367, 1.8203999996185303, 1.4738999605178833, 1.832900047302246, 1.498900055885315, 1.5872999429702759, 1.5963000059127808, 0.9516000151634216, 0.6693000197410583, 0.9660000205039978, 0.6319000124931335, -0.15719999372959137, 2.2263998985290527, 2.225600004196167, 2.2151999473571777, 2.2039999961853027, 2.2005999088287354, 2.197700023651123, 2.177999973297119, 2.177500009536743, 2.1707000732421875, 2.1696999073028564, 2.1673998832702637, 2.1602001190185547, 2.154099941253662, 2.151400089263916, 2.1512999534606934, 2.1512999534606934, 2.150899887084961, 2.150899887084961, 2.149199962615967, 2.14739990234375, 2.1440000534057617, 2.1396000385284424, 2.132999897003174, 2.132999897003174, 2.13070011138916, 2.130199909210205, 2.11899995803833, 2.1096999645233154, 2.1087000370025635, 2.1077001094818115, 2.106300115585327, 2.0566000938415527, 2.011699914932251, 1.9357999563217163, 1.9062000513076782, 1.7462999820709229, 1.9259999990463257, 1.9342000484466553, 1.7386000156402588, 1.6103999614715576, 1.4079999923706055, 1.1399999856948853, 1.5038000345230103, 1.4586000442504883, 0.32089999318122864, 1.6789000034332275, 1.545699954032898, 1.2080999612808228, -0.4627000093460083, 2.2813000679016113, 2.251300096511841, 2.249300003051758, 2.248699903488159, 2.2411000728607178, 2.2400999069213867, 2.2392001152038574, 2.2274999618530273, 2.2258999347686768, 2.225399971008301, 2.2251999378204346, 2.2227001190185547, 2.2177999019622803, 2.217400074005127, 2.2126998901367188, 2.2112998962402344, 2.2056000232696533, 2.200500011444092, 2.199199914932251, 2.199199914932251, 2.180000066757202, 2.1754000186920166, 2.170300006866455, 2.16759991645813, 2.1665000915527344, 2.165299892425537, 2.162600040435791, 2.1505000591278076, 2.1505000591278076, 2.150399923324585, 2.107800006866455, 1.9804999828338623, 1.9082000255584717, 1.9465999603271484, 1.9844000339508057, 1.8873000144958496, 1.8050999641418457, 1.4462000131607056, 1.5713000297546387, 1.4746999740600586, 1.1871000528335571, 0.9017000198364258, 1.78410005569458, 0.2304999977350235, 0.8134999871253967, 0.4862000048160553, 0.8944000005722046], \"logprob\": [30.0, 29.0, 28.0, 27.0, 26.0, 25.0, 24.0, 23.0, 22.0, 21.0, 20.0, 19.0, 18.0, 17.0, 16.0, 15.0, 14.0, 13.0, 12.0, 11.0, 10.0, 9.0, 8.0, 7.0, 6.0, 5.0, 4.0, 3.0, 2.0, 1.0, -3.802299976348877, -4.378200054168701, -4.893799781799316, -5.049900054931641, -5.114299774169922, -5.1230998039245605, -5.205999851226807, -5.215700149536133, -5.335899829864502, -5.371600151062012, -5.392099857330322, -5.405200004577637, -5.424900054931641, -5.4822998046875, -5.506499767303467, -5.510900020599365, -5.5254998207092285, -5.525700092315674, -5.543300151824951, -5.564599990844727, -5.593900203704834, -5.598700046539307, -5.608099937438965, -5.63070011138916, -5.6356000900268555, -5.701700210571289, -5.701700210571289, -5.732100009918213, -5.772500038146973, -5.782100200653076, -4.2835001945495605, -4.153900146484375, -5.014500141143799, -5.299900054931641, -2.9988999366760254, -3.7713000774383545, -5.01669979095459, -5.060200214385986, -4.25629997253418, -4.935400009155273, -5.1778998374938965, -5.458700180053711, -4.901400089263916, -4.804500102996826, -4.630799770355225, -4.9583001136779785, -5.263400077819824, -5.268599987030029, -4.6442999839782715, -4.6539998054504395, -4.730000019073486, -4.936800003051758, -4.969399929046631, -4.998600006103516, -5.0665998458862305, -5.084199905395508, -5.105599880218506, -5.152299880981445, -5.152299880981445, -5.179100036621094, -5.20389986038208, -5.412199974060059, -5.461400032043457, -5.467899799346924, -5.484499931335449, -5.49459981918335, -5.5289998054504395, -5.578800201416016, -5.604800224304199, -5.637400150299072, -5.637400150299072, -5.714399814605713, -5.720600128173828, -5.7357001304626465, -5.76170015335083, -5.781499862670898, -5.799799919128418, -3.1254000663757324, -4.296500205993652, -3.7523000240325928, -3.990600109100342, -4.787799835205078, -4.038899898529053, -5.399799823760986, -4.805200099945068, -5.243299961090088, -4.043700218200684, -5.1265997886657715, -4.767300128936768, -4.71999979019165, -5.212200164794922, -5.274400234222412, -5.281499862670898, -5.26039981842041, -3.953399896621704, -4.219900131225586, -4.6834001541137695, -4.714600086212158, -5.006100177764893, -5.021999835968018, -5.161200046539307, -5.223400115966797, -5.4019999504089355, -5.411399841308594, -5.448599815368652, -5.480199813842773, -5.490300178527832, -5.509300231933594, -5.509300231933594, -5.532700061798096, -5.537799835205078, -5.616099834442139, -5.701099872589111, -5.713799953460693, -5.794600009918213, -5.803599834442139, -5.88129997253418, -5.896399974822998, -5.896500110626221, -5.8968000411987305, -5.904200077056885, -5.946700096130371, -5.993500232696533, -6.001999855041504, -4.242599964141846, -4.918799877166748, -4.422599792480469, -4.626699924468994, -4.402699947357178, -4.5269999504089355, -3.5546998977661133, -4.083899974822998, -4.576300144195557, -5.2881999015808105, -3.269399881362915, -5.0366997718811035, -4.365600109100342, -4.752200126647949, -5.297100067138672, -5.041500091552734, -5.290200233459473, -5.302800178527832, -5.317800045013428, -4.076499938964844, -4.461299896240234, -4.674200057983398, -4.847400188446045, -4.8649001121521, -4.973599910736084, -5.0346999168396, -5.147500038146973, -5.267000198364258, -5.277299880981445, -5.344699859619141, -5.395500183105469, -5.414400100708008, -5.4532999992370605, -5.482900142669678, -5.492300033569336, -5.5019001960754395, -5.519899845123291, -5.519899845123291, -4.797900199890137, -5.590700149536133, -5.590700149536133, -5.661399841308594, -5.686500072479248, -5.7835001945495605, -5.783599853515625, -5.789899826049805, -5.870100021362305, -5.884099960327148, -5.88700008392334, -4.48769998550415, -4.7891998291015625, -4.50029993057251, -4.067999839782715, -5.3053998947143555, -4.785799980163574, -4.742800235748291, -4.682700157165527, -4.600900173187256, -4.698200225830078, -4.88040018081665, -4.478499889373779, -4.59119987487793, -5.245699882507324, -4.4506001472473145, -4.269999980926514, -5.208199977874756, -4.916600227355957, -5.073400020599365, -5.038700103759766, -5.213500022888184, -3.3104000091552734, -4.477799892425537, -4.605299949645996, -4.809299945831299, -4.942399978637695, -4.9720001220703125, -5.10699987411499, -5.207399845123291, -5.229400157928467, -5.367099761962891, -5.394599914550781, -5.421000003814697, -5.446499824523926, -5.4604997634887695, -5.49399995803833, -5.49399995803833, -5.561399936676025, -5.561399936676025, -5.567200183868408, -5.572999954223633, -5.58459997177124, -5.610799789428711, -5.6168999671936035, -5.652100086212158, -5.652200222015381, -5.658400058746338, -5.699699878692627, -5.69980001449585, -5.731200218200684, -5.73799991607666, -4.1082000732421875, -3.9319000244140625, -5.178800106048584, -4.041900157928467, -3.9948999881744385, -4.942200183868408, -5.2982001304626465, -4.576300144195557, -4.806600093841553, -5.48390007019043, -4.317399978637695, -5.3024001121521, -4.951499938964844, -5.217400074005127, -5.051199913024902, -5.1066999435424805, -5.29010009765625, -3.9493000507354736, -3.9892001152038574, -4.2891998291015625, -4.306399822235107, -4.345300197601318, -4.498199939727783, -4.6407999992370605, -4.679500102996826, -4.749100208282471, -4.826300144195557, -4.905200004577637, -5.098899841308594, -5.1097002029418945, -5.1479997634887695, -5.156000137329102, -5.278500080108643, -5.315100193023682, -5.319499969482422, -5.402400016784668, -5.423799991607666, -5.506899833679199, -5.591300010681152, -5.64169979095459, -5.6585001945495605, -5.671299934387207, -5.683800220489502, -5.743800163269043, -5.764699935913086, -5.774199962615967, -5.795499801635742, -4.395400047302246, -4.870800018310547, -5.3703999519348145, -4.576700210571289, -5.283899784088135, -5.031300067901611, -5.186600208282471, -4.671899795532227, -4.53980016708374, -5.113900184631348, -4.584700107574463, -5.219699859619141, -4.947299957275391, -5.024899959564209, -5.053400039672852, -4.665999889373779, -4.588699817657471, -4.945000171661377, -5.025100231170654, -5.001800060272217, -4.0335001945495605, -4.067299842834473, -4.417200088500977, -4.698999881744385, -4.771900177001953, -4.828400135040283, -5.156300067901611, -5.162799835205078, -5.25439977645874, -5.267000198364258, -5.295599937438965, -5.383299827575684, -5.452000141143799, -5.481200218200684, -5.481299877166748, -5.481400012969971, -5.486400127410889, -5.486400127410889, -5.504199981689453, -5.522500038146973, -5.557199954986572, -5.599699974060059, -5.660399913787842, -5.6605000495910645, -5.679699897766113, -5.685699939727783, -5.779900074005127, -5.853099822998047, -5.8607001304626465, -5.8684000968933105, -4.442500114440918, -4.360400199890137, -4.649099826812744, -3.786799907684326, -4.273099899291992, -3.4807000160217285, -4.584400177001953, -4.635499954223633, -4.245999813079834, -4.502200126647949, -4.7683000564575195, -4.565999984741211, -4.922100067138672, -5.021699905395508, -4.937099933624268, -5.37529993057251, -5.404099941253662, -5.375100135803223, -5.307300090789795, -3.940200090408325, -4.792200088500977, -4.830699920654297, -4.841800212860107, -4.974699974060059, -4.990200042724609, -5.004499912261963, -5.176599979400635, -5.1971001625061035, -4.507599830627441, -5.206500053405762, -5.238699913024902, -5.299600124359131, -5.304800033569336, -4.486299991607666, -5.375699996948242, -5.4380998611450195, -5.491499900817871, -5.5040998458862305, -5.5040998458862305, -5.679699897766113, -5.7210001945495605, -5.761600017547607, -5.78380012512207, -5.792300224304199, -5.80109977722168, -5.821800231933594, -5.910399913787842, -5.910399913787842, -5.910399913787842, -4.007800102233887, -4.179699897766113, -4.13100004196167, -4.4822001457214355, -4.832799911499023, -4.73390007019043, -4.510799884796143, -4.340000152587891, -4.865799903869629, -4.793399810791016, -4.811999797821045, -4.779699802398682, -5.361199855804443, -4.996799945831299, -5.1743998527526855, -5.219799995422363, -5.281899929046631]}, \"token.table\": {\"Topic\": [1, 4, 6, 2, 4, 4, 7, 4, 2, 8, 1, 3, 7, 6, 2, 3, 4, 6, 3, 3, 6, 3, 7, 3, 4, 5, 6, 2, 3, 4, 4, 6, 7, 3, 4, 1, 3, 5, 8, 6, 7, 8, 8, 4, 6, 1, 2, 1, 2, 5, 7, 5, 7, 3, 5, 1, 2, 6, 7, 6, 1, 2, 7, 7, 2, 7, 2, 6, 3, 3, 4, 6, 3, 5, 2, 6, 2, 2, 7, 3, 4, 6, 1, 4, 2, 5, 3, 4, 5, 6, 7, 5, 6, 1, 1, 3, 5, 7, 3, 4, 3, 4, 6, 3, 4, 4, 5, 1, 1, 8, 1, 3, 6, 3, 6, 4, 5, 4, 1, 2, 3, 4, 8, 8, 4, 3, 8, 2, 4, 2, 6, 5, 2, 1, 4, 5, 1, 1, 2, 3, 5, 1, 6, 2, 5, 8, 2, 5, 6, 4, 7, 8, 1, 4, 6, 8, 3, 4, 5, 1, 3, 4, 5, 6, 7, 3, 3, 6, 2, 5, 7, 8, 7, 8, 4, 8, 3, 4, 5, 4, 5, 7, 8, 4, 8, 8, 2, 7, 7, 6, 7, 7, 5, 6, 2, 5, 8, 1, 2, 3, 1, 5, 4, 6, 8, 5, 8, 5, 2, 4, 7, 3, 3, 5, 3, 4, 8, 1, 2, 4, 4, 3, 8, 7, 8, 5, 8, 5, 7, 1, 4, 5, 6, 6, 1, 4, 5, 7, 1, 3, 7, 3, 1, 7, 2, 5, 6, 3, 4, 7, 2, 4, 4, 1, 2, 6, 1, 2, 3, 5, 8, 1, 2, 3, 8, 5, 6, 6, 5, 3, 5, 7, 1, 1, 3, 4, 5, 7, 8, 1, 7, 2, 6, 2, 8, 8, 5, 1, 8, 3, 8, 7, 4, 5, 6, 5, 4, 3, 2, 3, 4, 6, 3, 5, 8, 2, 2, 6, 4, 3, 7, 3, 2, 3, 8, 1, 3, 2, 2, 1, 4, 5, 8, 1, 2, 3, 4, 5, 3, 5, 2, 5, 8, 6, 4, 1, 5, 1, 2, 7, 5, 3, 1, 8, 5, 2, 3, 4, 5, 3, 8, 7, 1, 4, 5, 3, 4, 1, 3, 4, 7, 1, 3, 1, 1, 2, 8, 6, 1, 2, 3, 3, 3, 7, 8, 7, 8, 3, 8, 2, 3, 5, 7, 2, 6, 4, 6, 3, 4, 1, 2, 3, 4, 5, 6, 7, 5, 5, 8, 7, 1, 3, 4, 2, 2, 1, 4, 1, 2, 2, 6, 7, 2, 3, 4, 3, 5, 6, 2, 4, 3, 4, 5, 7, 3, 4, 5, 3, 1, 2, 7, 8, 2, 5, 5, 3, 6, 2, 1, 3, 8, 2, 1, 3, 4, 5, 2, 8, 4, 3, 7, 6, 7, 6, 4, 5, 2, 3, 4, 7, 8, 1, 2, 8, 8, 1, 3, 6, 7, 3, 6, 6, 8, 8, 1, 1, 4, 6, 8, 8, 2, 1, 1, 7, 4, 5, 3, 8, 4, 8, 1, 5, 2, 1, 2, 6, 1, 8, 1, 3, 3, 4, 1, 2, 4, 6, 2, 4, 6, 7, 5, 1, 5, 1, 5, 6, 6, 1, 1, 3, 4, 7, 8, 4, 1, 8, 4, 7, 1, 5, 1, 1, 6, 7, 8, 7, 2, 1, 6], \"Freq\": [0.31062957644462585, 0.6760761737823486, 0.9690394997596741, 0.9349406957626343, 0.9708061814308167, 0.19184744358062744, 0.7673897743225098, 0.9097974300384521, 0.9369576573371887, 0.9076648354530334, 0.8842955827713013, 0.08576269447803497, 0.8576269149780273, 0.9763301014900208, 0.15922227501869202, 0.19106672704219818, 0.6368891000747681, 0.9724895358085632, 0.9559804797172546, 0.18915073573589325, 0.756602942943573, 0.1503283828496933, 0.8268060684204102, 0.9338030815124512, 0.21070408821105957, 0.12040233612060547, 0.6321122646331787, 0.14723552763462067, 0.2453925460577011, 0.5889421105384827, 0.8957531452178955, 0.8621339797973633, 0.9209468960762024, 0.9667864441871643, 0.9615381360054016, 0.24718694388866425, 0.7415608167648315, 0.8609043955802917, 0.968756377696991, 0.9461053013801575, 0.893201470375061, 0.908008873462677, 0.9891045093536377, 0.9581591486930847, 0.9820548295974731, 0.09045428782701492, 0.904542863368988, 0.2565675377845764, 0.5401421785354614, 0.18904976546764374, 0.9084714651107788, 0.8841970562934875, 0.9461435675621033, 0.7545739412307739, 0.20579290390014648, 0.8801060914993286, 0.854698121547699, 0.9545280337333679, 0.9134032726287842, 0.9624480605125427, 0.5855101943016052, 0.4133013188838959, 0.8871849775314331, 0.891394853591919, 0.8665947914123535, 0.8874892592430115, 0.8510849475860596, 0.13438183069229126, 0.9503452777862549, 0.9722042679786682, 0.9511697888374329, 0.9723795056343079, 0.8883997201919556, 0.9405124187469482, 0.11204711347818375, 0.8403533697128296, 0.8872972130775452, 0.8842465281486511, 0.9404875636100769, 0.6043575406074524, 0.13735398650169373, 0.2472371608018875, 0.6926105618476868, 0.27704423666000366, 0.20832723379135132, 0.7638665437698364, 0.13312965631484985, 0.22188277542591095, 0.0887531116604805, 0.22188277542591095, 0.355012446641922, 0.08975037187337875, 0.807753324508667, 0.9315486550331116, 0.1503068059682846, 0.17535793781280518, 0.5260738134384155, 0.1503068059682846, 0.15224646031856537, 0.8373555541038513, 0.3436550498008728, 0.6300342679023743, 0.9773212671279907, 0.27778419852256775, 0.7143022418022156, 0.18870578706264496, 0.7548231482505798, 0.9656341671943665, 0.8766281008720398, 0.9249991178512573, 0.26261502504348755, 0.18383051455020905, 0.5252300500869751, 0.2876865863800049, 0.6832556128501892, 0.935495138168335, 0.05197194963693619, 0.9071643948554993, 0.0600028857588768, 0.2400115430355072, 0.22001057863235474, 0.0600028857588768, 0.420020192861557, 0.824962317943573, 0.8824876546859741, 0.8811837434768677, 0.9036828875541687, 0.9649212956428528, 0.9473994970321655, 0.8925032019615173, 0.9482255578041077, 0.933259129524231, 0.9817458987236023, 0.7035062909126282, 0.28140249848365784, 0.9332403540611267, 0.8828132152557373, 0.2076512575149536, 0.2076512575149536, 0.2076512575149536, 0.3806939721107483, 0.2752362787723541, 0.7224951982498169, 0.9666728377342224, 0.8845838904380798, 0.9581663608551025, 0.45621487498283386, 0.5539752244949341, 0.8925589323043823, 0.9390643835067749, 0.9628165364265442, 0.948150098323822, 0.09137558192014694, 0.27412673830986023, 0.5939412713050842, 0.8971399068832397, 0.9318986535072327, 0.8726338148117065, 0.9508246779441833, 0.9345753192901611, 0.9006778597831726, 0.1555294245481491, 0.7776471376419067, 0.9019567370414734, 0.9626696109771729, 0.9216844439506531, 0.9503452777862549, 0.8787395358085632, 0.2363428920507431, 0.08862858265638351, 0.44314292073249817, 0.2363428920507431, 0.7443314790725708, 0.2627052366733551, 0.8689017295837402, 0.10861271619796753, 0.13587258756160736, 0.2207929641008377, 0.6284107565879822, 0.0563032440841198, 0.09383873641490936, 0.7319421768188477, 0.1126064881682396, 0.9679077863693237, 0.9544336795806885, 0.8548399209976196, 0.24755845963954926, 0.7426753640174866, 0.9675009846687317, 0.9394605159759521, 0.9275591969490051, 0.9635748267173767, 0.9313788414001465, 0.8547666072845459, 0.10806826502084732, 0.6484096050262451, 0.2521592974662781, 0.3766251802444458, 0.45195019245147705, 0.15065006911754608, 0.20660468935966492, 0.723116397857666, 0.893519937992096, 0.8953583836555481, 0.10744300484657288, 0.04982531815767288, 0.8968557119369507, 0.9244063496589661, 0.9349119067192078, 0.9138229489326477, 0.8872182369232178, 0.9416079521179199, 0.9709521532058716, 0.9520315527915955, 0.19885759055614471, 0.6249810457229614, 0.1704493761062622, 0.9697465896606445, 0.7523019313812256, 0.1504603922367096, 0.9631950855255127, 0.9704962372779846, 0.9008963704109192, 0.846026599407196, 0.9522265195846558, 0.9747097492218018, 0.013171753846108913, 0.8938496112823486, 0.8931501507759094, 0.6618885397911072, 0.20365799963474274, 0.10182899981737137, 0.912642240524292, 0.9347019791603088, 0.9699737429618835, 0.9137861728668213, 0.9606981873512268, 0.9776199460029602, 0.24390575289726257, 0.14634345471858978, 0.6097643971443176, 0.9250872135162354, 0.9392752647399902, 0.9501773715019226, 0.14234992861747742, 0.7829245924949646, 0.9167715311050415, 0.11950202286243439, 0.6373441219329834, 0.1991700381040573, 0.9811857342720032, 0.9620322585105896, 0.9785021543502808, 0.9201750159263611, 0.8980940580368042, 0.08691232651472092, 0.18299555778503418, 0.2173072248697281, 0.30880501866340637, 0.14868389070034027, 0.125809445977211, 0.11429166048765182, 0.865351140499115, 0.8144755363464355, 0.15271416306495667, 0.6759616732597351, 0.3210817873477936, 0.9062620401382446, 0.9660289883613586, 0.8914152383804321, 0.9540342688560486, 0.9824402332305908, 0.9574206471443176, 0.18015612661838531, 0.48563826084136963, 0.1958218812942505, 0.07832875102758408, 0.0626630038022995, 0.9522332549095154, 0.9500069618225098, 0.8270823955535889, 0.14069704711437225, 0.7738337516784668, 0.8785130977630615, 0.9141528606414795, 0.9330959320068359, 0.9600894451141357, 0.30911287665367126, 0.6697445511817932, 0.16680899262428284, 0.8340449333190918, 0.893415629863739, 0.498487651348114, 0.18126823008060455, 0.31721940636634827, 0.8939067721366882, 0.9309485554695129, 0.9357354044914246, 0.8662991523742676, 0.1237570196390152, 0.42567694187164307, 0.5417706966400146, 0.7033497095108032, 0.18936337530612946, 0.08115573227405548, 0.9051903486251831, 0.9052106738090515, 0.9399859309196472, 0.9632095098495483, 0.8672308921813965, 0.8872657418251038, 0.8983238339424133, 0.1358824223279953, 0.23779425024986267, 0.6114709377288818, 0.884089469909668, 0.9459331631660461, 0.9280648827552795, 0.9184685349464417, 0.15570871531963348, 0.07785435765981674, 0.07785435765981674, 0.6228348612785339, 0.39251863956451416, 0.1353512555360794, 0.27747005224227905, 0.10151343792676926, 0.09136209636926651, 0.9067132472991943, 0.9073936939239502, 0.6177220344543457, 0.25738418102264404, 0.10295366495847702, 0.9520727396011353, 0.9396017789840698, 0.7440765500068665, 0.1984204202890396, 0.25612717866897583, 0.19209538400173187, 0.5122543573379517, 0.9299293160438538, 0.9587927460670471, 0.9613496661186218, 0.9612479209899902, 0.986713171005249, 0.5581477880477905, 0.0587523952126503, 0.1762571930885315, 0.1762571930885315, 0.051550205796957016, 0.9279036521911621, 0.9058921337127686, 0.8194452524185181, 0.12803831696510315, 0.02560766413807869, 0.817864179611206, 0.9822396039962769, 0.20020075142383575, 0.2402409017086029, 0.0800803005695343, 0.44044163823127747, 0.3573083281517029, 0.6252896189689636, 0.962263822555542, 0.8444342613220215, 0.14073903858661652, 0.8848295211791992, 0.9916428327560425, 0.15627723932266235, 0.26046207547187805, 0.5730165243148804, 0.9853265285491943, 0.9643409848213196, 0.8640408515930176, 0.8781212568283081, 0.22432751953601837, 0.729064404964447, 0.7585893869400024, 0.22023563086986542, 0.14214679598808289, 0.14214679598808289, 0.14214679598808289, 0.5685871839523315, 0.9713008999824524, 0.9215478301048279, 0.21289828419685364, 0.7806270718574524, 0.900495171546936, 0.9526812434196472, 0.4212293028831482, 0.15601085126399994, 0.10920759290456772, 0.09360650926828384, 0.05460379645228386, 0.10140705108642578, 0.07020488381385803, 0.9490262866020203, 0.9405050277709961, 0.932448148727417, 0.8817077875137329, 0.25260600447654724, 0.2315554916858673, 0.5052120089530945, 0.9600500464439392, 0.9214080572128296, 0.9710841774940491, 0.9538357853889465, 0.9134171605110168, 0.9616236090660095, 0.1940467804670334, 0.2494887113571167, 0.5266984105110168, 0.07043179869651794, 0.2817271947860718, 0.6691020727157593, 0.9151444435119629, 0.9455028176307678, 0.9272655248641968, 0.9184502363204956, 0.9305974245071411, 0.5247302651405334, 0.23321345448493958, 0.17491009831428528, 0.058303363621234894, 0.14129270613193512, 0.8477562069892883, 0.9697965383529663, 0.8240231871604919, 0.18960557878017426, 0.2275267094373703, 0.4550534188747406, 0.0758422315120697, 0.9632063508033752, 0.8989455103874207, 0.9504985809326172, 0.16118746995925903, 0.8059373497962952, 0.9674063324928284, 0.898625373840332, 0.9005486369132996, 0.7780249118804932, 0.9589318037033081, 0.26298394799232483, 0.052596788853406906, 0.10519357770681381, 0.5259678959846497, 0.9319493770599365, 0.871682345867157, 0.8529800176620483, 0.26669344305992126, 0.7111824750900269, 0.9905458688735962, 0.9789767265319824, 0.9252662062644958, 0.8663091659545898, 0.09625657647848129, 0.1476757526397705, 0.20305415987968445, 0.1476757526397705, 0.33227044343948364, 0.16613522171974182, 0.2684531509876251, 0.23010270297527313, 0.49855583906173706, 0.9189931154251099, 0.38918933272361755, 0.2240787148475647, 0.2358723282814026, 0.14152339100837708, 0.6720768809318542, 0.2922073304653168, 0.838934600353241, 0.7780284881591797, 0.7779908180236816, 0.9571512341499329, 0.1943126618862152, 0.1943126618862152, 0.1619272083044052, 0.4210107624530792, 0.9414361715316772, 0.9437176585197449, 0.886401891708374, 0.9677431583404541, 0.8913677334785461, 0.9058026075363159, 0.8841921091079712, 0.2662279009819031, 0.6845860481262207, 0.32267940044403076, 0.6453588008880615, 0.8926349878311157, 0.9643905162811279, 0.9034400582313538, 0.6503559350967407, 0.12304031848907471, 0.22850343585014343, 0.9862015843391418, 0.944968044757843, 0.957942545413971, 0.966271162033081, 0.7512084245681763, 0.23114104568958282, 0.9392722845077515, 0.28193914890289307, 0.6265314221382141, 0.06265313923358917, 0.1372106671333313, 0.16007910668849945, 0.0914737805724144, 0.6060137748718262, 0.8656765818595886, 0.8412493467330933, 0.08412493765354156, 0.116794653236866, 0.116794653236866, 0.7591652870178223, 0.8526220321655273, 0.90916907787323, 0.1484808623790741, 0.19797448813915253, 0.22272129356861115, 0.09898724406957626, 0.3217085301876068, 0.9526839256286621, 0.26166054606437683, 0.7268348336219788, 0.9658603072166443, 0.9377883672714233, 0.9515454173088074, 0.9227237105369568, 0.9591144919395447, 0.1897323578596115, 0.6166301965713501, 0.09486617892980576, 0.09486617892980576, 0.926999568939209, 0.9720762372016907, 0.8985263705253601, 0.9442958831787109], \"Term\": [\"abbott\", \"abbott\", \"abnormal\", \"accept\", \"actions\", \"ads\", \"ads\", \"age\", \"agenda\", \"agree\", \"amen\", \"america\", \"america\", \"americans\", \"anyone\", \"anyone\", \"anyone\", \"anything\", \"arrest\", \"article\", \"article\", \"ass\", \"ass\", \"assholes\", \"attention\", \"attention\", \"attention\", \"b\", \"b\", \"b\", \"balls\", \"barr\", \"beach\", \"beetle\", \"beetlejuice\", \"bitch\", \"bitch\", \"body\", \"books\", \"brainwashing\", \"break\", \"brother\", \"bs\", \"bull\", \"bullshit\", \"business\", \"business\", \"businesses\", \"businesses\", \"businesses\", \"bye\", \"c\", \"california\", \"call\", \"call\", \"cancer\", \"car\", \"care\", \"cares\", \"cdc\", \"change\", \"change\", \"channel\", \"channels\", \"chicago\", \"china\", \"choice\", \"choice\", \"christopher\", \"church\", \"churches\", \"circuit\", \"citizen\", \"class\", \"com\", \"com\", \"communist\", \"comply\", \"conditioning\", \"constitution\", \"constitution\", \"constitution\", \"contact\", \"contact\", \"control\", \"control\", \"cops\", \"cops\", \"cops\", \"cops\", \"cops\", \"coronavirus\", \"coronavirus\", \"cost\", \"country\", \"country\", \"country\", \"country\", \"county\", \"county\", \"course\", \"course\", \"court\", \"crap\", \"crap\", \"cuomo\", \"cuomo\", \"cvs\", \"dabba\", \"damn\", \"day\", \"day\", \"day\", \"death\", \"death\", \"deaths\", \"deaths\", \"decisions\", \"democrats\", \"democrats\", \"democrats\", \"democrats\", \"democrats\", \"denise\", \"deserve\", \"dictators\", \"dictatorship\", \"die\", \"difference\", \"drive\", \"e\", \"eat\", \"education\", \"election\", \"election\", \"enforcement\", \"etc\", \"everyone\", \"everyone\", \"everyone\", \"everyone\", \"everything\", \"everything\", \"evil\", \"eye\", \"f\", \"face\", \"face\", \"facebook\", \"fact\", \"families\", \"family\", \"fear\", \"fear\", \"fear\", \"feel\", \"feels\", \"feet\", \"fight\", \"flu\", \"focus\", \"folks\", \"folks\", \"fraud\", \"freedom\", \"fuck\", \"gallegos\", \"george\", \"get\", \"get\", \"get\", \"get\", \"god\", \"god\", \"gov\", \"gov\", \"government\", \"government\", \"government\", \"governor\", \"governor\", \"governor\", \"governor\", \"governors\", \"grade\", \"group\", \"guess\", \"guess\", \"hate\", \"head\", \"heard\", \"hell\", \"hitler\", \"hmmm\", \"home\", \"home\", \"home\", \"hope\", \"hope\", \"hope\", \"house\", \"house\", \"houston\", \"https\", \"https\", \"idiot\", \"idiot\", \"im\", \"imagine\", \"individuals\", \"information\", \"issues\", \"jail\", \"jesus\", \"job\", \"job\", \"job\", \"jobs\", \"john\", \"john\", \"judge\", \"juice\", \"june\", \"kill\", \"king\", \"law\", \"law\", \"lawsuits\", \"lemmings\", \"let\", \"let\", \"let\", \"level\", \"liberals\", \"liberties\", \"liberty\", \"libtards\", \"lie\", \"life\", \"life\", \"life\", \"line\", \"list\", \"listening\", \"lives\", \"lives\", \"living\", \"lol\", \"lol\", \"lol\", \"look\", \"looks\", \"lot\", \"mail\", \"man\", \"man\", \"mask\", \"mask\", \"mask\", \"mask\", \"mask\", \"masks\", \"masks\", \"mayor\", \"mayor\", \"media\", \"media\", \"members\", \"mess\", \"message\", \"michigan\", \"mind\", \"mine\", \"money\", \"money\", \"money\", \"money\", \"money\", \"months\", \"move\", \"msm\", \"murder\", \"murder\", \"mute\", \"n\", \"name\", \"nazi\", \"need\", \"need\", \"needs\", \"needs\", \"neighbors\", \"news\", \"news\", \"news\", \"newsom\", \"night\", \"nope\", \"nothing\", \"nothing\", \"numbers\", \"numbers\", \"office\", \"office\", \"office\", \"officer\", \"officers\", \"officials\", \"oh\", \"ok\", \"operation\", \"opinion\", \"order\", \"order\", \"order\", \"organization\", \"others\", \"owners\", \"patriots\", \"pay\", \"pay\", \"pay\", \"pay\", \"people\", \"people\", \"people\", \"people\", \"people\", \"percent\", \"period\", \"person\", \"person\", \"person\", \"phrase\", \"piece\", \"place\", \"place\", \"places\", \"places\", \"places\", \"plan\", \"play\", \"please\", \"pocket\", \"point\", \"police\", \"police\", \"police\", \"police\", \"politicians\", \"politicians\", \"pos\", \"power\", \"power\", \"power\", \"prisoners\", \"privacy\", \"problem\", \"problem\", \"problem\", \"problem\", \"propaganda\", \"propaganda\", \"property\", \"question\", \"question\", \"raise\", \"rate\", \"reason\", \"reason\", \"reason\", \"refuse\", \"republicans\", \"rest\", \"results\", \"right\", \"right\", \"rights\", \"rights\", \"riots\", \"riots\", \"riots\", \"riots\", \"rise\", \"rope\", \"rules\", \"rules\", \"scott\", \"security\", \"see\", \"see\", \"see\", \"see\", \"see\", \"see\", \"see\", \"service\", \"shame\", \"sheep\", \"sheeple\", \"shit\", \"shit\", \"shit\", \"shop\", \"shove\", \"show\", \"shows\", \"shut\", \"sign\", \"someone\", \"someone\", \"someone\", \"something\", \"something\", \"something\", \"soros\", \"sorry\", \"sounds\", \"space\", \"start\", \"state\", \"state\", \"state\", \"state\", \"states\", \"states\", \"stay\", \"stick\", \"stop\", \"stop\", \"stop\", \"stop\", \"store\", \"streets\", \"suit\", \"support\", \"support\", \"tactics\", \"take\", \"talks\", \"tasks\", \"taxes\", \"tell\", \"tell\", \"tell\", \"tell\", \"term\", \"terms\", \"texan\", \"texas\", \"texas\", \"th\", \"thank\", \"thanks\", \"thats\", \"thats\", \"thing\", \"thing\", \"thing\", \"thing\", \"thing\", \"think\", \"think\", \"think\", \"ties\", \"time\", \"time\", \"time\", \"time\", \"times\", \"times\", \"trace\", \"tracers\", \"tracks\", \"trip\", \"trump\", \"trump\", \"trump\", \"trump\", \"trust\", \"truth\", \"try\", \"tv\", \"tx\", \"tyranny\", \"understand\", \"unemployment\", \"unemployment\", \"use\", \"use\", \"vaccine\", \"version\", \"violence\", \"virus\", \"virus\", \"virus\", \"vote\", \"voting\", \"wait\", \"war\", \"waste\", \"waste\", \"wasting\", \"watch\", \"watch\", \"watch\", \"way\", \"way\", \"way\", \"way\", \"wear\", \"weekend\", \"weekend\", \"woman\", \"woman\", \"woman\", \"word\", \"words\", \"work\", \"work\", \"work\", \"work\", \"work\", \"works\", \"world\", \"world\", \"wow\", \"ya\", \"yabba\", \"yeah\", \"year\", \"years\", \"years\", \"years\", \"years\", \"yep\", \"yes\", \"yesterday\", \"youtu\"]}, \"R\": 30, \"lambda.step\": 0.01, \"plot.opts\": {\"xlab\": \"PC1\", \"ylab\": \"PC2\"}, \"topic.order\": [6, 7, 5, 3, 1, 8, 4, 2]};\n",
       "\n",
       "function LDAvis_load_lib(url, callback){\n",
       "  var s = document.createElement('script');\n",
       "  s.src = url;\n",
       "  s.async = true;\n",
       "  s.onreadystatechange = s.onload = callback;\n",
       "  s.onerror = function(){console.warn(\"failed to load library \" + url);};\n",
       "  document.getElementsByTagName(\"head\")[0].appendChild(s);\n",
       "}\n",
       "\n",
       "if(typeof(LDAvis) !== \"undefined\"){\n",
       "   // already loaded: just create the visualization\n",
       "   !function(LDAvis){\n",
       "       new LDAvis(\"#\" + \"ldavis_el568852940050722570714160\", ldavis_el568852940050722570714160_data);\n",
       "   }(LDAvis);\n",
       "}else if(typeof define === \"function\" && define.amd){\n",
       "   // require.js is available: use it to load d3/LDAvis\n",
       "   require.config({paths: {d3: \"https://cdnjs.cloudflare.com/ajax/libs/d3/3.5.5/d3.min\"}});\n",
       "   require([\"d3\"], function(d3){\n",
       "      window.d3 = d3;\n",
       "      LDAvis_load_lib(\"https://cdn.rawgit.com/bmabey/pyLDAvis/files/ldavis.v1.0.0.js\", function(){\n",
       "        new LDAvis(\"#\" + \"ldavis_el568852940050722570714160\", ldavis_el568852940050722570714160_data);\n",
       "      });\n",
       "    });\n",
       "}else{\n",
       "    // require.js not available: dynamically load d3 & LDAvis\n",
       "    LDAvis_load_lib(\"https://cdnjs.cloudflare.com/ajax/libs/d3/3.5.5/d3.min.js\", function(){\n",
       "         LDAvis_load_lib(\"https://cdn.rawgit.com/bmabey/pyLDAvis/files/ldavis.v1.0.0.js\", function(){\n",
       "                 new LDAvis(\"#\" + \"ldavis_el568852940050722570714160\", ldavis_el568852940050722570714160_data);\n",
       "            })\n",
       "         });\n",
       "}\n",
       "</script>"
      ],
      "text/plain": [
       "PreparedData(topic_coordinates=              x         y  topics  cluster       Freq\n",
       "topic                                                \n",
       "5      0.169088  0.020293       1        1  14.300921\n",
       "6      0.075764 -0.032283       2        1  13.989176\n",
       "4      0.083937 -0.049201       3        1  13.260673\n",
       "2      0.019650  0.022856       4        1  13.193485\n",
       "0      0.052844  0.003770       5        1  12.426246\n",
       "7     -0.127426  0.248363       6        1  12.312643\n",
       "3     -0.192880 -0.150409       7        1  10.533471\n",
       "1     -0.080978 -0.063388       8        1   9.983380, topic_info=     Category        Freq      Term       Total  loglift  logprob\n",
       "3     Default  110.000000  business  110.000000  30.0000  30.0000\n",
       "8     Default  295.000000    people  295.000000  29.0000  29.0000\n",
       "222   Default   75.000000       law   75.000000  28.0000  28.0000\n",
       "75    Default   87.000000       way   87.000000  27.0000  27.0000\n",
       "980   Default   52.000000      vote   52.000000  26.0000  26.0000\n",
       "...       ...         ...       ...         ...      ...      ...\n",
       "1130   Topic8    7.635066       pay   12.844496   1.7841  -5.3612\n",
       "113    Topic8   10.991541      mask   87.433815   0.2305  -4.9968\n",
       "363    Topic8    9.203322    rights   40.865322   0.8135  -5.1744\n",
       "180    Topic8    8.794625     thing   54.172737   0.4862  -5.2198\n",
       "488    Topic8    8.265258       get   33.849125   0.8944  -5.2819\n",
       "\n",
       "[417 rows x 6 columns], token_table=      Topic      Freq       Term\n",
       "term                            \n",
       "1677      1  0.310630     abbott\n",
       "1677      4  0.676076     abbott\n",
       "4363      6  0.969039   abnormal\n",
       "3857      2  0.934941     accept\n",
       "56        4  0.970806    actions\n",
       "...     ...       ...        ...\n",
       "417       8  0.094866      years\n",
       "1273      7  0.927000        yep\n",
       "269       2  0.972076        yes\n",
       "258       1  0.898526  yesterday\n",
       "748       6  0.944296      youtu\n",
       "\n",
       "[539 rows x 3 columns], R=30, lambda_step=0.01, plot_opts={'xlab': 'PC1', 'ylab': 'PC2'}, topic_order=[6, 7, 5, 3, 1, 8, 4, 2])"
      ]
     },
     "execution_count": 35,
     "metadata": {},
     "output_type": "execute_result"
    }
   ],
   "source": [
    "pyLDAvis.enable_notebook()\n",
    "vis = pyLDAvis.gensim.prepare(ldamodel, corpus_dic, dictionary)\n",
    "vis"
   ]
  },
  {
   "cell_type": "code",
   "execution_count": 36,
   "metadata": {},
   "outputs": [
    {
     "name": "stdout",
     "output_type": "stream",
     "text": [
      "\n",
      "Coherence Score:  0.5739180413622404\n"
     ]
    }
   ],
   "source": [
    "coherence_model_lda = CoherenceModel(model=ldamodel, texts=corpus['nouns'], dictionary=dictionary, coherence='c_v')\n",
    "coherence_lda = coherence_model_lda.get_coherence()\n",
    "print('\\nCoherence Score: ', coherence_lda)"
   ]
  },
  {
   "cell_type": "code",
   "execution_count": 37,
   "metadata": {},
   "outputs": [],
   "source": [
    "#assigning a topic classification to each post or comment\n",
    "topics = []\n",
    "for i, row in enumerate(ldamodel[corpus_dic]):\n",
    "    one_line = []\n",
    "    for j, k in enumerate(row):\n",
    "        one_line.append(k[1])\n",
    "    topics.append(one_line)\n",
    "        \n",
    "gensim_topics_df = pd.DataFrame(topics)\n",
    "corpus['gensim_topics_8'] = np.argmax(gensim_topics_df.values, axis = 1)"
   ]
  },
  {
   "cell_type": "code",
   "execution_count": 38,
   "metadata": {},
   "outputs": [
    {
     "data": {
      "text/html": [
       "<div>\n",
       "<style scoped>\n",
       "    .dataframe tbody tr th:only-of-type {\n",
       "        vertical-align: middle;\n",
       "    }\n",
       "\n",
       "    .dataframe tbody tr th {\n",
       "        vertical-align: top;\n",
       "    }\n",
       "\n",
       "    .dataframe thead th {\n",
       "        text-align: right;\n",
       "    }\n",
       "</style>\n",
       "<table border=\"1\" class=\"dataframe\">\n",
       "  <thead>\n",
       "    <tr style=\"text-align: right;\">\n",
       "      <th></th>\n",
       "      <th>Permalink</th>\n",
       "      <th>full_text</th>\n",
       "      <th>text</th>\n",
       "      <th>tokenized_text</th>\n",
       "      <th>nouns</th>\n",
       "      <th>nouns_adj</th>\n",
       "      <th>gensim_topics_14</th>\n",
       "      <th>gensim_topics_8</th>\n",
       "    </tr>\n",
       "  </thead>\n",
       "  <tbody>\n",
       "    <tr>\n",
       "      <th>1</th>\n",
       "      <td>1462379490609461</td>\n",
       "      <td>I’ve never seen this much unrest in the states...</td>\n",
       "      <td>never seen much unrest states anyone else</td>\n",
       "      <td>[never, seen, much, unrest, states, anyone, else]</td>\n",
       "      <td>[states, anyone]</td>\n",
       "      <td>[much, unrest, states, anyone]</td>\n",
       "      <td>2</td>\n",
       "      <td>2</td>\n",
       "    </tr>\n",
       "    <tr>\n",
       "      <th>2</th>\n",
       "      <td>1462715223909221</td>\n",
       "      <td>ATTENTION BUSINESS OWNERS AND ALL THE MASKED P...</td>\n",
       "      <td>attention business owners masked people severi...</td>\n",
       "      <td>[attention, business, owners, masked, people, ...</td>\n",
       "      <td>[attention, business, owners, people, severity...</td>\n",
       "      <td>[attention, business, owners, people, severity...</td>\n",
       "      <td>4</td>\n",
       "      <td>6</td>\n",
       "    </tr>\n",
       "    <tr>\n",
       "      <th>3</th>\n",
       "      <td>1461150450732365</td>\n",
       "      <td>This is whats wrong with attention seeking mil...</td>\n",
       "      <td>whats wrong attention seeking millenials young...</td>\n",
       "      <td>[whats, wrong, attention, seeking, millenials,...</td>\n",
       "      <td>[whats, attention, millenials, woman, geco, co...</td>\n",
       "      <td>[whats, wrong, attention, millenials, young, w...</td>\n",
       "      <td>4</td>\n",
       "      <td>3</td>\n",
       "    </tr>\n",
       "    <tr>\n",
       "      <th>4</th>\n",
       "      <td>1462158127298264</td>\n",
       "      <td>Upset Californian Conservative</td>\n",
       "      <td>upset californian conservative</td>\n",
       "      <td>[upset, californian, conservative]</td>\n",
       "      <td>[]</td>\n",
       "      <td>[upset, californian, conservative]</td>\n",
       "      <td>0</td>\n",
       "      <td>0</td>\n",
       "    </tr>\n",
       "    <tr>\n",
       "      <th>5</th>\n",
       "      <td>1462708023909941</td>\n",
       "      <td>Live Stream. CREW dragon launch.</td>\n",
       "      <td>live stream crew dragon launch</td>\n",
       "      <td>[live, stream, crew, dragon, launch]</td>\n",
       "      <td>[stream, crew, dragon, launch]</td>\n",
       "      <td>[live, stream, crew, dragon, launch]</td>\n",
       "      <td>2</td>\n",
       "      <td>2</td>\n",
       "    </tr>\n",
       "  </tbody>\n",
       "</table>\n",
       "</div>"
      ],
      "text/plain": [
       "          Permalink                                          full_text  \\\n",
       "1  1462379490609461  I’ve never seen this much unrest in the states...   \n",
       "2  1462715223909221  ATTENTION BUSINESS OWNERS AND ALL THE MASKED P...   \n",
       "3  1461150450732365  This is whats wrong with attention seeking mil...   \n",
       "4  1462158127298264                     Upset Californian Conservative   \n",
       "5  1462708023909941                   Live Stream. CREW dragon launch.   \n",
       "\n",
       "                                                text  \\\n",
       "1          never seen much unrest states anyone else   \n",
       "2  attention business owners masked people severi...   \n",
       "3  whats wrong attention seeking millenials young...   \n",
       "4                     upset californian conservative   \n",
       "5                     live stream crew dragon launch   \n",
       "\n",
       "                                      tokenized_text  \\\n",
       "1  [never, seen, much, unrest, states, anyone, else]   \n",
       "2  [attention, business, owners, masked, people, ...   \n",
       "3  [whats, wrong, attention, seeking, millenials,...   \n",
       "4                 [upset, californian, conservative]   \n",
       "5               [live, stream, crew, dragon, launch]   \n",
       "\n",
       "                                               nouns  \\\n",
       "1                                   [states, anyone]   \n",
       "2  [attention, business, owners, people, severity...   \n",
       "3  [whats, attention, millenials, woman, geco, co...   \n",
       "4                                                 []   \n",
       "5                     [stream, crew, dragon, launch]   \n",
       "\n",
       "                                           nouns_adj  gensim_topics_14  \\\n",
       "1                     [much, unrest, states, anyone]                 2   \n",
       "2  [attention, business, owners, people, severity...                 4   \n",
       "3  [whats, wrong, attention, millenials, young, w...                 4   \n",
       "4                 [upset, californian, conservative]                 0   \n",
       "5               [live, stream, crew, dragon, launch]                 2   \n",
       "\n",
       "   gensim_topics_8  \n",
       "1                2  \n",
       "2                6  \n",
       "3                3  \n",
       "4                0  \n",
       "5                2  "
      ]
     },
     "execution_count": 38,
     "metadata": {},
     "output_type": "execute_result"
    }
   ],
   "source": [
    "corpus.head()"
   ]
  },
  {
   "cell_type": "code",
   "execution_count": null,
   "metadata": {},
   "outputs": [],
   "source": [
    "corpus.to_csv('./gansim_topics.csv', index = False)"
   ]
  }
 ],
 "metadata": {
  "kernelspec": {
   "display_name": "Python 3",
   "language": "python",
   "name": "python3"
  },
  "language_info": {
   "codemirror_mode": {
    "name": "ipython",
    "version": 3
   },
   "file_extension": ".py",
   "mimetype": "text/x-python",
   "name": "python",
   "nbconvert_exporter": "python",
   "pygments_lexer": "ipython3",
   "version": "3.7.4"
  }
 },
 "nbformat": 4,
 "nbformat_minor": 2
}
